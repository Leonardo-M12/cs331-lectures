{
  "cells": [
    {
      "metadata": {
        "state": "normal"
      },
      "cell_type": "markdown",
      "source": "# On Recursion"
    },
    {
      "metadata": {
        "state": "normal"
      },
      "cell_type": "markdown",
      "source": "## Agenda\n\n1. Recursion\n    - stopping recursion: simplification & base cases\n2. Recursive \"shapes\":\n    - Linear (single) recursion:\n        - Summation\n        - Factorial\n        - Binary search\n    - Tree (multiple) recursion: *divide and conquer*\n        - Fibonacci sequence\n        - Tower of Hanoi\n        - Merge sort\n        - Making change\n3. The Call Stack and Stack Frames\n    - simulating recursion\n    - debugging with `pdb` and `%debug`"
    },
    {
      "metadata": {
        "state": "normal"
      },
      "cell_type": "markdown",
      "source": "## 1. Recursion"
    },
    {
      "metadata": {
        "state": "normal"
      },
      "cell_type": "markdown",
      "source": "Recursive functions, directly or indirectly, call themselves. \n\nRecursive solutions are applicable when a problem can be broken down into more easily solved sub-problems that resemble the original, and whose solutions can then be combined.\n\nE.g., computing the combined price of a bunch of nested shopping bags of items:"
    },
    {
      "metadata": {
        "state": "normal",
        "trusted": true
      },
      "cell_type": "code",
      "source": "class Bag:\n    def __init__(self, price, *contents):\n        self.price = price\n        self.contents = contents",
      "execution_count": null,
      "outputs": []
    },
    {
      "metadata": {
        "state": "normal",
        "trusted": true
      },
      "cell_type": "code",
      "source": "bag1 = Bag(10)",
      "execution_count": null,
      "outputs": []
    },
    {
      "metadata": {
        "state": "normal",
        "trusted": true
      },
      "cell_type": "code",
      "source": "bag2 = Bag(5, Bag(3), Bag(7))",
      "execution_count": null,
      "outputs": []
    },
    {
      "metadata": {
        "state": "normal",
        "trusted": true
      },
      "cell_type": "code",
      "source": "bag3 = Bag(5, Bag(4, Bag(3)), Bag(2))",
      "execution_count": null,
      "outputs": []
    },
    {
      "metadata": {
        "state": "normal",
        "trusted": true
      },
      "cell_type": "code",
      "source": "bag4 = Bag(0, Bag(5), Bag(10), Bag(3, Bag(2), Bag(100)), Bag(9, Bag(2, Bag(25))))",
      "execution_count": null,
      "outputs": []
    },
    {
      "metadata": {
        "state": "normal",
        "trusted": true
      },
      "cell_type": "code",
      "source": "def price(bag):\n    return bag.price",
      "execution_count": null,
      "outputs": []
    },
    {
      "metadata": {
        "state": "normal",
        "trusted": true
      },
      "cell_type": "code",
      "source": "price(bag1)",
      "execution_count": null,
      "outputs": []
    },
    {
      "metadata": {
        "state": "normal"
      },
      "cell_type": "markdown",
      "source": "### Stopping recursion: simplification & base case(s)"
    },
    {
      "metadata": {
        "state": "normal",
        "trusted": true
      },
      "cell_type": "code",
      "source": "import sys\nsys.setrecursionlimit(200)",
      "execution_count": null,
      "outputs": []
    },
    {
      "metadata": {
        "state": "normal",
        "trusted": true
      },
      "cell_type": "code",
      "source": "def silly_rec(n):\n    # print(n)\n    silly_rec(n)",
      "execution_count": null,
      "outputs": []
    },
    {
      "metadata": {
        "state": "normal",
        "trusted": true
      },
      "cell_type": "code",
      "source": "silly_rec(10)",
      "execution_count": null,
      "outputs": []
    },
    {
      "metadata": {
        "state": "normal"
      },
      "cell_type": "markdown",
      "source": "## 2. Recursive \"shapes\""
    },
    {
      "metadata": {
        "state": "normal"
      },
      "cell_type": "markdown",
      "source": "### Linear recursion"
    },
    {
      "metadata": {
        "state": "normal"
      },
      "cell_type": "markdown",
      "source": "#### Example: Sum (of input ≥ 0)\n\n$sum(n) = \\begin{cases}\n        0 & \\text{if}\\ n=0 \\\\\n        n + sum(n-1) & \\text{if}\\ n>0\n      \\end{cases}$\n\n\nE.g., \n\n$\n\\begin{align}\nsum(5) & = 5 + sum(4)\\\\\n       & = 5 + 4 + sum(3)\\\\\n       & = 5 + 4 + 3 + sum(2)\\\\\n       & = 5 + 4 + 3 + 2 + sum(1)\\\\\n       & = 5 + 4 + 3 + 2 + 1 + sum(0)\\\\\n       & = 5 + 4 + 3 + 2 + 1 + 0\n\\end{align}\n$"
    },
    {
      "metadata": {
        "state": "normal",
        "trusted": true
      },
      "cell_type": "code",
      "source": "def sum(n):\n    pass",
      "execution_count": null,
      "outputs": []
    },
    {
      "metadata": {
        "state": "normal",
        "trusted": true
      },
      "cell_type": "code",
      "source": "sum(5)",
      "execution_count": null,
      "outputs": []
    },
    {
      "metadata": {
        "state": "normal"
      },
      "cell_type": "markdown",
      "source": "#### Example: Factorial\n\n$n! = \\begin{cases}\n        1 & \\text{if}\\ n=0 \\\\\n        n \\cdot (n-1)! & \\text{if}\\ n>0\n      \\end{cases}$"
    },
    {
      "metadata": {
        "state": "normal",
        "trusted": true
      },
      "cell_type": "code",
      "source": "def factorial(n):\n    pass",
      "execution_count": null,
      "outputs": []
    },
    {
      "metadata": {
        "state": "normal",
        "trusted": true
      },
      "cell_type": "code",
      "source": "factorial(5)",
      "execution_count": null,
      "outputs": []
    },
    {
      "metadata": {
        "state": "normal"
      },
      "cell_type": "markdown",
      "source": "#### Example: Binary search"
    },
    {
      "metadata": {
        "state": "normal",
        "trusted": true
      },
      "cell_type": "code",
      "source": "def bin_search(x, lst):\n    #print(lst)\n    pass",
      "execution_count": null,
      "outputs": []
    },
    {
      "metadata": {
        "state": "normal",
        "trusted": true
      },
      "cell_type": "code",
      "source": "bin_search(25, list(range(100)))",
      "execution_count": null,
      "outputs": []
    },
    {
      "metadata": {
        "state": "normal",
        "trusted": true
      },
      "cell_type": "code",
      "source": "bin_search(99, list(range(100)))",
      "execution_count": null,
      "outputs": []
    },
    {
      "metadata": {
        "state": "normal",
        "trusted": true
      },
      "cell_type": "code",
      "source": "bin_search(100, list(range(100)))",
      "execution_count": null,
      "outputs": []
    },
    {
      "metadata": {
        "state": "normal"
      },
      "cell_type": "markdown",
      "source": "### Tree recursion"
    },
    {
      "metadata": {
        "state": "normal"
      },
      "cell_type": "markdown",
      "source": "#### Example: Fibonacci numbers\n\n$fib(n) = \\begin{cases}\n            0 & \\text{if}\\ n=0 \\\\\n            1 & \\text{if}\\ n=1 \\\\\n            fib(n-1) + fib(n-2) & \\text{otherwise}\n          \\end{cases}$\n          \ni.e., 0, 1, 1, 2, 3, 5, 8, 13, 21, ..."
    },
    {
      "metadata": {
        "state": "normal",
        "trusted": true
      },
      "cell_type": "code",
      "source": "def fib(n):\n    print('n = ', n)\n    pass",
      "execution_count": null,
      "outputs": []
    },
    {
      "metadata": {
        "state": "normal",
        "trusted": true
      },
      "cell_type": "code",
      "source": "fib(5)",
      "execution_count": null,
      "outputs": []
    },
    {
      "metadata": {
        "state": "normal"
      },
      "cell_type": "markdown",
      "source": "#### Example: Tower of Hanoi\n\nSetup: three rods, with one or more discs of different sizes all stacked on one rod, smallest (top) to largest (bottom). E.g.,\n\n         ||          ||          ||     \n         ==          ||          ||     \n        ====         ||          ||     \n       ======        ||          ||     \n    ------------------------------------\n    \nGoal: move all the discs, one by one, to another rod, with the rules being that (1) only smaller discs can be stacked on larger ones and (2) only the top disc in a stack can be moved to another rod.\n\nFor three discs, as shown above, we would carry out the following sequence to move the stack to the rightmost rod. The rods are abbreviated L (left), M (middle), R (right):\n1. Move the small disc (0) from L to R\n2. Move the medium disc (1) from L to M\n3. Move 0 from R to M (R is empty)\n4. Move the large disc (2) from L to R\n5. Move 0 from M to L\n6. Move 1 from M to R\n7. Move 0 from L to R (done)\n\nCan you come up with the sequence needed to move a stack of 4 discs from one rod to another? 5 discs? An arbitrary number of discs?"
    },
    {
      "metadata": {
        "state": "normal",
        "trusted": true
      },
      "cell_type": "code",
      "source": "height = 3\ntowers = [[] for _ in range(3)]\ntowers[0] = list(range(height, 0, -1))",
      "execution_count": null,
      "outputs": []
    },
    {
      "metadata": {
        "state": "normal",
        "trusted": true
      },
      "cell_type": "code",
      "source": "towers",
      "execution_count": null,
      "outputs": []
    },
    {
      "metadata": {
        "state": "normal",
        "trusted": true
      },
      "cell_type": "code",
      "source": "from time import sleep\nfrom IPython.display import clear_output\n\ndef display():\n    clear_output(True)\n    print('{:^12}'.format('||') * 3)\n    for level in range(height, 0, -1):\n        for t in towers:\n            try:\n                print('{:^12}'.format('==' * t[level-1]), end='')\n            except IndexError:\n                print('{:^12}'.format('||'), end='')\n        print()\n    print('-' * 36)\n    sleep(1)",
      "execution_count": null,
      "outputs": []
    },
    {
      "metadata": {
        "state": "normal",
        "trusted": true
      },
      "cell_type": "code",
      "source": "display()",
      "execution_count": null,
      "outputs": []
    },
    {
      "metadata": {
        "state": "normal",
        "trusted": true
      },
      "cell_type": "code",
      "source": "def move(frm, to):\n    towers[to].append(towers[frm].pop(-1))\n    display()",
      "execution_count": null,
      "outputs": []
    },
    {
      "metadata": {
        "trusted": true
      },
      "cell_type": "code",
      "source": "move(0, 2)",
      "execution_count": null,
      "outputs": []
    },
    {
      "metadata": {
        "state": "normal",
        "trusted": true
      },
      "cell_type": "code",
      "source": "def hanoi(frm, to, using, levels):\n    pass",
      "execution_count": null,
      "outputs": []
    },
    {
      "metadata": {
        "state": "normal",
        "trusted": true
      },
      "cell_type": "code",
      "source": "height = 4\ntowers = [[] for _ in range(3)]\ntowers[0] = list(range(height, 0, -1))\n\nhanoi(0, 2, 1, height)",
      "execution_count": null,
      "outputs": []
    },
    {
      "metadata": {
        "state": "normal"
      },
      "cell_type": "markdown",
      "source": "#### Example: Mergesort"
    },
    {
      "metadata": {
        "state": "normal",
        "trusted": true
      },
      "cell_type": "code",
      "source": "def merge(l1, l2): # O(N), where N is the number of elements in the two lists\n    merged = []\n    i1 = i2 = 0\n    while i1 < len(l1) or i2 < len(l2):\n        if i2 == len(l2) or (i1 < len(l1) \n                             and l1[i1] < l2[i2]):\n            merged.append(l1[i1])\n            i1 += 1\n        else:\n            merged.append(l2[i2])\n            i2 += 1\n    return merged",
      "execution_count": null,
      "outputs": []
    },
    {
      "metadata": {
        "state": "normal",
        "trusted": true
      },
      "cell_type": "code",
      "source": "l1 = [1, 5, 9]\nl2 = [2, 6, 8, 11]\nmerge(l1, l2)",
      "execution_count": null,
      "outputs": []
    },
    {
      "metadata": {
        "state": "normal",
        "trusted": true
      },
      "cell_type": "code",
      "source": "def mergesort(lst):\n    pass",
      "execution_count": null,
      "outputs": []
    },
    {
      "metadata": {
        "state": "normal",
        "trusted": true
      },
      "cell_type": "code",
      "source": "import random\nlst = list(range(10))\nrandom.shuffle(lst)\nlst",
      "execution_count": null,
      "outputs": []
    },
    {
      "metadata": {
        "state": "normal",
        "trusted": true
      },
      "cell_type": "code",
      "source": "mergesort(lst)",
      "execution_count": null,
      "outputs": []
    },
    {
      "metadata": {
        "state": "normal",
        "trusted": true
      },
      "cell_type": "code",
      "source": "def insertion_sort(lst):\n    for i in range(1, len(lst)):\n        for j in range(i, 0, -1):\n            if lst[j-1] > lst[j]:\n                lst[j-1], lst[j] = lst[j], lst[j-1] # swap\n            else:\n                break   ",
      "execution_count": null,
      "outputs": []
    },
    {
      "metadata": {
        "state": "normal",
        "trusted": true
      },
      "cell_type": "code",
      "source": "def heapsort(iterable):\n    heap = Heap()\n    for x in iterable:\n        heap.add(x)\n    sorted_lst = []\n    while heap:\n        sorted_lst.append(heap.pop_max())\n    sorted_lst.reverse()\n    return sorted_lst\n\nclass Heap:\n    def __init__(self):\n        self.data = []\n    \n    @staticmethod\n    def _parent(idx):\n        return (idx - 1) // 2\n    \n    @staticmethod\n    def _left(idx):\n        return idx*2 + 1\n    \n    @staticmethod\n    def _right(idx):\n        return idx*2 + 2\n\n    def add(self, x):\n        self.data.append(x) # O(1)\n        i = len(self.data) - 1\n        while i > 0:\n            p = Heap._parent(i)\n            if self.data[i] > self.data[p]:\n                self.data[i], self.data[p] = self.data[p], self.data[i]\n                i = p\n            else:\n                break\n    \n    def max(self):\n        return self.data[0]\n\n    def pop_max(self):\n        m = self.data[0]\n        self.data[0] = self.data[-1]\n        del self.data[-1]\n        i = 0\n        while i < len(self.data):\n            l = Heap._left(i)\n            r = Heap._right(i)\n            mi = i\n            if l < len(self.data) and self.data[l] > self.data[i]:\n                mi = l\n            if r < len(self.data) and self.data[r] > self.data[mi]:\n                mi = r\n            if mi != i:\n                self.data[i], self.data[mi] = self.data[mi], self.data[i]\n                i = mi\n            else:\n                break\n        return m\n    \n    def __bool__(self):\n        return len(self.data) > 0\n\n    def __len__(self):\n        return len(self.data)",
      "execution_count": null,
      "outputs": []
    },
    {
      "metadata": {
        "state": "normal",
        "trusted": true
      },
      "cell_type": "code",
      "source": "import timeit\nimport random\ninsertionsort_times = []\nheapsort_times = []\nmergesort_times = []\nfor size in range(100, 3000, 100):\n    insertionsort_times.append(timeit.timeit(stmt='insertion_sort(lst)',\n                               setup='import random ; from __main__ import insertion_sort ; '\n                                         'lst = [random.random() for _ in range({})]'.format(size),\n                               number=1))\n    heapsort_times.append(timeit.timeit(stmt='heapsort(lst)',\n                               setup='import random ; from __main__ import heapsort ; '\n                                         'lst = [random.random() for _ in range({})]'.format(size),\n                               number=1))\n    mergesort_times.append(timeit.timeit(stmt='mergesort(lst)'.format(size),\n                               setup='import random ; from __main__ import mergesort ; '\n                                         'lst = [random.random() for _ in range({})]'.format(size),\n                               number=1))",
      "execution_count": null,
      "outputs": []
    },
    {
      "metadata": {
        "state": "normal",
        "trusted": true
      },
      "cell_type": "code",
      "source": "%matplotlib inline\nimport matplotlib.pyplot as plt\nplt.plot(insertionsort_times, 'ro')\nplt.plot(heapsort_times, 'b^')\nplt.plot(mergesort_times, 'gs');",
      "execution_count": null,
      "outputs": []
    },
    {
      "metadata": {
        "state": "normal"
      },
      "cell_type": "markdown",
      "source": "#### Example: Making Change\n\nQuestion: how many different ways are there of making up a specified amount of money, given a list of available denominations?\n\nE.g., how many ways of making 10 cents, given 1c, 5c, 10c, 25c coins?"
    },
    {
      "metadata": {
        "state": "normal",
        "trusted": true
      },
      "cell_type": "code",
      "source": "def change(amount, denoms):\n    pass",
      "execution_count": null,
      "outputs": []
    },
    {
      "metadata": {
        "state": "normal",
        "trusted": true
      },
      "cell_type": "code",
      "source": "change(5, (1, 5, 10, 25))",
      "execution_count": null,
      "outputs": []
    },
    {
      "metadata": {
        "state": "normal",
        "trusted": true
      },
      "cell_type": "code",
      "source": "change(10, (1, 5, 10, 25))",
      "execution_count": null,
      "outputs": []
    },
    {
      "metadata": {
        "state": "normal",
        "trusted": true
      },
      "cell_type": "code",
      "source": "change(100, (1, 5, 10, 25))",
      "execution_count": null,
      "outputs": []
    },
    {
      "metadata": {
        "state": "normal"
      },
      "cell_type": "markdown",
      "source": "## 3. The Call Stack"
    },
    {
      "metadata": {
        "state": "normal"
      },
      "cell_type": "markdown",
      "source": "The *call stack* (aka. execution stack, run-time stack, etc.) is an instance of the stack data structure used to keep track of the state of active function calls in a running program. Each active function is allocated a *frame* on the stack, which contains information about the parameters, local variables, return values, and *return address* of that function.\n\nE.g., consider how a call stack would be used to carry out the function call `foo(2, 3)`, where `foo` is defined below."
    },
    {
      "metadata": {
        "state": "normal",
        "trusted": true
      },
      "cell_type": "code",
      "source": "def foo(x, y):\n    z = x + y\n    z += bar(x)\n    z += baz(y)\n    return z\n\ndef bar(xx):\n    z =  2 * xx\n    return z\n\ndef baz(yy):\n    z = yy ** 2\n    return z",
      "execution_count": null,
      "outputs": []
    },
    {
      "metadata": {
        "state": "normal",
        "trusted": true
      },
      "cell_type": "code",
      "source": "foo(2, 3)",
      "execution_count": null,
      "outputs": []
    },
    {
      "metadata": {
        "state": "normal"
      },
      "cell_type": "markdown",
      "source": "### Simulating a call to recursive `factorial`"
    },
    {
      "metadata": {
        "state": "normal",
        "trusted": true
      },
      "cell_type": "code",
      "source": "class Stack(list):\n    push  = list.append\n    pop   = lambda self: list.pop(self, -1)\n    peek  = lambda self: self[-1]\n    empty = lambda self: len(self) == 0",
      "execution_count": null,
      "outputs": []
    },
    {
      "metadata": {
        "state": "normal",
        "trusted": true
      },
      "cell_type": "code",
      "source": "call_stack = Stack()\n\ndef call(arg):\n    call_stack.push('<frame begin>')\n    call_stack.push(('arg', arg))\n\ndef get_arg():\n    return call_stack.peek()[-1]\n\ndef save_local(name, val):\n    call_stack.push(('local', name, val))\n    \ndef restore_local():\n    return call_stack.pop()[2]\n    \ndef return_with(val):\n    while call_stack.pop() != '<frame begin>':\n        pass\n    call_stack.push(('ret', val))\n    \ndef last_return_val():\n    return call_stack.pop()[-1]",
      "execution_count": null,
      "outputs": []
    },
    {
      "metadata": {
        "state": "normal",
        "trusted": true
      },
      "cell_type": "code",
      "source": "call(10) # initial call\nwhile True: # recursive calls\n    n = get_arg()\n    if n == 1:\n        return_with(1)\n        break\n    else:\n        save_local('n', n)\n        call(n-1)",
      "execution_count": null,
      "outputs": []
    },
    {
      "metadata": {
        "state": "normal",
        "trusted": true
      },
      "cell_type": "code",
      "source": "call_stack",
      "execution_count": null,
      "outputs": []
    },
    {
      "metadata": {
        "state": "normal",
        "trusted": true
      },
      "cell_type": "code",
      "source": "ret = last_return_val()\nn = restore_local()\nreturn_with(n * ret)\ncall_stack",
      "execution_count": null,
      "outputs": []
    },
    {
      "metadata": {
        "state": "normal"
      },
      "cell_type": "markdown",
      "source": "### Examining the call stack with `pdb` and `%debug`"
    },
    {
      "metadata": {
        "state": "normal",
        "trusted": true
      },
      "cell_type": "code",
      "source": "def factorial(n):\n    if n <= 1:\n        raise Exception('base case!')\n    else:\n        return n * factorial(n-1)",
      "execution_count": null,
      "outputs": []
    },
    {
      "metadata": {
        "state": "normal",
        "trusted": true
      },
      "cell_type": "code",
      "source": "factorial(10)",
      "execution_count": null,
      "outputs": []
    },
    {
      "metadata": {
        "state": "normal",
        "trusted": true
      },
      "cell_type": "code",
      "source": "%debug\n# commands to try:\n# help, where, args, p n, up, u 10, down, d 10, l, up 100, u, d (& enter to repeat)",
      "execution_count": null,
      "outputs": []
    },
    {
      "metadata": {
        "state": "normal",
        "trusted": true
      },
      "cell_type": "code",
      "source": "def bin_search(x, lst):\n    if len(lst) == 0:\n        return False\n    else:\n        mid = len(lst) // 2\n        if lst[mid] < x:\n            return bin_search(x, lst[mid+1:])\n        elif lst[mid] > x:\n            return bin_search(x, lst[:mid])\n        else:\n            import pdb ; pdb.set_trace() # <-- start debugging here\n            return True    ",
      "execution_count": null,
      "outputs": []
    },
    {
      "metadata": {
        "state": "normal",
        "trusted": true
      },
      "cell_type": "code",
      "source": "bin_search(20, list(range(100)))",
      "execution_count": null,
      "outputs": []
    }
  ],
  "metadata": {
    "kernelspec": {
      "name": "python3",
      "display_name": "Python 3",
      "language": "python"
    },
    "language_info": {
      "name": "python",
      "version": "3.7.3",
      "mimetype": "text/x-python",
      "codemirror_mode": {
        "name": "ipython",
        "version": 3
      },
      "pygments_lexer": "ipython3",
      "nbconvert_exporter": "python",
      "file_extension": ".py"
    },
    "mimir": {
      "project_id": "a34a94f3-896f-434b-962f-1ec01093d513",
      "last_submission_id": "",
      "data": {}
    },
    "varInspector": {
      "window_display": false,
      "cols": {
        "lenName": 16,
        "lenType": 16,
        "lenVar": 40
      },
      "kernels_config": {
        "python": {
          "library": "var_list.py",
          "delete_cmd_prefix": "del ",
          "delete_cmd_postfix": "",
          "varRefreshCmd": "print(var_dic_list())"
        },
        "r": {
          "library": "var_list.r",
          "delete_cmd_prefix": "rm(",
          "delete_cmd_postfix": ") ",
          "varRefreshCmd": "cat(var_dic_list()) "
        }
      },
      "types_to_exclude": [
        "module",
        "function",
        "builtin_function_or_method",
        "instance",
        "_Feature"
      ]
    }
  },
  "nbformat": 4,
  "nbformat_minor": 2
}