{
 "cells": [
  {
   "attachments": {},
   "cell_type": "markdown",
   "metadata": {},
   "source": [
    "# Python Language Intro (Part 1)"
   ]
  },
  {
   "attachments": {},
   "cell_type": "markdown",
   "metadata": {},
   "source": [
    "## Agenda\n",
    "\n",
    "1. Language overview\n",
    "2. White space sensitivity\n",
    "3. Basic Types and Operations\n",
    "4. Statements & Control Structures\n",
    "5. Functions\n",
    "6. OOP (Classes, Methods, etc.)\n",
    "7. Immutable Sequence Types (Strings, Ranges, Tuples)\n",
    "8. Mutable data structures: Lists, Sets, Dictionaries"
   ]
  },
  {
   "attachments": {},
   "cell_type": "markdown",
   "metadata": {},
   "source": [
    "## 1. Language overview\n",
    "\n",
    "Note: this is *not* a language course! Though I'll cover the important bits of the language (and standard library) that are relevant to class material, I expect you to master the language on your own time.\n",
    "\n",
    "Python ...\n",
    "\n",
    "- is *interpreted*\n",
    "    - an interpreter directly performs the actions indicated by the program. Never a **static** representation of the language in machine code.\n",
    "    - vs. compiled, which produces an executable that is then ran. Produces a **static** output.\n",
    "    - Good: easy to run a program.\n",
    "    - Bad: no executable, no sort of compiler optimization/checks.\n",
    "- is *dynamically-typed* (vs. statically typed)\n",
    "    - statically-typed: variables are assigned a type at initialization which cannot change. Enforced by the compiler.\n",
    "    - dynamically-typed: variables can change type during runtime\n",
    "    - Good: easy for prototyping, flexibility.\n",
    "    - Bad: no type information associated with variables. Especially relevant when designing functions.\n",
    "- is *automatically memory-managed* (garbage-collected)\n",
    "    - No necessity of explicitly deallocating or freeing memory\n",
    "- supports *procedural*, *object-oriented*, *imperative* and *functional* programming paradigms\n",
    "- is designed (mostly) by one man: Guido van Rossum (aka “benevolent dictator”), and therefore has a fairly *opinionated* design\n",
    "    - Good: cohesive, makes sense from one perspective.\n",
    "    - Bad: if you disagree, you have to deal with it\n",
    "- has a single reference implementation (CPython)\n",
    "- version 3 (the most recent version) is *not backwards-compatible* with version 2, though the latter is still widely used\n",
    "    - Why? Guido.\n",
    "- has an interesting programming philosophy: \"There should be one — and preferably only one — obvious way to do it.\" (a.k.a. the \"Pythonic\" way) — see [The Zen of Python](https://www.python.org/dev/peps/pep-0020/)"
   ]
  },
  {
   "attachments": {},
   "cell_type": "markdown",
   "metadata": {},
   "source": [
    "## 2. White Space Sensitivity"
   ]
  },
  {
   "attachments": {},
   "cell_type": "markdown",
   "metadata": {},
   "source": [
    "Python has no beginning/end block markers! Blocks must be correctly indented (4 spaces is the convention) to delineate them."
   ]
  },
  {
   "cell_type": "code",
   "execution_count": 1,
   "metadata": {},
   "outputs": [
    {
     "name": "stdout",
     "output_type": "stream",
     "text": [
      "In if-clause\n"
     ]
    }
   ],
   "source": [
    "if 1 < 5:\n",
    "    print('In if-clause')\n",
    "else:\n",
    "    print('In else-clause')"
   ]
  },
  {
   "cell_type": "code",
   "execution_count": null,
   "metadata": {},
   "outputs": [],
   "source": [
    "for x in range(5):\n",
    "    print('In for loop body')"
   ]
  },
  {
   "cell_type": "code",
   "execution_count": null,
   "metadata": {},
   "outputs": [],
   "source": [
    "def foo():\n",
    "    print('In function definition')"
   ]
  },
  {
   "attachments": {},
   "cell_type": "markdown",
   "metadata": {},
   "source": [
    "## 3. Basic Types and Operations"
   ]
  },
  {
   "attachments": {},
   "cell_type": "markdown",
   "metadata": {},
   "source": [
    "In Python, **variables do not have types**. *Values* have types (though they are not explicitly declared). A variable can be assigned different types of values over its lifetime."
   ]
  },
  {
   "cell_type": "code",
   "execution_count": 2,
   "metadata": {},
   "outputs": [
    {
     "name": "stdout",
     "output_type": "stream",
     "text": [
      "<class 'int'>\n",
      "<class 'float'>\n",
      "<class 'str'>\n"
     ]
    }
   ],
   "source": [
    "a = 2 # starts out an integer\n",
    "print(type(a)) # the `type` function tells us the type of a value\n",
    "\n",
    "a = 1.5\n",
    "print(type(a))\n",
    "\n",
    "a = 'hello'\n",
    "print(type(a))"
   ]
  },
  {
   "attachments": {},
   "cell_type": "markdown",
   "metadata": {},
   "source": [
    "Note that all the types reported are *classes*. I.e., even types we are accustomed to thinking of as \"primitives\" (e.g., integers in Java) are actually instances of classes. **All values in Python are objects!**\n",
    "\n",
    "There is no dichotomy between \"primitive\" and \"reference\" types in Python. **All variables in Python store references to objects.** "
   ]
  },
  {
   "attachments": {},
   "cell_type": "markdown",
   "metadata": {},
   "source": [
    "### Digression: On Notebook Evaluation"
   ]
  },
  {
   "attachments": {},
   "cell_type": "markdown",
   "metadata": {},
   "source": [
    "Upon running a cell in a notebook, the \"result\" displayed (by default) is the value obtained by evaluating the *last expression* in the cell. If the last construct in a cell is not an expression (e.g., a statement), or the expression evaluates to `None` (more on this later), then no result is shown."
   ]
  },
  {
   "cell_type": "code",
   "execution_count": 3,
   "metadata": {},
   "outputs": [
    {
     "data": {
      "text/plain": [
       "3"
      ]
     },
     "execution_count": 3,
     "metadata": {},
     "output_type": "execute_result"
    }
   ],
   "source": [
    "1 + 2"
   ]
  },
  {
   "cell_type": "code",
   "execution_count": 4,
   "metadata": {},
   "outputs": [
    {
     "data": {
      "text/plain": [
       "6"
      ]
     },
     "execution_count": 4,
     "metadata": {},
     "output_type": "execute_result"
    }
   ],
   "source": [
    "1 + 2\n",
    "2 * 3"
   ]
  },
  {
   "attachments": {},
   "cell_type": "markdown",
   "metadata": {},
   "source": [
    "*Output* (e.g., produced by `print`) is shown separately from the cell's result. Multiple outputs are all collected together and shown in the same output area for a given cell."
   ]
  },
  {
   "cell_type": "code",
   "execution_count": 5,
   "metadata": {},
   "outputs": [
    {
     "name": "stdout",
     "output_type": "stream",
     "text": [
      "3\n",
      "6\n"
     ]
    },
    {
     "data": {
      "text/plain": [
       "0.8"
      ]
     },
     "execution_count": 5,
     "metadata": {},
     "output_type": "execute_result"
    }
   ],
   "source": [
    "print(1 + 2)\n",
    "print(2 * 3)\n",
    "4 / 5"
   ]
  },
  {
   "attachments": {},
   "cell_type": "markdown",
   "metadata": {},
   "source": [
    "If we'd like to see the result of multiple expressions in a cell, we will often group expressions together in parentheses, which creates an aggregate value known as a *tuple*."
   ]
  },
  {
   "cell_type": "code",
   "execution_count": 6,
   "metadata": {},
   "outputs": [
    {
     "data": {
      "text/plain": [
       "(3, 6, 0.8)"
      ]
     },
     "execution_count": 6,
     "metadata": {},
     "output_type": "execute_result"
    }
   ],
   "source": [
    "(1+2, 2*3, 4/5)"
   ]
  },
  {
   "cell_type": "code",
   "execution_count": 7,
   "metadata": {},
   "outputs": [
    {
     "data": {
      "text/plain": [
       "(42, False, 'helloworld')"
      ]
     },
     "execution_count": 7,
     "metadata": {},
     "output_type": "execute_result"
    }
   ],
   "source": [
    "(6*7, not True, 'hello' + 'world')"
   ]
  },
  {
   "attachments": {},
   "cell_type": "markdown",
   "metadata": {},
   "source": [
    "### Numbers"
   ]
  },
  {
   "cell_type": "code",
   "execution_count": 1,
   "metadata": {},
   "outputs": [
    {
     "data": {
      "text/plain": [
       "(1, 500, -123456789, 6598293784982739874982734)"
      ]
     },
     "execution_count": 1,
     "metadata": {},
     "output_type": "execute_result"
    }
   ],
   "source": [
    "# int: integers, unlimited precision\n",
    "(\n",
    "    1,\n",
    "    500,\n",
    "    -123456789,\n",
    "    6598293784982739874982734\n",
    ")"
   ]
  },
  {
   "cell_type": "code",
   "execution_count": 2,
   "metadata": {},
   "outputs": [
    {
     "data": {
      "text/plain": [
       "(3, -1, 6, 14, 0.4, 8, 25)"
      ]
     },
     "execution_count": 2,
     "metadata": {},
     "output_type": "execute_result"
    }
   ],
   "source": [
    "# basic operations\n",
    "(\n",
    "    1 + 2,\n",
    "    1 - 2,\n",
    "    2 * 3,\n",
    "    2 * 3 + 2 * 4,\n",
    "    2 / 5,\n",
    "    2 ** 3, # exponentiation\n",
    "    abs(-25)\n",
    ")"
   ]
  },
  {
   "cell_type": "code",
   "execution_count": 3,
   "metadata": {},
   "outputs": [
    {
     "data": {
      "text/plain": [
       "(1, 3)"
      ]
     },
     "execution_count": 3,
     "metadata": {},
     "output_type": "execute_result"
    }
   ],
   "source": [
    "# modulus (remainder) and integer division\n",
    "(\n",
    "    10 % 3,\n",
    "    10 // 3\n",
    ")"
   ]
  },
  {
   "cell_type": "code",
   "execution_count": 4,
   "metadata": {},
   "outputs": [
    {
     "data": {
      "text/plain": [
       "(2.5, -3.1415926535892433, 1.0)"
      ]
     },
     "execution_count": 4,
     "metadata": {},
     "output_type": "execute_result"
    }
   ],
   "source": [
    "# floating point is based on the IEEE double-precision standard (limit to precision!)\n",
    "(\n",
    "    2.5,\n",
    "    -3.14159265358924352345,\n",
    "    1.000000000000000000000001\n",
    ")"
   ]
  },
  {
   "cell_type": "code",
   "execution_count": null,
   "metadata": {},
   "outputs": [],
   "source": [
    "# mixed arithmetic \"widens\" ints to floats\n",
    "(\n",
    "    3 * 2.5,\n",
    "    1 / 0.3\n",
    ")"
   ]
  },
  {
   "attachments": {},
   "cell_type": "markdown",
   "metadata": {},
   "source": [
    "### Booleans"
   ]
  },
  {
   "cell_type": "code",
   "execution_count": null,
   "metadata": {},
   "outputs": [],
   "source": [
    "(\n",
    "    True, \n",
    "    False\n",
    ")"
   ]
  },
  {
   "cell_type": "code",
   "execution_count": null,
   "metadata": {},
   "outputs": [],
   "source": [
    "not True"
   ]
  },
  {
   "cell_type": "code",
   "execution_count": null,
   "metadata": {},
   "outputs": [],
   "source": [
    "(\n",
    "    True and True,\n",
    "    False and True,\n",
    "    True and False,\n",
    "    False and False\n",
    ")"
   ]
  },
  {
   "cell_type": "code",
   "execution_count": null,
   "metadata": {},
   "outputs": [],
   "source": [
    "(\n",
    "    True or True,\n",
    "    False or True,\n",
    "    True or False,\n",
    "    False or False\n",
    ")"
   ]
  },
  {
   "cell_type": "code",
   "execution_count": null,
   "metadata": {},
   "outputs": [],
   "source": [
    "# relational operators\n",
    "(\n",
    "    1 == 1,\n",
    "    1 != 2,\n",
    "    1 < 2,\n",
    "    1 <= 1,\n",
    "    1 > 0,\n",
    "    1 >= 1,\n",
    "    1.0 == 1,\n",
    "    1.0000000000000000001 == 1,\n",
    "    type(1) == type(1.0)\n",
    ")"
   ]
  },
  {
   "cell_type": "markdown",
   "metadata": {},
   "source": [
    "When numbers are compared, only values count, after rounding."
   ]
  },
  {
   "cell_type": "code",
   "execution_count": null,
   "metadata": {},
   "outputs": [],
   "source": [
    "# chained relational operators\n",
    "x = 10\n",
    "y = 20\n",
    "z = 30\n",
    "(\n",
    "    0 <= x < 100,\n",
    "    0 <= x and x < 100,\n",
    "    x < y < z < 40,\n",
    "    x <  y and y < z and z < 40,\n",
    "    x < z > y,\n",
    "    x < z and z > y\n",
    ")"
   ]
  },
  {
   "cell_type": "code",
   "execution_count": 1,
   "metadata": {},
   "outputs": [
    {
     "data": {
      "text/plain": [
       "(True, True, True, False, False)"
      ]
     },
     "execution_count": 1,
     "metadata": {},
     "output_type": "execute_result"
    }
   ],
   "source": [
    "# object identity (reference) testing\n",
    "x = 1000\n",
    "y = 1000\n",
    "(\n",
    "    x == x,   # value comparison\n",
    "    x is x,   # identity comparison\n",
    "    x == y,\n",
    "    x is y,\n",
    "    id(x) == id(y) # `id` returns the memory address (aka \"identity\") of an object\n",
    ")"
   ]
  },
  {
   "cell_type": "code",
   "execution_count": 2,
   "metadata": {},
   "outputs": [
    {
     "data": {
      "text/plain": [
       "True"
      ]
     },
     "execution_count": 2,
     "metadata": {},
     "output_type": "execute_result"
    }
   ],
   "source": [
    "# but Python caches small integers! so ...\n",
    "x = 5\n",
    "y = 5\n",
    "x is y"
   ]
  },
  {
   "cell_type": "markdown",
   "metadata": {},
   "source": [
    "Note that this can pose a problem, since changes to x will affect y. The solution: immutable vs. mutable objects. For instance, integers are immutable, so it's not possible to change the value of x without reassigning it."
   ]
  },
  {
   "attachments": {},
   "cell_type": "markdown",
   "metadata": {},
   "source": [
    "### Strings"
   ]
  },
  {
   "cell_type": "code",
   "execution_count": null,
   "metadata": {},
   "outputs": [],
   "source": [
    "# whatever strings you want\n",
    "(\n",
    "    'hello world!',\n",
    "    \"hello world!\"\n",
    ")"
   ]
  },
  {
   "cell_type": "code",
   "execution_count": null,
   "metadata": {},
   "outputs": [],
   "source": [
    "# convenient for strings with quotes:\n",
    "print('she said, \"how are you?\"')\n",
    "print(\"that's right!\")"
   ]
  },
  {
   "cell_type": "code",
   "execution_count": null,
   "metadata": {},
   "outputs": [],
   "source": [
    "(\n",
    "    'hello' + ' ' + 'world',\n",
    "    'thinking... ' * 3,\n",
    "    '*' * 80\n",
    ")"
   ]
  },
  {
   "attachments": {},
   "cell_type": "markdown",
   "metadata": {},
   "source": [
    "Strings are an example of a *sequence* type, and support the [common sequence operations](https://docs.python.org/3/library/stdtypes.html#common-sequence-operations)."
   ]
  },
  {
   "cell_type": "code",
   "execution_count": 1,
   "metadata": {},
   "outputs": [
    {
     "data": {
      "text/plain": [
       "('h', 't', 11, 'e')"
      ]
     },
     "execution_count": 1,
     "metadata": {},
     "output_type": "execute_result"
    }
   ],
   "source": [
    "# indexing\n",
    "greeting = 'hello there'\n",
    "(\n",
    "    greeting[0],\n",
    "    greeting[6],\n",
    "    len(greeting),\n",
    "    greeting[len(greeting)-1]\n",
    ")"
   ]
  },
  {
   "cell_type": "code",
   "execution_count": 2,
   "metadata": {},
   "outputs": [
    {
     "data": {
      "text/plain": [
       "('e', 'r', 'h')"
      ]
     },
     "execution_count": 2,
     "metadata": {},
     "output_type": "execute_result"
    }
   ],
   "source": [
    "# negative indexes\n",
    "(\n",
    "    greeting[-1], # Pythonic way of accessing the last element!\n",
    "    greeting[-2],\n",
    "    greeting[-len(greeting)]\n",
    ")"
   ]
  },
  {
   "cell_type": "code",
   "execution_count": 3,
   "metadata": {},
   "outputs": [
    {
     "data": {
      "text/plain": [
       "('hello there', 'hello', 'there')"
      ]
     },
     "execution_count": 3,
     "metadata": {},
     "output_type": "execute_result"
    }
   ],
   "source": [
    "# \"slices\"\n",
    "(\n",
    "    greeting[0:11],\n",
    "    greeting[0:5],\n",
    "    greeting[6:11]\n",
    ")"
   ]
  },
  {
   "cell_type": "code",
   "execution_count": 4,
   "metadata": {},
   "outputs": [
    {
     "data": {
      "text/plain": [
       "('hello there', 'there', 'hello there')"
      ]
     },
     "execution_count": 4,
     "metadata": {},
     "output_type": "execute_result"
    }
   ],
   "source": [
    "# default slice ranges\n",
    "(\n",
    "    greeting[:11],\n",
    "    greeting[6:],\n",
    "    greeting[:] # Pythonic way of copying a sequence!\n",
    ")"
   ]
  },
  {
   "cell_type": "markdown",
   "metadata": {},
   "source": [
    "Note that in Python, the first index is inclusive, the last one is **non**-inclusive."
   ]
  },
  {
   "cell_type": "code",
   "execution_count": 5,
   "metadata": {},
   "outputs": [
    {
     "data": {
      "text/plain": [
       "('hlotee', 'hltr', 'tee', 'ereht olleh')"
      ]
     },
     "execution_count": 5,
     "metadata": {},
     "output_type": "execute_result"
    }
   ],
   "source": [
    "# slice \"steps\"\n",
    "(\n",
    "    greeting[0:11:2],\n",
    "    greeting[::3],\n",
    "    greeting[6:11:2],\n",
    "    greeting[::-1] # Pythonic way of reversing a sequence!\n",
    ")"
   ]
  },
  {
   "cell_type": "code",
   "execution_count": 6,
   "metadata": {},
   "outputs": [
    {
     "data": {
      "text/plain": [
       "(3, 1, 8, True, True, ' ', 't')"
      ]
     },
     "execution_count": 6,
     "metadata": {},
     "output_type": "execute_result"
    }
   ],
   "source": [
    "# other sequence ops\n",
    "(\n",
    "    greeting.count('e'),\n",
    "    greeting.index('e'),\n",
    "    greeting.index('e', 2),\n",
    "    'e' in greeting,\n",
    "    'z' not in greeting,\n",
    "    min(greeting),\n",
    "    max(greeting)\n",
    ")"
   ]
  },
  {
   "attachments": {},
   "cell_type": "markdown",
   "metadata": {},
   "source": [
    "Strings also support a large number of [type-specific methods](https://docs.python.org/3/library/stdtypes.html#string-methods)."
   ]
  },
  {
   "cell_type": "code",
   "execution_count": 7,
   "metadata": {},
   "outputs": [
    {
     "data": {
      "text/plain": [
       "('############################## Welcome to CS 331 ###############################',\n",
       " '----------------------------------------------------------------------------Yay!',\n",
       " 'DATA STRUCTURES AND ALGORITHMS',\n",
       " 'I typed too many spaces',\n",
       " 'Strings 👏 are 👏 awesome')"
      ]
     },
     "execution_count": 7,
     "metadata": {},
     "output_type": "execute_result"
    }
   ],
   "source": [
    "(\n",
    "    ' Welcome to CS 331 '.center(80, '#'),\n",
    "    'Yay!'.rjust(80, '-'),\n",
    "    'data structures and algorithms'.upper(),\n",
    "    '         I typed too many spaces        '.strip(),  \n",
    "    ' 👏 '.join(('Strings', 'are', 'awesome'))\n",
    ")\n"
   ]
  },
  {
   "attachments": {},
   "cell_type": "markdown",
   "metadata": {},
   "source": [
    "### Format Strings\n",
    "\n",
    "We frequently want to interpolate values found in variables or computed using expressions into strings. We can do this with *format strings*. These are especially new."
   ]
  },
  {
   "cell_type": "code",
   "execution_count": 8,
   "metadata": {},
   "outputs": [
    {
     "name": "stdout",
     "output_type": "stream",
     "text": [
      "It was a frigid day when Alfred decided to hastily eat 800 lines of code.\n"
     ]
    }
   ],
   "source": [
    "adjective = 'frigid'\n",
    "adverb = 'hastily'\n",
    "noun = 'Alfred'\n",
    "number = 8\n",
    "verb = 'eat'\n",
    "\n",
    "sentence = f'It was a {adjective} day when {noun} decided to {adverb} {verb} {number*100} lines of code.'\n",
    "\n",
    "print(sentence)"
   ]
  },
  {
   "attachments": {},
   "cell_type": "markdown",
   "metadata": {},
   "source": [
    "We can also use the `format` string method. This is the classic method before format strings."
   ]
  },
  {
   "cell_type": "code",
   "execution_count": 9,
   "metadata": {},
   "outputs": [
    {
     "name": "stdout",
     "output_type": "stream",
     "text": [
      "It was a frigid day when Alfred decided to hastily eat 800 lines of code.\n"
     ]
    }
   ],
   "source": [
    "sentence = 'It was a {} day when {} decided to {} {} {} lines of code.'.format(adjective, noun, adverb, verb, number*100)\n",
    "\n",
    "print(sentence)"
   ]
  },
  {
   "attachments": {},
   "cell_type": "markdown",
   "metadata": {},
   "source": [
    "### Type \"Conversions\""
   ]
  },
  {
   "attachments": {},
   "cell_type": "markdown",
   "metadata": {},
   "source": [
    "Constructors for most built-in types exist that create values of those types from other types:"
   ]
  },
  {
   "cell_type": "code",
   "execution_count": 10,
   "metadata": {},
   "outputs": [
    {
     "data": {
      "text/plain": [
       "(123, 12, 1, 123.123, '123')"
      ]
     },
     "execution_count": 10,
     "metadata": {},
     "output_type": "execute_result"
    }
   ],
   "source": [
    "(\n",
    "    # making ints\n",
    "    int('123'),\n",
    "    int(12.5),\n",
    "    int(True),\n",
    "\n",
    "    # floats\n",
    "    float('123.123'),\n",
    "\n",
    "    # strings\n",
    "    str(123)\n",
    ")"
   ]
  },
  {
   "cell_type": "markdown",
   "metadata": {},
   "source": [
    "Here `int()`, `float()` and `str()` are **constructors**."
   ]
  },
  {
   "attachments": {},
   "cell_type": "markdown",
   "metadata": {},
   "source": [
    "### Operators/Functions as syntactic sugar for special methods"
   ]
  },
  {
   "cell_type": "code",
   "execution_count": 11,
   "metadata": {},
   "outputs": [
    {
     "data": {
      "text/plain": [
       "11"
      ]
     },
     "execution_count": 11,
     "metadata": {},
     "output_type": "execute_result"
    }
   ],
   "source": [
    "a = 5\n",
    "b = 6\n",
    "a + b"
   ]
  },
  {
   "cell_type": "markdown",
   "metadata": {},
   "source": [
    "How does Python know how to proceed? In other languages, we use operator overloading (a form of polymorphism). But that's not quite the case in Python:"
   ]
  },
  {
   "cell_type": "code",
   "execution_count": 12,
   "metadata": {},
   "outputs": [
    {
     "data": {
      "text/plain": [
       "11"
      ]
     },
     "execution_count": 12,
     "metadata": {},
     "output_type": "execute_result"
    }
   ],
   "source": [
    "a.__add__(b)"
   ]
  },
  {
   "cell_type": "markdown",
   "metadata": {},
   "source": [
    "Actually, a method is called on `a` and `b`, and `a+b` is just an abbreviation, or **syntactic sugar**, for `a.__add__(b)`.\n",
    "This means that we can implement that method in new classes.\n",
    "By the way, methods with double underscores are *special methods*, which implement support for operators in Python."
   ]
  },
  {
   "cell_type": "code",
   "execution_count": 13,
   "metadata": {},
   "outputs": [
    {
     "data": {
      "text/plain": [
       "('helloworld', 'helloworld')"
      ]
     },
     "execution_count": 13,
     "metadata": {},
     "output_type": "execute_result"
    }
   ],
   "source": [
    "(\n",
    "    'hello' + 'world',\n",
    "    'hello'.__add__('world')\n",
    ")"
   ]
  },
  {
   "cell_type": "code",
   "execution_count": 14,
   "metadata": {},
   "outputs": [],
   "source": [
    "class Addable:\n",
    "    def __init__(self, val):\n",
    "        self.val = val\n",
    "        \n",
    "    def __add__(self, other):\n",
    "        return Addable(self.val + ' and ' + other.val)\n",
    "    \n",
    "    def __repr__(self):\n",
    "        return self.val"
   ]
  },
  {
   "cell_type": "code",
   "execution_count": 15,
   "metadata": {},
   "outputs": [
    {
     "data": {
      "text/plain": [
       "Peanut butter and Jelly"
      ]
     },
     "execution_count": 15,
     "metadata": {},
     "output_type": "execute_result"
    }
   ],
   "source": [
    "a1 = Addable('Peanut butter')\n",
    "a2 = Addable('Jelly')\n",
    "a1.__add__(a2)"
   ]
  },
  {
   "cell_type": "code",
   "execution_count": 16,
   "metadata": {},
   "outputs": [
    {
     "data": {
      "text/plain": [
       "Peanut butter and Jelly"
      ]
     },
     "execution_count": 16,
     "metadata": {},
     "output_type": "execute_result"
    }
   ],
   "source": [
    "a1 + a2"
   ]
  },
  {
   "cell_type": "code",
   "execution_count": 17,
   "metadata": {},
   "outputs": [
    {
     "data": {
      "text/plain": [
       "(11, 11, 42, 42)"
      ]
     },
     "execution_count": 17,
     "metadata": {},
     "output_type": "execute_result"
    }
   ],
   "source": [
    "(\n",
    "    len('hello world'),\n",
    "    'hello world'.__len__(),\n",
    "    abs(-42),\n",
    "    (-42).__abs__()\n",
    ")"
   ]
  },
  {
   "cell_type": "markdown",
   "metadata": {},
   "source": [
    "`len()` is a global method, but it determines its execution from the `__len()__` method, implemented for different classes. Same thing with `abs()`. It's this way that global functions and operators are implemented."
   ]
  },
  {
   "attachments": {},
   "cell_type": "markdown",
   "metadata": {},
   "source": [
    "### `None`"
   ]
  },
  {
   "attachments": {},
   "cell_type": "markdown",
   "metadata": {},
   "source": [
    "**`None`** is like \"null\" in other languages"
   ]
  },
  {
   "cell_type": "code",
   "execution_count": 18,
   "metadata": {},
   "outputs": [],
   "source": [
    "# often use as a default, initial, or \"sentinel\" value\n",
    "\n",
    "x = None"
   ]
  },
  {
   "attachments": {},
   "cell_type": "markdown",
   "metadata": {},
   "source": [
    "note: notebooks do not display the result of expressions that evaluate to None"
   ]
  },
  {
   "cell_type": "code",
   "execution_count": 19,
   "metadata": {},
   "outputs": [],
   "source": [
    "x"
   ]
  },
  {
   "cell_type": "code",
   "execution_count": 20,
   "metadata": {},
   "outputs": [
    {
     "name": "stdout",
     "output_type": "stream",
     "text": [
      "None\n"
     ]
    }
   ],
   "source": [
    "print(x)"
   ]
  },
  {
   "attachments": {},
   "cell_type": "markdown",
   "metadata": {},
   "source": [
    "Functions that don't appear to return anything technically return `None`"
   ]
  },
  {
   "cell_type": "code",
   "execution_count": 21,
   "metadata": {},
   "outputs": [
    {
     "name": "stdout",
     "output_type": "stream",
     "text": [
      "Hello\n",
      "None\n"
     ]
    }
   ],
   "source": [
    "print(print('Hello'))"
   ]
  },
  {
   "cell_type": "code",
   "execution_count": 22,
   "metadata": {},
   "outputs": [
    {
     "data": {
      "text/plain": [
       "NoneType"
      ]
     },
     "execution_count": 22,
     "metadata": {},
     "output_type": "execute_result"
    }
   ],
   "source": [
    "type(None)"
   ]
  },
  {
   "cell_type": "markdown",
   "metadata": {},
   "source": [
    "`None` is kind of like `null` (in the sense of actually representing nothing), and then what is closer to `void` (a return type) is `NoneType`. In summary,\n",
    "`None` is to `null`, in the way that `NoneType` is to `void` (kind of)."
   ]
  },
  {
   "attachments": {},
   "cell_type": "markdown",
   "metadata": {},
   "source": [
    "### \"Truthiness\""
   ]
  },
  {
   "attachments": {},
   "cell_type": "markdown",
   "metadata": {},
   "source": [
    "All objects in Python can be evaluated in a Boolean context (e.g., as the condition for an `if` statement). Values for most types act as `True`, but some act (conveniently, usually) as `False`."
   ]
  },
  {
   "cell_type": "code",
   "execution_count": 23,
   "metadata": {},
   "outputs": [
    {
     "name": "stdout",
     "output_type": "stream",
     "text": [
      "tests as True\n"
     ]
    }
   ],
   "source": [
    "if True: # try numbers, strings, other values here\n",
    "    print('tests as True')\n",
    "else:\n",
    "    print('tests as False')"
   ]
  },
  {
   "attachments": {},
   "cell_type": "markdown",
   "metadata": {},
   "source": [
    "What tests as `False`? The integer 0, `None`, the empty string `\"\"`, the empty tuple `()` and empty list `[]`. Objects can test as `True` of `False`, and with data structures, they test as `True` when they are not empty, and `False` when they are not."
   ]
  },
  {
   "cell_type": "code",
   "execution_count": 29,
   "metadata": {},
   "outputs": [
    {
     "data": {
      "text/plain": [
       "False"
      ]
     },
     "execution_count": 29,
     "metadata": {},
     "output_type": "execute_result"
    }
   ],
   "source": [
    "bool(())"
   ]
  },
  {
   "cell_type": "markdown",
   "metadata": {},
   "source": [
    "`bool()` also implements a special method `__bool()__`, as do the other constructors."
   ]
  }
 ],
 "metadata": {
  "kernelspec": {
   "display_name": "Python 3",
   "language": "python",
   "name": "python3"
  },
  "language_info": {
   "codemirror_mode": {
    "name": "ipython",
    "version": 3
   },
   "file_extension": ".py",
   "mimetype": "text/x-python",
   "name": "python",
   "nbconvert_exporter": "python",
   "pygments_lexer": "ipython3",
   "version": "3.10.13"
  }
 },
 "nbformat": 4,
 "nbformat_minor": 4
}
