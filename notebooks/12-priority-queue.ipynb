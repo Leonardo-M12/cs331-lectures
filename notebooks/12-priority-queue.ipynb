{
 "cells": [
  {
   "attachments": {},
   "cell_type": "markdown",
   "metadata": {
    "state": "normal"
   },
   "source": [
    "# Priority Queue\n",
    "\n",
    "## Agenda\n",
    "\n",
    "1. \"Priority Queue\"\n",
    "2. Naive implementation\n",
    "3. Heap\n",
    "    - Mechanics\n",
    "    - Implementation\n",
    "    - Run-time Analysis\n",
    "4. Heap Construction\n",
    "5. Heapsort"
   ]
  },
  {
   "attachments": {},
   "cell_type": "markdown",
   "metadata": {},
   "source": [
    "## 1. Priority Queue\n",
    "\n",
    "The priority queue ADT is similar to a queue, in that values are conceptually added to one end and taken out another. Values are not dequeued from a priority queue in FIFO order, however. Instead, each value in a priority queue has an implicit \"priority\", and the *value with maximum priority is always dequeued first*, regardless of when it was enqueued. "
   ]
  },
  {
   "attachments": {},
   "cell_type": "markdown",
   "metadata": {
    "state": "normal"
   },
   "source": [
    "## 2. Naive implementation"
   ]
  },
  {
   "cell_type": "code",
   "execution_count": 5,
   "metadata": {
    "state": "normal",
    "tags": []
   },
   "outputs": [],
   "source": [
    "class PriorityQueue:\n",
    "    def __init__(self):\n",
    "        self.data = []\n",
    "        \n",
    "    def add(self, x): # O(N)\n",
    "        # insert x in right spot\n",
    "        for i in range(len(self.data)):\n",
    "            if self.data[i] > x:\n",
    "                self.data.insert(i, x)\n",
    "                break\n",
    "        else:\n",
    "            self.data.append(x)\n",
    "    \n",
    "    def max(self): # O(1)\n",
    "        assert len(self) > 0\n",
    "        return self.data[-1]\n",
    "        \n",
    "    def pop_max(self): # O(1)\n",
    "        assert len(self) > 0\n",
    "        return self.data.pop(-1)\n",
    "    \n",
    "    def __bool__(self):\n",
    "        return len(self.data) > 0\n",
    "\n",
    "    def __len__(self):\n",
    "        return len(self.data)\n",
    "\n",
    "    def __repr__(self):\n",
    "        return repr(self.data)"
   ]
  },
  {
   "cell_type": "code",
   "execution_count": 6,
   "metadata": {},
   "outputs": [],
   "source": [
    "import random\n",
    "\n",
    "pq = PriorityQueue()\n",
    "\n",
    "for _ in range(10):\n",
    "    pq.add(random.randrange(1000))"
   ]
  },
  {
   "cell_type": "code",
   "execution_count": 7,
   "metadata": {},
   "outputs": [
    {
     "data": {
      "text/plain": [
       "[21, 396, 475, 525, 539, 566, 598, 735, 775, 850]"
      ]
     },
     "execution_count": 7,
     "metadata": {},
     "output_type": "execute_result"
    }
   ],
   "source": [
    "pq"
   ]
  },
  {
   "cell_type": "code",
   "execution_count": 8,
   "metadata": {},
   "outputs": [
    {
     "data": {
      "text/plain": [
       "850"
      ]
     },
     "execution_count": 8,
     "metadata": {},
     "output_type": "execute_result"
    }
   ],
   "source": [
    "pq.max()"
   ]
  },
  {
   "cell_type": "code",
   "execution_count": 9,
   "metadata": {},
   "outputs": [
    {
     "name": "stdout",
     "output_type": "stream",
     "text": [
      "850\n",
      "775\n",
      "735\n",
      "598\n",
      "566\n",
      "539\n",
      "525\n",
      "475\n",
      "396\n",
      "21\n"
     ]
    }
   ],
   "source": [
    "while pq:\n",
    "    print(pq.pop_max())"
   ]
  },
  {
   "cell_type": "code",
   "execution_count": 10,
   "metadata": {},
   "outputs": [
    {
     "name": "stdout",
     "output_type": "stream",
     "text": [
      "[34, 137, 223, 288, 352, 425, 445, 456, 556, 782, 926]\n",
      "926\n",
      "[34, 137, 223, 288, 326, 352, 425, 445, 456, 556, 782]\n",
      "782\n",
      "[34, 137, 223, 288, 326, 352, 425, 445, 456, 556, 994]\n",
      "994\n",
      "[34, 137, 161, 223, 288, 326, 352, 425, 445, 456, 556]\n",
      "556\n",
      "[34, 137, 161, 223, 288, 306, 326, 352, 425, 445, 456]\n",
      "456\n",
      "[34, 137, 161, 223, 288, 306, 326, 352, 425, 445, 688]\n",
      "688\n",
      "[34, 137, 161, 223, 288, 306, 326, 352, 425, 445, 760]\n",
      "760\n",
      "[34, 137, 161, 223, 288, 291, 306, 326, 352, 425, 445]\n",
      "445\n",
      "[34, 137, 161, 223, 288, 291, 306, 326, 352, 425, 762]\n",
      "762\n",
      "[34, 137, 161, 223, 288, 291, 306, 326, 352, 425, 929]\n",
      "929\n"
     ]
    }
   ],
   "source": [
    "pq = PriorityQueue()\n",
    "\n",
    "for _ in range(10):\n",
    "    pq.add(random.randrange(1000))\n",
    "\n",
    "for _ in range(10):\n",
    "    pq.add(random.randrange(1000))\n",
    "    print(pq)\n",
    "    print(pq.pop_max())"
   ]
  },
  {
   "cell_type": "markdown",
   "metadata": {},
   "source": [
    "The thing with using an array as a priority queue is that we either commit fully in `add` performance or `max` and `pop_max` performance sacrificing the rest. Ordering here is convenient but superfluous. Is there any other data structure we can use?"
   ]
  },
  {
   "cell_type": "markdown",
   "metadata": {},
   "source": [
    "## 3.-1 Binary tree primer\n",
    "\n",
    "A binary tree is a data structure that is either empty, or consists of a node with a value and references left and right subtrees that are also binary trees.\n",
    "\n",
    "Always add nodes as leaves, but then we can juggle that values along the tree.\n",
    "\n",
    "Metrics:\n",
    "- Depth of node: number of nodes from this node to root\n",
    "- Height of node: number of nodes on longest part downwards to some leaf\n",
    "- Height of tree: height of its root\n",
    "\n",
    "Classes of binary trees:\n",
    "- Perfect: all internal nodes have 2 children, all leaves same depth\n",
    "- Full: all nodes have 0 or 2 children\n",
    "- Complete: all levels are completely filled (except maybe the bottom), nodes in the bottom level are packed towards one side"
   ]
  },
  {
   "attachments": {},
   "cell_type": "markdown",
   "metadata": {
    "state": "normal"
   },
   "source": [
    "## 3. Heap"
   ]
  },
  {
   "attachments": {},
   "cell_type": "markdown",
   "metadata": {},
   "source": [
    "A heap is an implementation of a priority queue that imposes a *partial ordering* on its contents. A heap takes the form of a *complete binary tree* where every node adheres to the *heap property*, i.e., that the value in a given node is the maximum value in the subtree of which it is the root. It can be called max-heap or min-heap."
   ]
  },
  {
   "attachments": {},
   "cell_type": "markdown",
   "metadata": {
    "state": "normal"
   },
   "source": [
    "### Mechanics"
   ]
  },
  {
   "attachments": {},
   "cell_type": "markdown",
   "metadata": {},
   "source": [
    "The heap property is maintained across insertions and removals by way of the \"bubble up\" and \"trickle down\" algorithms.\n",
    "\n",
    "![](../images/12-heap-mechanics.jpg)\n",
    "\n",
    "Note that the \"trickle down\" algorithm can also be thought of as a way of \"re-heapifying\" a tree where all nodes but the root obey the heap property."
   ]
  },
  {
   "attachments": {},
   "cell_type": "markdown",
   "metadata": {
    "state": "normal"
   },
   "source": [
    "### Implementation"
   ]
  },
  {
   "cell_type": "markdown",
   "metadata": {},
   "source": [
    "We represent the heap in an array, where the node at index $i$ has children at indices $2i + 1$ and $2i + 2$. Conversely, the parent of index $i$ is at index $\\lfloor \\frac{i-1}{2} \\rfloor$."
   ]
  },
  {
   "cell_type": "code",
   "execution_count": 44,
   "metadata": {
    "state": "normal",
    "tags": []
   },
   "outputs": [],
   "source": [
    "class Heap:\n",
    "    def __init__(self):\n",
    "        self.data = []\n",
    "\n",
    "    @staticmethod\n",
    "    def _parent(idx):\n",
    "        return (idx - 1) // 2\n",
    "    \n",
    "    @staticmethod\n",
    "    def _left(idx):\n",
    "        return 2*idx + 1\n",
    "    \n",
    "    @staticmethod\n",
    "    def _right(idx):\n",
    "        return 2*idx + 2\n",
    "\n",
    "    def add(self, x): # O(N)\n",
    "        # add new node at rightmost bottom level of tree\n",
    "        # that is, last slot in backing array\n",
    "        # then, carry out bubble-up\n",
    "        self.data.append(x)\n",
    "        idx = len(self.data) - 1\n",
    "        while idx > 0:\n",
    "            pidx = Heap._parent(idx)\n",
    "            if self.data[pidx] < self.data[idx]: \n",
    "                # heap property violated, swap\n",
    "                self.data[pidx], self.data[idx] = self.data[idx], self.data[pidx]\n",
    "                idx = pidx\n",
    "            else:\n",
    "                break\n",
    "\n",
    "                \n",
    "    def max(self): # O(1)\n",
    "        assert len(self) > 0\n",
    "        return self.data[0]\n",
    "    \n",
    "    def _heapify(self, idx): # O(1)\n",
    "        # implements trickle-down algorithm\n",
    "        while idx < len(self.data):\n",
    "            maxidx = idx\n",
    "            # Need to check indices for validity\n",
    "            lidx = Heap._left(idx)\n",
    "            ridx = Heap._right(idx)\n",
    "            if lidx < len(self.data) and self.data[idx] < self.data[lidx]:\n",
    "                maxidx = lidx\n",
    "            if ridx < len(self.data) and self.data[maxidx] < self.data[ridx]:\n",
    "                maxidx = ridx\n",
    "            if maxidx != idx:\n",
    "                # if max is not the parent\n",
    "                self.data[idx], self.data[maxidx] = self.data[maxidx], self.data[idx]\n",
    "                idx = maxidx\n",
    "            else:\n",
    "                break\n",
    "\n",
    "    def pop_max(self):\n",
    "        assert len(self) > 0\n",
    "        # replace root with node at rightmost bottom level\n",
    "        # delete element at at rightmost bottom level\n",
    "        # then, carry out \"trickle-down\" (heapify)\n",
    "        ret = self.data[0]\n",
    "        self.data[0] = self.data[-1]\n",
    "        del self.data[-1]\n",
    "\n",
    "        self._heapify(0)\n",
    "        \n",
    "        return ret\n",
    "\n",
    "    def __bool__(self):\n",
    "        return len(self.data) > 0\n",
    "\n",
    "    def __len__(self):\n",
    "        return len(self.data)\n",
    "\n",
    "    def __repr__(self):\n",
    "        return repr(self.data)"
   ]
  },
  {
   "cell_type": "code",
   "execution_count": 6,
   "metadata": {
    "state": "normal",
    "tags": []
   },
   "outputs": [],
   "source": [
    "import random\n",
    "\n",
    "h = Heap()\n",
    "\n",
    "vals = random.sample(range(100), 10) # ensure unique values\n",
    "for x in vals:\n",
    "    h.add(x)"
   ]
  },
  {
   "cell_type": "code",
   "execution_count": 7,
   "metadata": {
    "state": "normal"
   },
   "outputs": [
    {
     "data": {
      "text/plain": [
       "[81, 60, 65, 41, 44, 51, 15, 16, 27, 11]"
      ]
     },
     "execution_count": 7,
     "metadata": {},
     "output_type": "execute_result"
    }
   ],
   "source": [
    "h"
   ]
  },
  {
   "cell_type": "code",
   "execution_count": 8,
   "metadata": {},
   "outputs": [
    {
     "data": {
      "text/plain": [
       "81"
      ]
     },
     "execution_count": 8,
     "metadata": {},
     "output_type": "execute_result"
    }
   ],
   "source": [
    "h.max()"
   ]
  },
  {
   "cell_type": "code",
   "execution_count": 9,
   "metadata": {
    "state": "normal"
   },
   "outputs": [
    {
     "name": "stdout",
     "output_type": "stream",
     "text": [
      "[81, 60, 65, 41, 44, 51, 15, 16, 27, 11]\n",
      "81\n",
      "[65, 60, 51, 41, 44, 11, 15, 16, 27]\n",
      "65\n",
      "[60, 44, 51, 41, 27, 11, 15, 16]\n",
      "60\n",
      "[51, 44, 16, 41, 27, 11, 15]\n",
      "51\n",
      "[44, 41, 16, 15, 27, 11]\n",
      "44\n",
      "[41, 27, 16, 15, 11]\n",
      "41\n",
      "[27, 15, 16, 11]\n",
      "27\n",
      "[16, 15, 11]\n",
      "16\n",
      "[15, 11]\n",
      "15\n",
      "[11]\n",
      "11\n",
      "[]\n"
     ]
    }
   ],
   "source": [
    "print(h)\n",
    "while h:\n",
    "    print(h.pop_max())\n",
    "    print(h)"
   ]
  },
  {
   "attachments": {},
   "cell_type": "markdown",
   "metadata": {
    "state": "normal"
   },
   "source": [
    "### Run-time Analysis"
   ]
  },
  {
   "attachments": {},
   "cell_type": "markdown",
   "metadata": {},
   "source": [
    "![](../images/12-heap-runtime.jpg)"
   ]
  },
  {
   "attachments": {},
   "cell_type": "markdown",
   "metadata": {},
   "source": [
    "I.e., when adding or removing elements from a heap, we need to carry out at most $O(h)$ operations, where $h$ is the number of levels in the heap, to ensure the heap property is established throughout. Since the heap takes the form of a complete binary tree, and the height $h$ of the tree is $O(\\log N)$, where $N$ is the number of elements in the tree, we conclude that **the add and remove heap operations are both $O(\\log N)$**."
   ]
  },
  {
   "attachments": {},
   "cell_type": "markdown",
   "metadata": {
    "state": "normal"
   },
   "source": [
    "## 4. Heap Construction"
   ]
  },
  {
   "attachments": {},
   "cell_type": "markdown",
   "metadata": {},
   "source": [
    "If we construct a heap of $N$ elements by simply calling `add` $N$ times, it is easy to see that this approach has $O(N \\log N)$ runtime complexity.\n",
    "\n",
    "Can we do better?"
   ]
  },
  {
   "attachments": {},
   "cell_type": "markdown",
   "metadata": {
    "tags": []
   },
   "source": [
    "Yes! If we are given a list of $N$ values from which to construct a heap, we start by observing that we can interpret the list as the representation of a complete binary tree. In this tree, the only values that may violate the heap property are those found in *internal nodes* (i.e., nodes with at least 1 child).\n",
    "\n",
    "Recall that if we are given a complete tree where only the root node violates the heap property, we can re-heapify it by applying the trickle-down algorithm starting at the root.\n",
    "\n",
    "Therefore, to build a heap out of a list, we need only apply the trickle-down algorithm to each node starting at the deepest, right-most internal node, all the way up until we hit the root.\n",
    "\n",
    "Requirement for heapification: for each node, its two subtrees must be max-heaps."
   ]
  },
  {
   "attachments": {},
   "cell_type": "markdown",
   "metadata": {
    "tags": []
   },
   "source": [
    "![](../images/12-heap-building.jpg)"
   ]
  },
  {
   "attachments": {},
   "cell_type": "markdown",
   "metadata": {},
   "source": [
    "In a tree with $N$ total nodes, there are only $\\lfloor \\frac{N-1}{2} \\rfloor$ internal nodes, which means that we only need to apply the trickle-down algorithm to roughly *half* of the nodes in the tree. Note, also, that the runtime complexity of trickle-down depends on the height of the node, which only matches the height of the tree at the root. We will not prove this, but building a heap using this approach yields an algorithm with a runtime complexity of $O(N)$."
   ]
  },
  {
   "cell_type": "code",
   "execution_count": 57,
   "metadata": {
    "state": "normal",
    "tags": []
   },
   "outputs": [],
   "source": [
    "class Heap(Heap):\n",
    "    def __init__(self, iterable=None):\n",
    "        if not iterable:\n",
    "            self.data = []\n",
    "        else:\n",
    "            self.data = list(iterable)\n",
    "            # perform heap construction trick above\n",
    "            # first, find rightmost internal node\n",
    "            idx = Heap._parent(len(self.data) - 1)\n",
    "            for i in range(idx, -1, -1): # O(N)\n",
    "                self._heapify(i)"
   ]
  },
  {
   "cell_type": "code",
   "execution_count": 52,
   "metadata": {
    "state": "normal",
    "tags": []
   },
   "outputs": [],
   "source": [
    "import random\n",
    "\n",
    "h = Heap()\n",
    "\n",
    "vals = random.sample(range(100), 10)\n",
    "for x in vals:\n",
    "    h.add(x)"
   ]
  },
  {
   "cell_type": "code",
   "execution_count": 53,
   "metadata": {
    "state": "normal"
   },
   "outputs": [
    {
     "data": {
      "text/plain": [
       "[90, 64, 62, 50, 59, 37, 6, 10, 30, 17]"
      ]
     },
     "execution_count": 53,
     "metadata": {},
     "output_type": "execute_result"
    }
   ],
   "source": [
    "h"
   ]
  },
  {
   "cell_type": "code",
   "execution_count": 54,
   "metadata": {
    "state": "normal"
   },
   "outputs": [
    {
     "name": "stdout",
     "output_type": "stream",
     "text": [
      "90\n",
      "64\n",
      "62\n",
      "59\n",
      "50\n",
      "37\n",
      "30\n",
      "17\n",
      "10\n",
      "6\n"
     ]
    }
   ],
   "source": [
    "while h:\n",
    "    print(h.pop_max())"
   ]
  },
  {
   "cell_type": "code",
   "execution_count": 58,
   "metadata": {},
   "outputs": [
    {
     "name": "stdout",
     "output_type": "stream",
     "text": [
      "[94, 84, 89, 63, 66, 79, 76, 62, 26, 13]\n",
      "94\n",
      "89\n",
      "84\n",
      "79\n",
      "76\n",
      "66\n",
      "63\n",
      "62\n",
      "26\n",
      "13\n"
     ]
    }
   ],
   "source": [
    "h = Heap(random.sample(range(100), 10)) # use the new heap initializer\n",
    "print(h)\n",
    "\n",
    "while h:\n",
    "    print(h.pop_max())"
   ]
  },
  {
   "attachments": {},
   "cell_type": "markdown",
   "metadata": {},
   "source": [
    "## 5. Heapsort\n",
    "\n",
    "We can use a heap to implement an efficient sorting algorithm: heapsort!"
   ]
  },
  {
   "cell_type": "code",
   "execution_count": 59,
   "metadata": {
    "state": "normal",
    "tags": []
   },
   "outputs": [],
   "source": [
    "def heapsort(iterable):\n",
    "    h = Heap(iterable) # O(N)\n",
    "    sorted_iter = []\n",
    "    while h: # O(N log N)\n",
    "        sorted_iter.append(h.pop_max()) # O(log N)\n",
    "    sorted_iter.reverse()\n",
    "    return sorted_iter"
   ]
  },
  {
   "cell_type": "code",
   "execution_count": 61,
   "metadata": {
    "state": "normal",
    "tags": []
   },
   "outputs": [
    {
     "data": {
      "image/png": "[encoded data removed]",
      "text/plain": [
       "<Figure size 640x480 with 1 Axes>"
      ]
     },
     "metadata": {},
     "output_type": "display_data"
    }
   ],
   "source": [
    "import matplotlib.pyplot as plt\n",
    "import numpy as np\n",
    "\n",
    "lst = list(range(100))\n",
    "random.shuffle(lst)\n",
    "plt.plot(lst, 'ro');"
   ]
  },
  {
   "cell_type": "code",
   "execution_count": 62,
   "metadata": {
    "state": "normal",
    "tags": []
   },
   "outputs": [
    {
     "data": {
      "image/png": "[encoded data removed]",
      "text/plain": [
       "<Figure size 640x480 with 1 Axes>"
      ]
     },
     "metadata": {},
     "output_type": "display_data"
    }
   ],
   "source": [
    "plt.plot(heapsort(lst), 'ro');"
   ]
  },
  {
   "cell_type": "code",
   "execution_count": 63,
   "metadata": {},
   "outputs": [],
   "source": [
    "def insertion_sort(lst):\n",
    "    for i in range(1, len(lst)):\n",
    "        for j in range(i, 0, -1):\n",
    "            if lst[j-1] > lst[j]:\n",
    "                lst[j-1], lst[j] = lst[j], lst[j-1] # swap\n",
    "            else:\n",
    "                break"
   ]
  },
  {
   "cell_type": "code",
   "execution_count": 64,
   "metadata": {},
   "outputs": [],
   "source": [
    "import timeit\n",
    "\n",
    "def time_insertionsort(n):\n",
    "    return timeit.timeit('insertion_sort(lst)',\n",
    "                         f'lst = random.sample(range(1_000_000), {n})',\n",
    "                         globals=globals(),\n",
    "                         number=1)\n",
    "\n",
    "def time_heapsort(n):\n",
    "    return timeit.timeit('heapsort(lst)',\n",
    "                         f'lst = random.sample(range(1_000_000), {n})',\n",
    "                         globals=globals(),\n",
    "                         number=1)"
   ]
  },
  {
   "cell_type": "code",
   "execution_count": 65,
   "metadata": {
    "state": "normal"
   },
   "outputs": [
    {
     "data": {
      "image/png": "[encoded data removed]",
      "text/plain": [
       "<Figure size 640x480 with 1 Axes>"
      ]
     },
     "metadata": {},
     "output_type": "display_data"
    }
   ],
   "source": [
    "ns = np.linspace(100, 2000, 50, dtype=np.int_)\n",
    "plt.plot(ns, [time_insertionsort(n) for n in ns], 'ro')\n",
    "plt.plot(ns, [time_heapsort(n) for n in ns], 'b^');"
   ]
  },
  {
   "cell_type": "code",
   "execution_count": 66,
   "metadata": {
    "state": "normal"
   },
   "outputs": [
    {
     "data": {
      "image/png": "[encoded data removed]",
      "text/plain": [
       "<Figure size 640x480 with 1 Axes>"
      ]
     },
     "metadata": {},
     "output_type": "display_data"
    }
   ],
   "source": [
    "ns = np.linspace(100, 10000, 50, dtype=np.int_)\n",
    "plt.plot(ns, [time_heapsort(n) for n in ns], 'b^');"
   ]
  },
  {
   "attachments": {},
   "cell_type": "markdown",
   "metadata": {},
   "source": [
    "Heapsort is the first sorting algorithm we've encountered with $O(N \\log N)$."
   ]
  }
 ],
 "metadata": {
  "kernelspec": {
   "display_name": "Python 3",
   "language": "python",
   "name": "python3"
  },
  "language_info": {
   "codemirror_mode": {
    "name": "ipython",
    "version": 3
   },
   "file_extension": ".py",
   "mimetype": "text/x-python",
   "name": "python",
   "nbconvert_exporter": "python",
   "pygments_lexer": "ipython3",
   "version": "3.10.13"
  },
  "mimir": {
   "data": {},
   "last_submission_id": "",
   "project_id": "cd081cc2-3118-4acf-abe4-cfe5215cf9e7"
  },
  "toc-autonumbering": false,
  "toc-showcode": true,
  "toc-showmarkdowntxt": false,
  "varInspector": {
   "cols": {
    "lenName": 16,
    "lenType": 16,
    "lenVar": 40
   },
   "kernels_config": {
    "python": {
     "delete_cmd_postfix": "",
     "delete_cmd_prefix": "del ",
     "library": "var_list.py",
     "varRefreshCmd": "print(var_dic_list())"
    },
    "r": {
     "delete_cmd_postfix": ") ",
     "delete_cmd_prefix": "rm(",
     "library": "var_list.r",
     "varRefreshCmd": "cat(var_dic_list()) "
    }
   },
   "types_to_exclude": [
    "module",
    "function",
    "builtin_function_or_method",
    "instance",
    "_Feature"
   ],
   "window_display": false
  }
 },
 "nbformat": 4,
 "nbformat_minor": 4
}
