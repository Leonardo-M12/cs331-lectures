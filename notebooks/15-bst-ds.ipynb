{
 "cells": [
  {
   "cell_type": "markdown",
   "metadata": {
    "state": "normal"
   },
   "source": [
    "# The BSTree data structure\n",
    "\n",
    "## Agenda\n",
    "\n",
    "- API\n",
    "- Implementation\n",
    "    - Search\n",
    "    - Insertion\n",
    "    - Deletion\n",
    "    - Iteration / Traversal\n",
    "- Runtime complexity"
   ]
  },
  {
   "cell_type": "markdown",
   "metadata": {
    "state": "normal"
   },
   "source": [
    "## API"
   ]
  },
  {
   "cell_type": "code",
   "execution_count": 1,
   "metadata": {
    "state": "normal"
   },
   "outputs": [],
   "source": [
    "class BSTree:\n",
    "    class Node:\n",
    "        def __init__(self, val, left=None, right=None):\n",
    "            self.val = val\n",
    "            self.left = left\n",
    "            self.right = right\n",
    "            \n",
    "    def __init__(self):\n",
    "        self.size = 0\n",
    "        self.root = None\n",
    "    \n",
    "    def __contains__(self, val):\n",
    "        \"\"\"Returns `True` if val is in this tree and `False` otherwise.\"\"\"\n",
    "        pass\n",
    "    \n",
    "    def insert(self, val):\n",
    "        \"\"\"Inserts `val` into this tree while maintaining BSTree properties.\"\"\"\n",
    "        assert val not in self\n",
    "        pass    \n",
    "\n",
    "    def __delitem__(self, val):\n",
    "        \"\"\"Deletes `val` from this tree while maintaining BSTree properties.\"\"\"\n",
    "        assert val in self\n",
    "        pass\n",
    "    \n",
    "    def __iter__(self):\n",
    "        \"\"\"Returns an iterator over all the values in the tree, in ascending order.\"\"\"\n",
    "        pass\n",
    "\n",
    "    def __len__(self):\n",
    "        return self.size\n",
    "    \n",
    "    def height(self):\n",
    "        \"\"\"Returns the height of the root of the tree.\"\"\"\n",
    "        def height_rec(t):\n",
    "            if not t:\n",
    "                return 0\n",
    "            else:\n",
    "                return 1 + max(height_rec(t.left), height_rec(t.right))\n",
    "        return height_rec(self.root)\n",
    "\n",
    "    def pprint(self, width=64):\n",
    "        \"\"\"Attempts to pretty-print this tree's contents.\"\"\"\n",
    "        height = self.height()\n",
    "        nodes  = [(self.root, 0)]\n",
    "        prev_level = 0\n",
    "        repr_str = ''\n",
    "        while nodes:\n",
    "            n,level = nodes.pop(0)\n",
    "            if prev_level != level:\n",
    "                prev_level = level\n",
    "                repr_str += '\\n'\n",
    "            if not n:\n",
    "                if level < height-1:\n",
    "                    nodes.extend([(None, level+1), (None, level+1)])\n",
    "                repr_str += '{val:^{width}}'.format(val='-', width=width//2**level)\n",
    "            elif n:\n",
    "                if n.left or level < height-1:\n",
    "                    nodes.append((n.left, level+1))\n",
    "                if n.right or level < height-1:\n",
    "                    nodes.append((n.right, level+1))\n",
    "                repr_str += '{val:^{width}}'.format(val=n.val, width=width//2**level)\n",
    "        print(repr_str)"
   ]
  },
  {
   "cell_type": "code",
   "execution_count": 2,
   "metadata": {
    "state": "normal"
   },
   "outputs": [],
   "source": [
    "t = BSTree()\n",
    "t.root = BSTree.Node(5,\n",
    "                    left=BSTree.Node(2),\n",
    "                    right=BSTree.Node(10))\n",
    "t.size = 3"
   ]
  },
  {
   "cell_type": "code",
   "execution_count": 3,
   "metadata": {
    "state": "normal"
   },
   "outputs": [
    {
     "data": {
      "text/plain": [
       "2"
      ]
     },
     "execution_count": 3,
     "metadata": {},
     "output_type": "execute_result"
    }
   ],
   "source": [
    "t.height()"
   ]
  },
  {
   "cell_type": "code",
   "execution_count": 4,
   "metadata": {
    "state": "normal"
   },
   "outputs": [
    {
     "name": "stdout",
     "output_type": "stream",
     "text": [
      "                               5                                \n",
      "               2                               10               \n"
     ]
    }
   ],
   "source": [
    "t.pprint()"
   ]
  },
  {
   "cell_type": "markdown",
   "metadata": {
    "state": "normal"
   },
   "source": [
    "## Implementation"
   ]
  },
  {
   "cell_type": "markdown",
   "metadata": {
    "state": "normal"
   },
   "source": [
    "### Search"
   ]
  },
  {
   "cell_type": "code",
   "execution_count": 17,
   "metadata": {
    "state": "normal"
   },
   "outputs": [],
   "source": [
    "class BSTree(BSTree):\n",
    "    def __contains__(self, val):\n",
    "        def contains_rec(node):\n",
    "            if node is None:\n",
    "                return False\n",
    "            elif node.val == val:\n",
    "                return True\n",
    "            elif node.val < val:\n",
    "                return contains_rec(node.right)\n",
    "            else:\n",
    "                return contains_rec(node.left)\n",
    "            \n",
    "        return contains_rec(self.root)\n",
    "    # We can't implement __contains__ recursively since it takes a node, but\n",
    "    # the starting point is independent of such node"
   ]
  },
  {
   "cell_type": "code",
   "execution_count": 18,
   "metadata": {
    "state": "normal"
   },
   "outputs": [],
   "source": [
    "t = BSTree()\n",
    "t.root = BSTree.Node(5,\n",
    "                    left=BSTree.Node(2),\n",
    "                    right=BSTree.Node(10))\n",
    "t.size = 3"
   ]
  },
  {
   "cell_type": "code",
   "execution_count": 19,
   "metadata": {
    "state": "normal"
   },
   "outputs": [
    {
     "data": {
      "text/plain": [
       "False"
      ]
     },
     "execution_count": 19,
     "metadata": {},
     "output_type": "execute_result"
    }
   ],
   "source": [
    "100 in t"
   ]
  },
  {
   "cell_type": "markdown",
   "metadata": {
    "state": "normal"
   },
   "source": [
    "### Insertion"
   ]
  },
  {
   "cell_type": "code",
   "execution_count": 24,
   "metadata": {
    "state": "normal"
   },
   "outputs": [],
   "source": [
    "class BSTree(BSTree):\n",
    "    def insert(self, val):\n",
    "        def insert_rec(node): # Returns a whole new tree for use of insert\n",
    "            if not node:\n",
    "                return BSTree.Node(val)\n",
    "            elif node.val > val:\n",
    "                node.left = insert_rec(node.left)\n",
    "                return node\n",
    "            else: # node.val < val\n",
    "                node.right = insert_rec(node.right)\n",
    "                return node\n",
    "\n",
    "        assert val not in self\n",
    "        self.root = insert_rec(self.root)\n",
    "        self.size += 1"
   ]
  },
  {
   "cell_type": "code",
   "execution_count": 27,
   "metadata": {},
   "outputs": [
    {
     "name": "stdout",
     "output_type": "stream",
     "text": [
      "                               10                               \n",
      "               5                              100               \n",
      "       -               7               -               -        \n"
     ]
    }
   ],
   "source": [
    "t = BSTree()\n",
    "t.insert(10)\n",
    "t.insert(5)\n",
    "t.insert(7)\n",
    "t.insert(100)\n",
    "t.pprint()"
   ]
  },
  {
   "cell_type": "code",
   "execution_count": 29,
   "metadata": {
    "state": "normal"
   },
   "outputs": [
    {
     "name": "stdout",
     "output_type": "stream",
     "text": [
      "                               4                                \n",
      "               2                               -                \n",
      "       0               3               -               -        \n",
      "   -       1       -       -       -       -       -       -    \n"
     ]
    }
   ],
   "source": [
    "import random\n",
    "t = BSTree()\n",
    "vals = list(range(5))\n",
    "random.shuffle(vals)\n",
    "for x in vals:\n",
    "    t.insert(x)\n",
    "t.pprint()"
   ]
  },
  {
   "cell_type": "markdown",
   "metadata": {
    "state": "normal"
   },
   "source": [
    "### Removal"
   ]
  },
  {
   "cell_type": "code",
   "execution_count": 32,
   "metadata": {
    "state": "normal"
   },
   "outputs": [],
   "source": [
    "class BSTree(BSTree):\n",
    "    def __delitem__(self, val):\n",
    "        def delitem_rec(node):\n",
    "            if node.val > val:\n",
    "                node.left = delitem_rec(node.left)\n",
    "                return node\n",
    "            elif node.val < val:\n",
    "                node.right = delitem_rec(node.right)\n",
    "                return node\n",
    "            else: # node.val == val, delete node\n",
    "                # case 1: node is a leaf\n",
    "                if not node.left and not node.right:\n",
    "                    return None\n",
    "                # case 2: node contains only right subtree\n",
    "                elif not node.left:\n",
    "                    return node.right\n",
    "                # case 3: only left subtree\n",
    "                elif not node.right:\n",
    "                    return node.left\n",
    "                # case 4: both left and right subtrees\n",
    "                else:\n",
    "                    # Replacement will be the rightmost node from left subtree, or\n",
    "                    # leftmost node from right subtree\n",
    "                    \n",
    "                    pass\n",
    "\n",
    "        assert val in self\n",
    "        self.root = delitem_rec(self.root)\n",
    "        self.size -= 1"
   ]
  },
  {
   "cell_type": "code",
   "execution_count": 30,
   "metadata": {
    "state": "normal"
   },
   "outputs": [
    {
     "name": "stdout",
     "output_type": "stream",
     "text": [
      "                               10                               \n",
      "               5                               15               \n",
      "       2               -               -               17       \n"
     ]
    }
   ],
   "source": [
    "t = BSTree()\n",
    "for x in [10, 5, 15, 2, 17]:\n",
    "    t.insert(x)\n",
    "t.pprint()"
   ]
  },
  {
   "cell_type": "code",
   "execution_count": 31,
   "metadata": {
    "state": "normal"
   },
   "outputs": [
    {
     "name": "stdout",
     "output_type": "stream",
     "text": [
      "                               10                               \n",
      "               5                               15               \n",
      "       2               -               -               17       \n"
     ]
    }
   ],
   "source": [
    "del t[2]\n",
    "t.pprint()"
   ]
  },
  {
   "cell_type": "code",
   "execution_count": 33,
   "metadata": {
    "state": "normal"
   },
   "outputs": [
    {
     "name": "stdout",
     "output_type": "stream",
     "text": [
      "                               10                               \n",
      "               5                               15               \n",
      "       2               -               -               17       \n"
     ]
    }
   ],
   "source": [
    "t = BSTree()\n",
    "for x in [10, 5, 15, 2, 17]:\n",
    "    t.insert(x)\n",
    "t.pprint()"
   ]
  },
  {
   "cell_type": "code",
   "execution_count": 34,
   "metadata": {
    "state": "normal"
   },
   "outputs": [
    {
     "name": "stdout",
     "output_type": "stream",
     "text": [
      "                               10                               \n",
      "               2                               15               \n",
      "       -               -               -               17       \n"
     ]
    }
   ],
   "source": [
    "del t[5]\n",
    "t.pprint()"
   ]
  },
  {
   "cell_type": "code",
   "execution_count": 35,
   "metadata": {
    "state": "normal"
   },
   "outputs": [
    {
     "name": "stdout",
     "output_type": "stream",
     "text": [
      "                               10                               \n",
      "               5                               15               \n",
      "       2               -               -               17       \n"
     ]
    }
   ],
   "source": [
    "t = BSTree()\n",
    "for x in [10, 5, 15, 2, 17]:\n",
    "    t.insert(x)\n",
    "t.pprint()"
   ]
  },
  {
   "cell_type": "code",
   "execution_count": 36,
   "metadata": {
    "state": "normal"
   },
   "outputs": [
    {
     "name": "stdout",
     "output_type": "stream",
     "text": [
      "                               10                               \n",
      "               5                               17               \n",
      "       2               -               -               -        \n"
     ]
    }
   ],
   "source": [
    "del t[15]\n",
    "t.pprint()"
   ]
  },
  {
   "cell_type": "code",
   "execution_count": 37,
   "metadata": {
    "state": "normal"
   },
   "outputs": [
    {
     "name": "stdout",
     "output_type": "stream",
     "text": [
      "                               10                               \n",
      "               5                               15               \n",
      "       2               -               -               17       \n"
     ]
    }
   ],
   "source": [
    "t = BSTree()\n",
    "for x in [10, 5, 15, 2, 17]:\n",
    "    t.insert(x)\n",
    "t.pprint()"
   ]
  },
  {
   "cell_type": "code",
   "execution_count": 38,
   "metadata": {
    "state": "normal"
   },
   "outputs": [
    {
     "name": "stdout",
     "output_type": "stream",
     "text": [
      "                               -                                \n"
     ]
    }
   ],
   "source": [
    "del t[10]\n",
    "t.pprint()"
   ]
  },
  {
   "cell_type": "code",
   "execution_count": 57,
   "metadata": {
    "state": "normal"
   },
   "outputs": [],
   "source": [
    "class BSTree(BSTree):\n",
    "    def __delitem__(self, val):\n",
    "        assert val in self\n",
    "        def delitem_rec(node):\n",
    "            if val < node.val:\n",
    "                node.left = delitem_rec(node.left)\n",
    "                return node\n",
    "            elif val > node.val:\n",
    "                node.right = delitem_rec(node.right)\n",
    "                return node\n",
    "            else:\n",
    "                if not node.left and not node.right:\n",
    "                    return None\n",
    "                elif node.left and not node.right:\n",
    "                    return node.left\n",
    "                elif node.right and not node.left:\n",
    "                    return node.right\n",
    "                else:\n",
    "                    # Replacement will be the rightmost node from left subtree\n",
    "                    n = node.left\n",
    "                    if not n.right:\n",
    "                        node.val = n.val\n",
    "                        node.left = n.left  # Promote subtree\n",
    "                    else:\n",
    "                        pn = n\n",
    "                        n = n.right\n",
    "                        while n.right: # Locate node to delete and its parent\n",
    "                            pn = n\n",
    "                            n = n.right\n",
    "                        node.val = n.val\n",
    "                        pn.right = n.left # Promote left subtree from child to parent\n",
    "                        # Works since all of these are references dependent on node\n",
    "                    return node\n",
    "                        \n",
    "        self.root = delitem_rec(self.root)\n",
    "        self.size -= 1"
   ]
  },
  {
   "cell_type": "code",
   "execution_count": 40,
   "metadata": {
    "state": "normal"
   },
   "outputs": [
    {
     "name": "stdout",
     "output_type": "stream",
     "text": [
      "                               10                               \n",
      "               5                               15               \n",
      "       2               7               12              18       \n",
      "   1       -       -       9       -       -       -       -    \n",
      " -   -   -   -   -   -   8   -   -   -   -   -   -   -   -   -  \n"
     ]
    }
   ],
   "source": [
    "t = BSTree()\n",
    "for x in [10, 5, 2, 7, 9, 8, 1, 15, 12, 18]:\n",
    "    t.insert(x)\n",
    "t.pprint()"
   ]
  },
  {
   "cell_type": "code",
   "execution_count": 41,
   "metadata": {
    "state": "normal"
   },
   "outputs": [
    {
     "name": "stdout",
     "output_type": "stream",
     "text": [
      "                               10                               \n",
      "               5                               12               \n",
      "       2               7               -               18       \n",
      "   1       -       -       9       -       -       -       -    \n",
      " -   -   -   -   -   -   8   -   -   -   -   -   -   -   -   -  \n"
     ]
    }
   ],
   "source": [
    "del t[15]\n",
    "t.pprint()"
   ]
  },
  {
   "cell_type": "code",
   "execution_count": 42,
   "metadata": {
    "state": "normal"
   },
   "outputs": [
    {
     "name": "stdout",
     "output_type": "stream",
     "text": [
      "                               10                               \n",
      "               5                               15               \n",
      "       2               7               12              18       \n",
      "   1       -       -       9       -       -       -       -    \n",
      " -   -   -   -   -   -   8   -   -   -   -   -   -   -   -   -  \n"
     ]
    }
   ],
   "source": [
    "t = BSTree()\n",
    "for x in [10, 5, 2, 7, 9, 8, 1, 15, 12, 18]:\n",
    "    t.insert(x)\n",
    "t.pprint()"
   ]
  },
  {
   "cell_type": "code",
   "execution_count": 43,
   "metadata": {
    "state": "normal"
   },
   "outputs": [
    {
     "name": "stdout",
     "output_type": "stream",
     "text": [
      "                               10                               \n",
      "               2                               15               \n",
      "       1               7               12              18       \n",
      "   -       -       -       9       -       -       -       -    \n",
      " -   -   -   -   -   -   8   -   -   -   -   -   -   -   -   -  \n"
     ]
    }
   ],
   "source": [
    "del t[5]\n",
    "t.pprint()"
   ]
  },
  {
   "cell_type": "code",
   "execution_count": 44,
   "metadata": {
    "state": "normal"
   },
   "outputs": [
    {
     "name": "stdout",
     "output_type": "stream",
     "text": [
      "                               10                               \n",
      "               5                               15               \n",
      "       2               7               12              18       \n",
      "   1       -       -       9       -       -       -       -    \n",
      " -   -   -   -   -   -   8   -   -   -   -   -   -   -   -   -  \n"
     ]
    }
   ],
   "source": [
    "t = BSTree()\n",
    "for x in [10, 5, 2, 7, 9, 8, 1, 15, 12, 18]:\n",
    "    t.insert(x)\n",
    "t.pprint()"
   ]
  },
  {
   "cell_type": "code",
   "execution_count": 45,
   "metadata": {
    "state": "normal"
   },
   "outputs": [
    {
     "name": "stdout",
     "output_type": "stream",
     "text": [
      "                               9                                \n",
      "               5                               15               \n",
      "       2               7               12              18       \n",
      "   1       -       -       8       -       -       -       -    \n"
     ]
    }
   ],
   "source": [
    "del t[10]\n",
    "t.pprint()"
   ]
  },
  {
   "cell_type": "markdown",
   "metadata": {
    "state": "normal"
   },
   "source": [
    "### Iteration / Traversal"
   ]
  },
  {
   "cell_type": "code",
   "execution_count": 46,
   "metadata": {
    "state": "normal"
   },
   "outputs": [],
   "source": [
    "class BSTree(BSTree):\n",
    "    def __iter__(self):\n",
    "        def iter_rec(node):\n",
    "            if node:\n",
    "                yield from iter_rec(node.left)\n",
    "                yield node.val\n",
    "                yield from iter_rec(node.right)\n",
    "        return iter_rec(self.root)"
   ]
  },
  {
   "cell_type": "code",
   "execution_count": 53,
   "metadata": {
    "state": "normal"
   },
   "outputs": [
    {
     "name": "stdout",
     "output_type": "stream",
     "text": [
      "                               10                               \n",
      "               5                               15               \n",
      "       3               6               11              17       \n",
      "   0       4       -       8       -       12      16      19   \n",
      " -   1   -   -   -   -   7   9   -   -   -   14  -   -   18  -  \n",
      "- - - 2 - - - - - - - - - - - - - - - - - - 13- - - - - - - - - \n",
      "0\n",
      "1\n",
      "2\n",
      "3\n",
      "4\n",
      "5\n",
      "6\n",
      "7\n",
      "8\n",
      "9\n",
      "10\n",
      "11\n",
      "12\n",
      "13\n",
      "14\n",
      "15\n",
      "16\n",
      "17\n",
      "18\n",
      "19\n"
     ]
    }
   ],
   "source": [
    "import random\n",
    "t = BSTree()\n",
    "vals = list(range(20))\n",
    "random.shuffle(vals)\n",
    "for x in vals:\n",
    "    t.insert(x)\n",
    "t.pprint()\n",
    "for x in t:\n",
    "    print(x)"
   ]
  },
  {
   "cell_type": "markdown",
   "metadata": {
    "state": "normal"
   },
   "source": [
    "### Iteration by Level"
   ]
  },
  {
   "cell_type": "code",
   "execution_count": 54,
   "metadata": {
    "state": "normal"
   },
   "outputs": [],
   "source": [
    "class BSTree(BSTree):\n",
    "    def __iter__(self):\n",
    "        queue = [self.root]\n",
    "        while queue:\n",
    "            node = queue.pop(0)\n",
    "            yield node.val\n",
    "            if node.left:\n",
    "                queue.append(node.left)\n",
    "            if node.right:\n",
    "                queue.append(node.right)"
   ]
  },
  {
   "cell_type": "code",
   "execution_count": 55,
   "metadata": {
    "state": "normal"
   },
   "outputs": [
    {
     "name": "stdout",
     "output_type": "stream",
     "text": [
      "                               4                                \n",
      "               2                               9                \n",
      "       1               3               8               -        \n",
      "   0       -       -       -       7       -       -       -    \n",
      " -   -   -   -   -   -   -   -   5   -   -   -   -   -   -   -  \n",
      "- - - - - - - - - - - - - - - - - 6 - - - - - - - - - - - - - - \n"
     ]
    }
   ],
   "source": [
    "import random\n",
    "t = BSTree()\n",
    "vals = list(range(10))\n",
    "random.shuffle(vals)\n",
    "for x in vals:\n",
    "    t.insert(x)\n",
    "t.pprint()"
   ]
  },
  {
   "cell_type": "code",
   "execution_count": 56,
   "metadata": {
    "state": "normal"
   },
   "outputs": [
    {
     "name": "stdout",
     "output_type": "stream",
     "text": [
      "4\n",
      "2\n",
      "9\n",
      "1\n",
      "3\n",
      "8\n",
      "0\n",
      "7\n",
      "5\n",
      "6\n"
     ]
    }
   ],
   "source": [
    "for x in t:\n",
    "    print(x)"
   ]
  },
  {
   "cell_type": "markdown",
   "metadata": {
    "state": "normal"
   },
   "source": [
    "## Runtime Complexity"
   ]
  },
  {
   "cell_type": "markdown",
   "metadata": {
    "state": "normal"
   },
   "source": [
    "The runtime complexity of the search, insert, and delete methods of the binary search tree are dependent, ultimately, on the depth of their recursive implementation. The depth of recursion is in turn dependent on the height of the binary search tree.\n",
    "\n",
    "Given $N$ nodes, the height of a binary search tree is, in the worst case = $N$\n",
    "\n",
    "This gives us the following worst-case runtime complexities:\n",
    "\n",
    "- Search = $O(N)$\n",
    "- Insert = $O(N)$\n",
    "- Delete = $O(N)$\n",
    "\n",
    "How can we improve this runtime complexity? What should be our target runtime complexity? $O(\\log{N})$."
   ]
  }
 ],
 "metadata": {
  "kernelspec": {
   "display_name": "Python 3",
   "language": "python",
   "name": "python3"
  },
  "language_info": {
   "codemirror_mode": {
    "name": "ipython",
    "version": 3
   },
   "file_extension": ".py",
   "mimetype": "text/x-python",
   "name": "python",
   "nbconvert_exporter": "python",
   "pygments_lexer": "ipython3",
   "version": "3.10.13"
  },
  "mimir": {
   "data": {},
   "last_submission_id": "",
   "project_id": "70342fc0-6851-4ef5-89fd-5f50ede58dc2"
  },
  "varInspector": {
   "cols": {
    "lenName": 16,
    "lenType": 16,
    "lenVar": 40
   },
   "kernels_config": {
    "python": {
     "delete_cmd_postfix": "",
     "delete_cmd_prefix": "del ",
     "library": "var_list.py",
     "varRefreshCmd": "print(var_dic_list())"
    },
    "r": {
     "delete_cmd_postfix": ") ",
     "delete_cmd_prefix": "rm(",
     "library": "var_list.r",
     "varRefreshCmd": "cat(var_dic_list()) "
    }
   },
   "types_to_exclude": [
    "module",
    "function",
    "builtin_function_or_method",
    "instance",
    "_Feature"
   ],
   "window_display": false
  }
 },
 "nbformat": 4,
 "nbformat_minor": 4
}
