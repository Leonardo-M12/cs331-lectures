{
 "cells": [
  {
   "cell_type": "markdown",
   "metadata": {
    "state": "normal"
   },
   "source": [
    "# Binary Search Trees\n",
    "\n",
    "## Agenda\n",
    "\n",
    "- Binary Trees & Binary Search Trees: definitions\n",
    "- Linked tree structure and Manual construction\n",
    "- Recursive binary search tree functions"
   ]
  },
  {
   "cell_type": "markdown",
   "metadata": {
    "state": "normal"
   },
   "source": [
    "## Binary Tree: def\n",
    "\n",
    "- A *binary tree* is a structure that is either empty, or consists of a *root* node containing a value and references to a left and right *sub-tree*, which are themselves binary trees.\n",
    "\n",
    "Naming nodes:\n",
    "- The single node in a binary tree without a parent is the root node of the tree\n",
    "- We say that a given node is the *parent* of its left and right *child* nodes; nodes with the same parent are called *siblings*\n",
    "- If a node has no children we call it a *leaf* node; otherwise, we call it an *internal* node\n",
    "\n",
    "Binary tree metrics (note: alternative defs are sometimes used!):\n",
    "\n",
    "- The *depth* of a node is the number of nodes from the root of the tree to that node (inclusive)\n",
    "- The *height* of a node is the number of nodes on the longest path from that node down to a leaf (inclusive)\n",
    "\n",
    "Categorizing binary trees:\n",
    "\n",
    "- In a *full* binary tree every node has either 0 or 2 children\n",
    "- In a *complete* binary tree all levels but the last are filled, and the last level is filled in from left to right\n",
    "- In a *perfect* binary tree all leaves have the same depth\n",
    "- In a *balanced* binary tree ... ?"
   ]
  },
  {
   "cell_type": "markdown",
   "metadata": {
    "state": "normal"
   },
   "source": [
    "## Binary Search Tree (BSTree): def\n",
    "\n",
    "- A *binary search tree* is a binary tree where the value contained in each node is:\n",
    "    - *greater than* all values in its left subtree, and\n",
    "    - *less than* all values in its right subtree"
   ]
  },
  {
   "cell_type": "markdown",
   "metadata": {
    "state": "normal"
   },
   "source": [
    "## Linked tree structure and Manual construction:"
   ]
  },
  {
   "cell_type": "code",
   "execution_count": 1,
   "metadata": {
    "state": "normal"
   },
   "outputs": [],
   "source": [
    "class Node:\n",
    "    def __init__(self, val, left=None, right=None):\n",
    "        self.val = val\n",
    "        self.left = left\n",
    "        self.right = right"
   ]
  },
  {
   "cell_type": "code",
   "execution_count": 2,
   "metadata": {},
   "outputs": [],
   "source": [
    "bst = Node(10)\n",
    "bst.left = Node(5, \n",
    "                left=Node(1),\n",
    "                right=Node(7))\n",
    "bst.right = Node(15,\n",
    "                 left=Node(12),\n",
    "                 right=Node(20,\n",
    "                            left=Node(17),\n",
    "                            right=Node(25))) "
   ]
  },
  {
   "cell_type": "markdown",
   "metadata": {
    "state": "normal"
   },
   "source": [
    "## Recursive bstree functions"
   ]
  },
  {
   "cell_type": "code",
   "execution_count": 3,
   "metadata": {
    "state": "normal"
   },
   "outputs": [],
   "source": [
    "def minval(t):\n",
    "    # n = t\n",
    "    # while n.left:\n",
    "    #     n = n.left\n",
    "    # return n.val\n",
    "    assert t is not None\n",
    "    if not t.left:\n",
    "        return t.val\n",
    "    else:\n",
    "        return minval(t.left)"
   ]
  },
  {
   "cell_type": "code",
   "execution_count": 4,
   "metadata": {},
   "outputs": [
    {
     "data": {
      "text/plain": [
       "1"
      ]
     },
     "execution_count": 4,
     "metadata": {},
     "output_type": "execute_result"
    }
   ],
   "source": [
    "minval(bst)"
   ]
  },
  {
   "cell_type": "code",
   "execution_count": 5,
   "metadata": {
    "state": "normal"
   },
   "outputs": [],
   "source": [
    "def maxval(t):\n",
    "    assert t is not None\n",
    "    if not t.right:\n",
    "        return t.val\n",
    "    else:\n",
    "        return maxval(t.right)"
   ]
  },
  {
   "cell_type": "code",
   "execution_count": 6,
   "metadata": {},
   "outputs": [
    {
     "data": {
      "text/plain": [
       "25"
      ]
     },
     "execution_count": 6,
     "metadata": {},
     "output_type": "execute_result"
    }
   ],
   "source": [
    "maxval(bst)"
   ]
  },
  {
   "cell_type": "code",
   "execution_count": 7,
   "metadata": {
    "state": "normal"
   },
   "outputs": [],
   "source": [
    "def find(t, x): # Linear recursive, easy and better to implement using iteration\n",
    "    if t is None:\n",
    "        return False\n",
    "    elif t.val == x:\n",
    "        return True\n",
    "    elif t.val < x:\n",
    "        return find(t.right, x)\n",
    "    else:\n",
    "        return find(t.left, x)"
   ]
  },
  {
   "cell_type": "code",
   "execution_count": 11,
   "metadata": {},
   "outputs": [
    {
     "data": {
      "text/plain": [
       "True"
      ]
     },
     "execution_count": 11,
     "metadata": {},
     "output_type": "execute_result"
    }
   ],
   "source": [
    "find(bst, 15)"
   ]
  },
  {
   "cell_type": "code",
   "execution_count": 12,
   "metadata": {
    "state": "normal"
   },
   "outputs": [],
   "source": [
    "def height(t): # Tree recursive, not easy to implement iteratively and not much to gain from it\n",
    "    if not t:\n",
    "        return 0\n",
    "    else:\n",
    "        return 1 + max(height(t.left), height(t.right))"
   ]
  },
  {
   "cell_type": "code",
   "execution_count": 13,
   "metadata": {},
   "outputs": [
    {
     "data": {
      "text/plain": [
       "4"
      ]
     },
     "execution_count": 13,
     "metadata": {},
     "output_type": "execute_result"
    }
   ],
   "source": [
    "height(bst)"
   ]
  },
  {
   "cell_type": "code",
   "execution_count": 18,
   "metadata": {
    "state": "normal"
   },
   "outputs": [],
   "source": [
    "def visit(t):\n",
    "    if not t:\n",
    "        return\n",
    "    else:\n",
    "        # Pre-order traversal\n",
    "        # print(t.val)\n",
    "        # visit(t.left)\n",
    "        # visit(t.right)\n",
    "\n",
    "        # Post-order traversal\n",
    "        # visit(t.left)\n",
    "        # visit(t.right)\n",
    "        # print(t.val)\n",
    "\n",
    "        # In-order traversal\n",
    "        visit(t.left)\n",
    "        print(t.val)\n",
    "        visit(t.right)"
   ]
  },
  {
   "cell_type": "code",
   "execution_count": 26,
   "metadata": {},
   "outputs": [],
   "source": [
    "def visit(t):\n",
    "    nodes = [t]\n",
    "    while nodes:\n",
    "        # Yields a breadth-first traversal, since we are using a queue-like supporting data structure\n",
    "        n = nodes.pop(0)\n",
    "        print(n.val)\n",
    "        if n.left:\n",
    "            nodes.append(n.left)\n",
    "        if n.right:\n",
    "            nodes.append(n.right)"
   ]
  },
  {
   "cell_type": "code",
   "execution_count": 27,
   "metadata": {},
   "outputs": [
    {
     "name": "stdout",
     "output_type": "stream",
     "text": [
      "10\n",
      "5\n",
      "15\n",
      "1\n",
      "7\n",
      "12\n",
      "20\n",
      "17\n",
      "25\n"
     ]
    }
   ],
   "source": [
    "visit(bst)"
   ]
  },
  {
   "cell_type": "markdown",
   "metadata": {},
   "source": [
    "To create a recursive iterator, using yield as usual won't work, since Python interprets the recursive call as an iterator object. We need the `yield from` keywords:"
   ]
  },
  {
   "cell_type": "code",
   "execution_count": 20,
   "metadata": {},
   "outputs": [],
   "source": [
    "def visit_iter(t):\n",
    "    if t:\n",
    "        yield from visit_iter(t.left)\n",
    "        yield t.val\n",
    "        yield from visit_iter(t.right)"
   ]
  },
  {
   "cell_type": "code",
   "execution_count": 23,
   "metadata": {},
   "outputs": [
    {
     "name": "stdout",
     "output_type": "stream",
     "text": [
      "1\n",
      "5\n",
      "7\n",
      "10\n",
      "12\n",
      "15\n",
      "17\n",
      "20\n",
      "25\n"
     ]
    }
   ],
   "source": [
    "for x in visit_iter(bst):\n",
    "    print(x)"
   ]
  }
 ],
 "metadata": {
  "kernelspec": {
   "display_name": "Python 3 (ipykernel)",
   "language": "python",
   "name": "python3"
  },
  "language_info": {
   "codemirror_mode": {
    "name": "ipython",
    "version": 3
   },
   "file_extension": ".py",
   "mimetype": "text/x-python",
   "name": "python",
   "nbconvert_exporter": "python",
   "pygments_lexer": "ipython3",
   "version": "3.10.13"
  },
  "mimir": {
   "data": {},
   "last_submission_id": "",
   "project_id": "0192a678-de78-4875-a365-b09a35992fd2"
  },
  "varInspector": {
   "cols": {
    "lenName": 16,
    "lenType": 16,
    "lenVar": 40
   },
   "kernels_config": {
    "python": {
     "delete_cmd_postfix": "",
     "delete_cmd_prefix": "del ",
     "library": "var_list.py",
     "varRefreshCmd": "print(var_dic_list())"
    },
    "r": {
     "delete_cmd_postfix": ") ",
     "delete_cmd_prefix": "rm(",
     "library": "var_list.r",
     "varRefreshCmd": "cat(var_dic_list()) "
    }
   },
   "types_to_exclude": [
    "module",
    "function",
    "builtin_function_or_method",
    "instance",
    "_Feature"
   ],
   "window_display": false
  }
 },
 "nbformat": 4,
 "nbformat_minor": 4
}
