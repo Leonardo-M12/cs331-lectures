{
  "cells": [
    {
      "metadata": {
        "state": "normal"
      },
      "cell_type": "markdown",
      "source": "# Binary Search Trees\n\n## Agenda\n\n- Binary Trees & Binary Search Trees: definitions\n- Linked tree structure and Manual construction\n- Recursive binary search tree functions"
    },
    {
      "metadata": {
        "state": "normal"
      },
      "cell_type": "markdown",
      "source": "## Binary Tree: def\n\n- A *binary tree* is a structure that is either empty, or consists of a *root* node containing a value and references to a left and right *sub-tree*, which are themselves binary trees.\n\nNaming nodes:\n- The single node in a binary tree without a parent is the root node of the tree\n- We say that a given node is the *parent* of its left and right *child* nodes; nodes with the same parent are called *siblings*\n- If a node has no children we call it a *leaf* node; otherwise, we call it an *internal* node\n\nBinary tree metrics (note: alternative defs are sometimes used!):\n\n- The *depth* of a node is the number of nodes from the root of the tree to that node (inclusive)\n- The *height* of a node is the number of nodes on the longest path from that node down to a leaf (inclusive)\n\nCategorizing binary trees:\n\n- A *complete* binary tree is one where all but the last level are filled, and in the last level leaves are as far to the left as possible\n- A *perfect* binary tree is one where all internal nodes have 2 children, and all leaves have the same depth\n- A *balanced* binary tree is ... ?"
    },
    {
      "metadata": {
        "state": "normal"
      },
      "cell_type": "markdown",
      "source": "## Binary Search Tree (BSTree): def\n\n- A *binary search tree* is a binary tree where the value contained in every node is:\n    - *greater than* all keys in its left subtree, and\n    - *less than* all keys in its right subtree"
    },
    {
      "metadata": {
        "state": "normal"
      },
      "cell_type": "markdown",
      "source": "## Linked tree structure and Manual construction:"
    },
    {
      "metadata": {
        "state": "normal",
        "trusted": true
      },
      "cell_type": "code",
      "source": "class Node:\n    def __init__(self, val, left=None, right=None):\n        self.val = val\n        self.left = left\n        self.right = right",
      "execution_count": null,
      "outputs": []
    },
    {
      "metadata": {
        "state": "normal"
      },
      "cell_type": "markdown",
      "source": "## Recursive bstree functions"
    },
    {
      "metadata": {
        "state": "normal",
        "trusted": true
      },
      "cell_type": "code",
      "source": "def minval(t):\n    pass",
      "execution_count": null,
      "outputs": []
    },
    {
      "metadata": {
        "state": "normal",
        "trusted": true
      },
      "cell_type": "code",
      "source": "def maxval(t):\n    pass",
      "execution_count": null,
      "outputs": []
    },
    {
      "metadata": {
        "state": "normal",
        "trusted": true
      },
      "cell_type": "code",
      "source": "def find(t, x):\n    pass",
      "execution_count": null,
      "outputs": []
    },
    {
      "metadata": {
        "state": "normal",
        "trusted": true
      },
      "cell_type": "code",
      "source": "def height(t):\n    pass",
      "execution_count": null,
      "outputs": []
    },
    {
      "metadata": {
        "state": "normal",
        "trusted": true
      },
      "cell_type": "code",
      "source": "def visit(t):\n    pass",
      "execution_count": null,
      "outputs": []
    }
  ],
  "metadata": {
    "kernelspec": {
      "name": "python3",
      "display_name": "Python 3",
      "language": "python"
    },
    "language_info": {
      "name": "python",
      "version": "3.7.3",
      "mimetype": "text/x-python",
      "codemirror_mode": {
        "name": "ipython",
        "version": 3
      },
      "pygments_lexer": "ipython3",
      "nbconvert_exporter": "python",
      "file_extension": ".py"
    },
    "mimir": {
      "project_id": "0192a678-de78-4875-a365-b09a35992fd2",
      "last_submission_id": "",
      "data": {}
    },
    "varInspector": {
      "window_display": false,
      "cols": {
        "lenName": 16,
        "lenType": 16,
        "lenVar": 40
      },
      "kernels_config": {
        "python": {
          "library": "var_list.py",
          "delete_cmd_prefix": "del ",
          "delete_cmd_postfix": "",
          "varRefreshCmd": "print(var_dic_list())"
        },
        "r": {
          "library": "var_list.r",
          "delete_cmd_prefix": "rm(",
          "delete_cmd_postfix": ") ",
          "varRefreshCmd": "cat(var_dic_list()) "
        }
      },
      "types_to_exclude": [
        "module",
        "function",
        "builtin_function_or_method",
        "instance",
        "_Feature"
      ]
    }
  },
  "nbformat": 4,
  "nbformat_minor": 2
}