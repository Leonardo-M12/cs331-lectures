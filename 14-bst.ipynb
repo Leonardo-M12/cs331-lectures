{
 "cells": [
  {
   "cell_type": "markdown",
   "metadata": {},
   "source": [
    "# Binary Search Trees\n",
    "\n",
    "## Agenda\n",
    "\n",
    "- Binary Trees & Binary Search Trees: definitions\n",
    "- Linked tree structure and Manual construction\n",
    "- Recursive binary search tree functions"
   ]
  },
  {
   "cell_type": "markdown",
   "metadata": {},
   "source": [
    "## Binary Tree: def\n",
    "\n",
    "- A *binary tree* is a structure that is either empty, or consists of a *root* node containing a value and references to a left and right *sub-tree*, which are themselves binary trees.\n",
    "\n",
    "Naming nodes:\n",
    "- The single node in a binary tree without a parent is the root node of the tree\n",
    "- We say that a given node is the *parent* of its left and right *child* nodes; nodes with the same parent are called *siblings*\n",
    "- If a node has no children we call it a *leaf* node; otherwise, we call it an *internal* node\n",
    "\n",
    "Binary tree metrics (note: alternative defs are sometimes used!):\n",
    "\n",
    "- The *depth* of a node is the number of nodes from the root of the tree to that node (inclusive)\n",
    "- The *height* of a node is the number of nodes on the longest path from that node down to a leaf (inclusive)\n",
    "\n",
    "Categorizing binary trees:\n",
    "\n",
    "- A *complete* binary tree is one where all but the last level are filled, and in the last level leaves are as far to the left as possible\n",
    "- A *perfect* binary tree is one where all internal nodes have 2 children, and all leaves have the same depth\n",
    "- A *balanced* binary tree is ... ?"
   ]
  },
  {
   "cell_type": "markdown",
   "metadata": {},
   "source": [
    "## Binary Search Tree (BSTree): def\n",
    "\n",
    "- A *binary search tree* is a binary tree where the value contained in every node is:\n",
    "    - *greater than* all keys in its left subtree, and\n",
    "    - *less than* all keys in its right subtree"
   ]
  },
  {
   "cell_type": "markdown",
   "metadata": {},
   "source": [
    "## Linked tree structure and Manual construction:"
   ]
  },
  {
   "cell_type": "code",
   "execution_count": 1,
   "metadata": {},
   "outputs": [],
   "source": [
    "class Node:\n",
    "    def __init__(self, val, left=None, right=None):\n",
    "        self.val = val\n",
    "        self.left = left\n",
    "        self.right = right"
   ]
  },
  {
   "cell_type": "markdown",
   "metadata": {},
   "source": [
    "## Recursive bstree functions"
   ]
  },
  {
   "cell_type": "code",
   "execution_count": null,
   "metadata": {
    "collapsed": true
   },
   "outputs": [],
   "source": [
    "def min(t):\n",
    "    pass"
   ]
  },
  {
   "cell_type": "code",
   "execution_count": null,
   "metadata": {
    "collapsed": true
   },
   "outputs": [],
   "source": [
    "def max(t):\n",
    "    pass"
   ]
  },
  {
   "cell_type": "code",
   "execution_count": 3,
   "metadata": {
    "collapsed": true
   },
   "outputs": [],
   "source": [
    "def find(t, x):\n",
    "    pass"
   ]
  },
  {
   "cell_type": "code",
   "execution_count": 13,
   "metadata": {},
   "outputs": [],
   "source": [
    "def height(t):\n",
    "    pass"
   ]
  },
  {
   "cell_type": "code",
   "execution_count": 9,
   "metadata": {},
   "outputs": [],
   "source": [
    "def visit(t):\n",
    "    pass"
   ]
  }
 ],
 "metadata": {
  "kernelspec": {
   "display_name": "Python 3",
   "language": "python",
   "name": "python3"
  },
  "language_info": {
   "codemirror_mode": {
    "name": "ipython",
    "version": 3
   },
   "file_extension": ".py",
   "mimetype": "text/x-python",
   "name": "python",
   "nbconvert_exporter": "python",
   "pygments_lexer": "ipython3",
   "version": "3.7.4"
  }
 },
 "nbformat": 4,
 "nbformat_minor": 1
}
