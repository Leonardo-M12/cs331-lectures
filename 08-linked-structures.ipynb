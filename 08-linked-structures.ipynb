{
  "cells": [
    {
      "metadata": {
        "state": "normal"
      },
      "cell_type": "markdown",
      "source": "# Linked Structures\n\n## Agenda\n\n1. Motivation\n2. Wishlist\n3. Mechanisms\n4. Linked Data Structures"
    },
    {
      "metadata": {
        "state": "normal"
      },
      "cell_type": "markdown",
      "source": "## 1. Motivation: built-in, array-backed list runtimes"
    },
    {
      "metadata": {
        "state": "normal"
      },
      "cell_type": "markdown",
      "source": "What are the runtime complexities of some common operations for updating an array-backed list?"
    },
    {
      "metadata": {
        "state": "normal",
        "trusted": false
      },
      "cell_type": "code",
      "source": "import matplotlib.pyplot as plt\nimport numpy as np\nfrom timeit import timeit\n%matplotlib inline",
      "execution_count": null,
      "outputs": []
    },
    {
      "metadata": {
        "state": "normal"
      },
      "cell_type": "markdown",
      "source": "### Index-based update"
    },
    {
      "metadata": {
        "state": "normal",
        "trusted": false
      },
      "cell_type": "code",
      "source": "size = 10_000\n\nts = [timeit('lst[{}] = None'.format(n),\n             setup='lst = list(range({}))'.format(size),\n             number=100)\n      for n in range(0, size, 10)]\n\nplt.plot(ts, 'ro');",
      "execution_count": null,
      "outputs": []
    },
    {
      "metadata": {
        "state": "normal"
      },
      "cell_type": "markdown",
      "source": "### Appending"
    },
    {
      "metadata": {
        "state": "normal",
        "trusted": false
      },
      "cell_type": "code",
      "source": "ns = np.linspace(100, 10000, 50, dtype=int)\n\nts = [timeit('lst.append(None)',\n             setup='lst = list(range({}))'.format(n),\n             number=1000)\n      for n in ns]\n\nplt.plot(ns, ts, 'ro');",
      "execution_count": null,
      "outputs": []
    },
    {
      "metadata": {
        "state": "normal"
      },
      "cell_type": "markdown",
      "source": "### Insertion & Deletion"
    },
    {
      "metadata": {
        "state": "normal",
        "trusted": false
      },
      "cell_type": "code",
      "source": "ns = np.linspace(100, 10000, 50, dtype=int)\n\n# timing insertion at front\nins_ts = [timeit('lst.insert(0, None)',\n                 setup='lst = list(range({}))'.format(n),\n                 number=100)\n          for n in ns]\n\n# timing deletion at front\ndel_ts = [timeit('del lst[0]',\n                 setup='lst = list(range({}))'.format(n),\n                 number=100)\n          for n in ns]\n\nplt.plot(ns, ins_ts, 'go')\nplt.plot(ns, del_ts, 'ro');",
      "execution_count": null,
      "outputs": []
    },
    {
      "metadata": {
        "state": "normal"
      },
      "cell_type": "markdown",
      "source": "### Concatenation"
    },
    {
      "metadata": {
        "state": "normal",
        "trusted": false
      },
      "cell_type": "code",
      "source": "def concat1(lst1, lst2):\n    for x in lst2:\n        lst1.append(x)\n    return lst1\n\ndef concat2(lst1, lst2):\n    lst1.extend(lst2)\n    return lst1\n\ndef concat3(lst1, lst2):\n    return lst1 + lst2",
      "execution_count": null,
      "outputs": []
    },
    {
      "metadata": {
        "state": "normal",
        "trusted": false
      },
      "cell_type": "code",
      "source": "ns = np.linspace(100, 10000, 50, dtype=int)\n\nts = [[timeit('{}(lst1, lst2)'.format(fn),\n              setup='lst1 = list(range({})); lst2 = list(range({}))'.format(n, n),\n              number=100,\n              globals=globals())\n       for n in ns] for fn in ('concat1', 'concat2', 'concat3')]\n\nplt.plot(ns, ts[0], 'ro')\nplt.plot(ns, ts[1], 'go')\nplt.plot(ns, ts[2], 'bo');",
      "execution_count": null,
      "outputs": []
    },
    {
      "metadata": {
        "state": "normal"
      },
      "cell_type": "markdown",
      "source": "### Conclusion\n\nWhile index-based updates and appends are $O(1)$, operations that may require changing the relative positions of elements en masse (e.g., insertion, deletion, concatenation) are $O(N)$. \n\nThis is due to the **monolithic, contiguous memory allocation** of the array used to hold references to elements in the list."
    },
    {
      "metadata": {
        "state": "normal"
      },
      "cell_type": "markdown",
      "source": "## 2. Wishlist\n\nFor applications that frequently perform operations such as insertions & deletions (which are inefficient in an array-backed list) we would like to have an improved storage mechanism that:\n\n- does **not** require monolithic, contiguous memory allocation,\n- supports flexible and efficient reorganization of substructures (e.g., for concatenation and relocation),\n- and allows us to build other commonly needed operations (e.g., for indexing, iteration, search) on top of it."
    },
    {
      "metadata": {
        "state": "normal"
      },
      "cell_type": "markdown",
      "source": "## 3. Mechanisms"
    },
    {
      "metadata": {
        "state": "normal"
      },
      "cell_type": "markdown",
      "source": "### 3.1. Two-Element Lists"
    },
    {
      "metadata": {
        "state": "normal",
        "trusted": false
      },
      "cell_type": "code",
      "source": "# data items\ni1 = 'lions'\ni2 = 'tigers'\ni3 = 'bears'\ni4 = 'oh, my'",
      "execution_count": null,
      "outputs": []
    },
    {
      "metadata": {
        "state": "normal",
        "trusted": false
      },
      "cell_type": "code",
      "source": "# creating individual \"links\"\nl1 = []\nl2 = []\nl3 = []\nl4 = []",
      "execution_count": null,
      "outputs": []
    },
    {
      "metadata": {
        "state": "normal",
        "trusted": false
      },
      "cell_type": "code",
      "source": "# link-ing them together\n",
      "execution_count": null,
      "outputs": []
    },
    {
      "metadata": {
        "state": "normal",
        "trusted": false
      },
      "cell_type": "code",
      "source": "# data access\nhead = l1",
      "execution_count": null,
      "outputs": []
    },
    {
      "metadata": {
        "state": "normal",
        "trusted": false
      },
      "cell_type": "code",
      "source": "# iteration\ndef link_iterator(l):\n    pass",
      "execution_count": null,
      "outputs": []
    },
    {
      "metadata": {
        "state": "normal",
        "trusted": false
      },
      "cell_type": "code",
      "source": "for x in link_iterator(head):\n    print(x)",
      "execution_count": null,
      "outputs": []
    },
    {
      "metadata": {
        "state": "normal",
        "trusted": false
      },
      "cell_type": "code",
      "source": "# prepending\ni0 = 'walruses'",
      "execution_count": null,
      "outputs": []
    },
    {
      "metadata": {
        "state": "normal",
        "trusted": false
      },
      "cell_type": "code",
      "source": "for x in link_iterator(head):\n    print(x)",
      "execution_count": null,
      "outputs": []
    },
    {
      "metadata": {
        "state": "normal",
        "trusted": false
      },
      "cell_type": "code",
      "source": "# insertion\ni2_5 = 'elephants'",
      "execution_count": null,
      "outputs": []
    },
    {
      "metadata": {
        "state": "normal",
        "trusted": false
      },
      "cell_type": "code",
      "source": "for x in link_iterator(head):\n    print(x)",
      "execution_count": null,
      "outputs": []
    },
    {
      "metadata": {
        "state": "normal",
        "trusted": false
      },
      "cell_type": "code",
      "source": "# deletion\n",
      "execution_count": null,
      "outputs": []
    },
    {
      "metadata": {
        "state": "normal",
        "trusted": false
      },
      "cell_type": "code",
      "source": "for x in link_iterator(head):\n    print(x)",
      "execution_count": null,
      "outputs": []
    },
    {
      "metadata": {
        "state": "normal"
      },
      "cell_type": "markdown",
      "source": "### 3.2. \"Link\" objects"
    },
    {
      "metadata": {
        "state": "normal",
        "trusted": false
      },
      "cell_type": "code",
      "source": "class Link:\n    def __init__(self, val, next=None):\n        self.val = val\n        self.next = next",
      "execution_count": null,
      "outputs": []
    },
    {
      "metadata": {
        "state": "normal",
        "trusted": false
      },
      "cell_type": "code",
      "source": "# manually constructing a list\n",
      "execution_count": null,
      "outputs": []
    },
    {
      "metadata": {
        "state": "normal",
        "trusted": false
      },
      "cell_type": "code",
      "source": "# data access\n",
      "execution_count": null,
      "outputs": []
    },
    {
      "metadata": {
        "state": "normal",
        "trusted": false
      },
      "cell_type": "code",
      "source": "# iteration\ndef link_iterator(l):\n    pass",
      "execution_count": null,
      "outputs": []
    },
    {
      "metadata": {
        "state": "normal",
        "trusted": false
      },
      "cell_type": "code",
      "source": "for x in link_iterator(head):\n    print(x)",
      "execution_count": null,
      "outputs": []
    },
    {
      "metadata": {
        "state": "normal"
      },
      "cell_type": "markdown",
      "source": "## 4. Linked Data Structures"
    },
    {
      "metadata": {
        "state": "normal"
      },
      "cell_type": "markdown",
      "source": "### 4.1 Linked List"
    },
    {
      "metadata": {
        "state": "normal",
        "trusted": false
      },
      "cell_type": "code",
      "source": "class LinkedList:\n    class Link:\n        def __init__(self, val, next=None):\n            self.val = val\n            self.next = next\n\n    def __init__(self):\n        self.head = None\n        \n    def prepend(self, val):\n        pass\n        \n    def __iter__(self):\n        pass\n            \n    def __repr__(self):\n        pass",
      "execution_count": null,
      "outputs": []
    },
    {
      "metadata": {
        "state": "normal",
        "trusted": false
      },
      "cell_type": "code",
      "source": "l = LinkedList()\nfor x in range(10):\n    l.prepend(x)\nl",
      "execution_count": null,
      "outputs": []
    },
    {
      "metadata": {
        "state": "normal"
      },
      "cell_type": "markdown",
      "source": "### 4.2 Binary Tree"
    },
    {
      "metadata": {
        "state": "normal",
        "trusted": false
      },
      "cell_type": "code",
      "source": "class BinaryLink:\n    def __init__(self, val, left=None, right=None):\n        self.val = val\n        self.left = left\n        self.right = right",
      "execution_count": null,
      "outputs": []
    },
    {
      "metadata": {
        "state": "normal",
        "trusted": false
      },
      "cell_type": "code",
      "source": "# manual construction of a \"tree\" representing the expression ((5+3)*(8-4))\nt = BinaryLink('*')\nt.left = BinaryLink('+')\nt.left.left  = BinaryLink('5')\nt.left.right = BinaryLink('3')\nt.right = BinaryLink('-')\nt.right.left  = BinaryLink('8')\nt.right.right = BinaryLink('4')",
      "execution_count": null,
      "outputs": []
    },
    {
      "metadata": {
        "state": "normal",
        "trusted": false
      },
      "cell_type": "code",
      "source": "def print_expr_tree(t):\n    if t:\n        if not t.val.isdigit():\n            print('(', end='')\n        print_expr_tree(t.left)\n        print(t.val, end='')\n        print_expr_tree(t.right)\n        if not t.val.isdigit():\n            print(')', end='')",
      "execution_count": null,
      "outputs": []
    },
    {
      "metadata": {
        "state": "normal",
        "trusted": false
      },
      "cell_type": "code",
      "source": "print_expr_tree(t)",
      "execution_count": null,
      "outputs": []
    },
    {
      "metadata": {
        "state": "normal"
      },
      "cell_type": "markdown",
      "source": "### 4.3 N-ary Tree"
    },
    {
      "metadata": {
        "state": "normal",
        "trusted": false
      },
      "cell_type": "code",
      "source": "class NaryLink:\n    def __init__(self, val, n=2):\n        self.val = val\n        self.children = [None] * n\n        \n    def __getitem__(self, idx):\n        return self.children[idx]\n    \n    def __setitem__(self, idx, val):\n        self.children[idx] = val\n        \n    def __iter__(self):\n        for c in self.children:\n            yield c",
      "execution_count": null,
      "outputs": []
    },
    {
      "metadata": {
        "state": "normal",
        "trusted": false
      },
      "cell_type": "code",
      "source": "root = NaryLink('Kingdoms', n=5)\n\nroot[0] = NaryLink('Animalia', n=35)\nroot[1] = NaryLink('Plantae', n=12)\nroot[2] = NaryLink('Fungi', n=7)\nroot[3] = NaryLink('Protista', n=5)\nroot[4] = NaryLink('Monera', n=5)\n\nroot[2][0] = NaryLink('Chytridiomycota')\nroot[2][1] = NaryLink('Blastocladiomycota')\nroot[2][2] = NaryLink('Glomeromycota')\nroot[2][3] = NaryLink('Ascomycota')\nroot[2][4] = NaryLink('Basidiomycota')\nroot[2][5] = NaryLink('Microsporidia')\nroot[2][6] = NaryLink('Neocallimastigomycota')\n\ndef tree_iter(root):\n    if root:\n        yield root.val\n        for c in root:\n            yield from tree_iter(c)",
      "execution_count": null,
      "outputs": []
    },
    {
      "metadata": {
        "scrolled": true,
        "state": "normal",
        "trusted": false
      },
      "cell_type": "code",
      "source": "for x in tree_iter(root):\n    print(x)",
      "execution_count": null,
      "outputs": []
    }
  ],
  "metadata": {
    "kernelspec": {
      "name": "python3",
      "display_name": "Python 3",
      "language": "python"
    },
    "language_info": {
      "name": "python",
      "version": "3.7.3",
      "mimetype": "text/x-python",
      "codemirror_mode": {
        "name": "ipython",
        "version": 3
      },
      "pygments_lexer": "ipython3",
      "nbconvert_exporter": "python",
      "file_extension": ".py"
    },
    "mimir": {
      "project_id": "bf398baa-c055-424e-bd0f-454e6a8b9944",
      "last_submission_id": "",
      "data": {}
    },
    "varInspector": {
      "window_display": false,
      "cols": {
        "lenName": 16,
        "lenType": 16,
        "lenVar": 40
      },
      "kernels_config": {
        "python": {
          "library": "var_list.py",
          "delete_cmd_prefix": "del ",
          "delete_cmd_postfix": "",
          "varRefreshCmd": "print(var_dic_list())"
        },
        "r": {
          "library": "var_list.r",
          "delete_cmd_prefix": "rm(",
          "delete_cmd_postfix": ") ",
          "varRefreshCmd": "cat(var_dic_list()) "
        }
      },
      "types_to_exclude": [
        "module",
        "function",
        "builtin_function_or_method",
        "instance",
        "_Feature"
      ]
    }
  },
  "nbformat": 4,
  "nbformat_minor": 2
}