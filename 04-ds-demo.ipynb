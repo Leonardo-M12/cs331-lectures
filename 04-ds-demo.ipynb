{
  "cells": [
    {
      "metadata": {
        "state": "normal"
      },
      "cell_type": "markdown",
      "source": "# Python data structures demo"
    },
    {
      "metadata": {
        "state": "normal"
      },
      "cell_type": "markdown",
      "source": "## Text analysis and generation"
    },
    {
      "metadata": {
        "state": "normal",
        "trusted": true
      },
      "cell_type": "code",
      "source": "import urllib.request\n\nmd_url = 'https://www.gutenberg.org/files/2701/2701-0.txt'\nmd_text = urllib.request.urlopen(md_url).read().decode()",
      "execution_count": null,
      "outputs": []
    },
    {
      "metadata": {
        "state": "normal",
        "trusted": true
      },
      "cell_type": "code",
      "source": "idx = md_text.index('Call me Ishmael')",
      "execution_count": null,
      "outputs": []
    },
    {
      "metadata": {
        "state": "normal",
        "trusted": true
      },
      "cell_type": "code",
      "source": "idx",
      "execution_count": null,
      "outputs": []
    },
    {
      "metadata": {
        "state": "normal",
        "trusted": true
      },
      "cell_type": "code",
      "source": "md_text[idx:idx+100]",
      "execution_count": null,
      "outputs": []
    },
    {
      "metadata": {
        "state": "normal",
        "trusted": true
      },
      "cell_type": "code",
      "source": "md_text[idx:idx+100].split()",
      "execution_count": null,
      "outputs": []
    },
    {
      "metadata": {
        "state": "normal",
        "trusted": true
      },
      "cell_type": "code",
      "source": "md_words = md_text.lower().split()",
      "execution_count": null,
      "outputs": []
    },
    {
      "metadata": {
        "state": "normal",
        "trusted": true
      },
      "cell_type": "code",
      "source": "len(md_words)",
      "execution_count": null,
      "outputs": []
    },
    {
      "metadata": {
        "state": "normal",
        "trusted": true
      },
      "cell_type": "code",
      "source": "md_words_uniq = set(md_words)\nlen(md_words_uniq)",
      "execution_count": null,
      "outputs": []
    },
    {
      "metadata": {
        "state": "normal",
        "trusted": true
      },
      "cell_type": "code",
      "source": "# compute the frequency of each word in the text\nmd_word_counts = {}\nfor w in md_words:\n    pass",
      "execution_count": 49,
      "outputs": []
    },
    {
      "metadata": {
        "state": "normal",
        "trusted": true
      },
      "cell_type": "code",
      "source": "md_word_counts['the']",
      "execution_count": null,
      "outputs": []
    },
    {
      "metadata": {
        "state": "normal",
        "trusted": true
      },
      "cell_type": "code",
      "source": "len(md_word_counts)",
      "execution_count": null,
      "outputs": []
    },
    {
      "metadata": {
        "state": "normal",
        "trusted": true
      },
      "cell_type": "code",
      "source": "list(md_word_counts.items())[:10]",
      "execution_count": null,
      "outputs": []
    },
    {
      "metadata": {
        "state": "normal",
        "trusted": true
      },
      "cell_type": "code",
      "source": "md_word_counts_sorted = sorted(md_word_counts.items())",
      "execution_count": null,
      "outputs": []
    },
    {
      "metadata": {
        "state": "normal",
        "trusted": true
      },
      "cell_type": "code",
      "source": "md_word_counts_sorted[:10]",
      "execution_count": null,
      "outputs": []
    },
    {
      "metadata": {
        "state": "normal",
        "trusted": true
      },
      "cell_type": "code",
      "source": "import urllib.request\n\nsw_url = 'https://moss.cs.iit.edu/stopwords.txt'\nsw_text = urllib.request.urlopen(sw_url).read().decode()\nstopwords = sw_text.split()",
      "execution_count": null,
      "outputs": []
    },
    {
      "metadata": {
        "state": "normal",
        "trusted": true
      },
      "cell_type": "code",
      "source": "# remove stopwords\n\nmd_word_counts = []",
      "execution_count": null,
      "outputs": []
    },
    {
      "metadata": {
        "state": "normal",
        "trusted": true
      },
      "cell_type": "code",
      "source": "md_word_counts_sorted = sorted(md_word_counts.items(), key=lambda t: t[1], reverse=True)",
      "execution_count": null,
      "outputs": []
    },
    {
      "metadata": {
        "state": "normal",
        "trusted": true
      },
      "cell_type": "code",
      "source": "md_word_counts_sorted[:10]",
      "execution_count": null,
      "outputs": []
    },
    {
      "metadata": {
        "state": "normal",
        "trusted": true
      },
      "cell_type": "code",
      "source": "%matplotlib inline\nimport matplotlib.pyplot as plt\n\n# need lists of the first n words/counts to plot\nn = 10\nwords  = []\ncounts = []\n\nplt.rcParams['figure.figsize'] = [12, 5]\nplt.bar(range(n), counts)\nplt.xticks(range(n), words, rotation=60, fontsize=12)\nplt.show()",
      "execution_count": null,
      "outputs": []
    },
    {
      "metadata": {
        "state": "normal",
        "trusted": true
      },
      "cell_type": "code",
      "source": "# collect all two-word phrases as tuples\nphrases = []\nfor i in range(len(md_words)-1):\n    pass",
      "execution_count": null,
      "outputs": []
    },
    {
      "metadata": {
        "state": "normal",
        "trusted": true
      },
      "cell_type": "code",
      "source": "phrases[:10]",
      "execution_count": null,
      "outputs": []
    },
    {
      "metadata": {
        "state": "normal",
        "trusted": true
      },
      "cell_type": "code",
      "source": "# map each word to a list of all the words that\n# follow it in the text\nphrase_dict = {}\nfor (w1, w2) in phrases:\n    pass",
      "execution_count": null,
      "outputs": []
    },
    {
      "metadata": {
        "state": "normal",
        "trusted": true
      },
      "cell_type": "code",
      "source": "phrase_dict['starboard']",
      "execution_count": null,
      "outputs": []
    },
    {
      "metadata": {
        "state": "normal",
        "trusted": true
      },
      "cell_type": "code",
      "source": "# generate a sentence based on two-word phrase statistics\n# from Moby Dick\nimport random\n\ngen_words = ['whale']\nfor _ in range(10):\n    pass\n\n' '.join(gen_words)",
      "execution_count": null,
      "outputs": []
    },
    {
      "metadata": {
        "state": "normal"
      },
      "cell_type": "markdown",
      "source": "### Solving Sudoku"
    },
    {
      "metadata": {
        "state": "normal",
        "trusted": true
      },
      "cell_type": "code",
      "source": "puzzle = '''..3 .2. 6..\n            9.. 3.5 ..1\n            ..1 8.6 4..\n            \n            ..8 1.2 9..\n            7.. ... ..8\n            ..6 7.8 2..\n            \n            ..2 6.9 5..\n            8.. 2.3 ..9\n            ..5 .1. 3..\n            '''",
      "execution_count": null,
      "outputs": []
    },
    {
      "metadata": {
        "state": "normal",
        "trusted": true
      },
      "cell_type": "code",
      "source": "# name all the squares in the game\nrows = 'ABCDEFGHI'\ncols = '123456789'\nsquares = ?",
      "execution_count": null,
      "outputs": []
    },
    {
      "metadata": {
        "state": "normal",
        "trusted": true
      },
      "cell_type": "code",
      "source": "def parse_puzzle(puz_str):\n    puzzle = [c if c in '123456789' else None\n              for c in puz_str if c not in ' \\n']\n    return {squares[i]: puzzle[i]\n            for i in range(0, len(squares))}",
      "execution_count": null,
      "outputs": []
    },
    {
      "metadata": {
        "state": "normal",
        "trusted": true
      },
      "cell_type": "code",
      "source": "parse_puzzle(puzzle)",
      "execution_count": null,
      "outputs": []
    },
    {
      "metadata": {
        "state": "normal",
        "trusted": true
      },
      "cell_type": "code",
      "source": "# what squares fall in the same columns? (list of lists)\nvert_units = []",
      "execution_count": null,
      "outputs": []
    },
    {
      "metadata": {
        "state": "normal",
        "trusted": true
      },
      "cell_type": "code",
      "source": "# what squares fall in the same rows? (list of lists)\nhoriz_units = []",
      "execution_count": null,
      "outputs": []
    },
    {
      "metadata": {
        "state": "normal",
        "trusted": true
      },
      "cell_type": "code",
      "source": "# what squares fall in the same \"boxes\"? (list of lists)\nbox_units = []",
      "execution_count": null,
      "outputs": []
    },
    {
      "metadata": {
        "state": "normal",
        "trusted": true
      },
      "cell_type": "code",
      "source": "all_units = vert_units + horiz_units + box_units",
      "execution_count": null,
      "outputs": []
    },
    {
      "metadata": {
        "state": "normal",
        "trusted": true
      },
      "cell_type": "code",
      "source": "# associate each square with a list of all the units it belongs to\n\nunits = {}",
      "execution_count": null,
      "outputs": []
    },
    {
      "metadata": {
        "state": "normal",
        "trusted": true
      },
      "cell_type": "code",
      "source": "units['A1']",
      "execution_count": null,
      "outputs": []
    },
    {
      "metadata": {
        "state": "normal",
        "trusted": true
      },
      "cell_type": "code",
      "source": "# associate each square with the set of all its \"peers\" (i.e., all\n# other squares that fall into one of its units)\n\npeers = {}",
      "execution_count": null,
      "outputs": []
    },
    {
      "metadata": {
        "state": "normal",
        "trusted": true
      },
      "cell_type": "code",
      "source": "peers['A1']",
      "execution_count": null,
      "outputs": []
    },
    {
      "metadata": {
        "state": "normal",
        "trusted": true
      },
      "cell_type": "code",
      "source": "# what is a \"catch-all\" solution?\nsol = {}",
      "execution_count": null,
      "outputs": []
    },
    {
      "metadata": {
        "state": "normal",
        "trusted": true
      },
      "cell_type": "code",
      "source": "sol",
      "execution_count": null,
      "outputs": []
    },
    {
      "metadata": {
        "state": "normal",
        "trusted": true
      },
      "cell_type": "code",
      "source": "def assign(sol, sq, val):\n    '''If assigning a value to a square, eliminate all other\n    values from that square in the solution.'''\n    for other in sol[sq].replace(val, ''):\n        eliminate(sol, sq, other)\n\ndef eliminate(sol, sq, val):\n    '''Eliminate a value from a square. Also check whether\n    eliminating a value from the given square narrows down \n    that value to only one affected square; if so, assign \n    the value to that square.'''\n    if val not in sol[sq]:\n        return\n    sol[sq] = sol[sq].replace(val, '')\n    if len(sol[sq]) == 1:\n        last = sol[sq][0]\n        for p in peers[sq]:\n            eliminate(sol, p, last)\n    for u in units[sq]:\n        candidates = [s for s in u if val in sol[s]]\n        if len(candidates) == 1:\n            assign(sol, candidates[0], val)",
      "execution_count": null,
      "outputs": []
    },
    {
      "metadata": {
        "state": "normal",
        "trusted": true
      },
      "cell_type": "code",
      "source": "def solve_puzzle(puzz_str):\n    puz = parse_puzzle(puzz_str)\n    sol = {s: '123456789' for s in squares}\n\n    for sq, val in puz.items():\n        if val:\n            assign(sol, sq, val)\n    return sol",
      "execution_count": null,
      "outputs": []
    },
    {
      "metadata": {
        "state": "normal",
        "trusted": true
      },
      "cell_type": "code",
      "source": "solve_puzzle(puzzle)",
      "execution_count": null,
      "outputs": []
    },
    {
      "metadata": {
        "state": "normal",
        "trusted": true
      },
      "cell_type": "code",
      "source": "def print_sol(sol):\n    for r in rows:\n        for c in cols:\n            print('{:^6} '.format(sol[r+c]), end='')\n        print()",
      "execution_count": null,
      "outputs": []
    },
    {
      "metadata": {
        "state": "normal",
        "trusted": true
      },
      "cell_type": "code",
      "source": "print_sol(solve_puzzle(puzzle))",
      "execution_count": null,
      "outputs": []
    },
    {
      "metadata": {
        "state": "normal",
        "trusted": true
      },
      "cell_type": "code",
      "source": "# NYTimes \"Medium\" puzzle\nprint_sol(solve_puzzle('''\n.51 8.. 3.6\n.3. ... ...\n..9 .42 .15\n\n..4 .75 ...\n3.. ... ...\n.8. 9.. ...\n\n... ... 8..\n.1. ..6 .9.\n..7 ... ..4\n'''))",
      "execution_count": null,
      "outputs": []
    }
  ],
  "metadata": {
    "kernelspec": {
      "name": "python3",
      "display_name": "Python 3",
      "language": "python"
    },
    "language_info": {
      "name": "python",
      "version": "3.7.3",
      "mimetype": "text/x-python",
      "codemirror_mode": {
        "name": "ipython",
        "version": 3
      },
      "pygments_lexer": "ipython3",
      "nbconvert_exporter": "python",
      "file_extension": ".py"
    },
    "mimir": {
      "project_id": "cd4ec141-8c35-4635-877c-c12fc50054c9",
      "last_submission_id": "",
      "data": {}
    },
    "varInspector": {
      "window_display": false,
      "cols": {
        "lenName": 16,
        "lenType": 16,
        "lenVar": 40
      },
      "kernels_config": {
        "python": {
          "library": "var_list.py",
          "delete_cmd_prefix": "del ",
          "delete_cmd_postfix": "",
          "varRefreshCmd": "print(var_dic_list())"
        },
        "r": {
          "library": "var_list.r",
          "delete_cmd_prefix": "rm(",
          "delete_cmd_postfix": ") ",
          "varRefreshCmd": "cat(var_dic_list()) "
        }
      },
      "types_to_exclude": [
        "module",
        "function",
        "builtin_function_or_method",
        "instance",
        "_Feature"
      ]
    }
  },
  "nbformat": 4,
  "nbformat_minor": 2
}