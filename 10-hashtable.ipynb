{
  "cells": [
    {
      "metadata": {
        "state": "normal"
      },
      "cell_type": "markdown",
      "source": "# Hashtables\n\n## Agenda\n\n- Discussion: pros/cons of array-backed and linked structures\n- Comparison to `set` and `dict`\n- The *map* ADT\n- Direct lookups via *Hashing*\n- Hashtables\n    - Collisions and the \"Birthday problem\"\n- Runtime analysis & Discussion"
    },
    {
      "metadata": {
        "state": "normal"
      },
      "cell_type": "markdown",
      "source": "## Discussion: pros/cons of array-backed and linked structures"
    },
    {
      "metadata": {
        "state": "normal"
      },
      "cell_type": "markdown",
      "source": "Between the array-backed and linked list we have:\n\n1. $O(1)$ indexing (array-backed)\n2. $O(1)$ appending (array-backed & linked)\n3. $O(1)$ insertion/deletion without indexing (linked)\n4. $O(N)$ linear search (unsorted)\n5. $O(\\log N)$ binary search, when sorted (only array-backed lists)"
    },
    {
      "metadata": {
        "state": "normal"
      },
      "cell_type": "markdown",
      "source": "## Comparison to `set` and `dict`"
    },
    {
      "metadata": {
        "state": "normal"
      },
      "cell_type": "markdown",
      "source": "The `set` and `dict` types don't support positional access (i.e., by index), but do support lookup/search. How fast do they fare compared to lists?"
    },
    {
      "metadata": {
        "state": "normal",
        "trusted": false
      },
      "cell_type": "code",
      "source": "import timeit\n\ndef lin_search(lst, x):\n    return x in lst\n    \ndef bin_search(lst, x):\n    # assumes lst is sorted\n    low = 0\n    hi  = len(lst)-1\n    while low <= hi:\n        mid = (low + hi) // 2\n        if x < lst[mid]:\n            hi  = mid - 1\n        elif x < lst[mid]:\n            low = mid + 1\n        else:\n            return True\n    else:\n        return False\n    \ndef set_search(st, x):\n    return x in st\n    \n    \ndef dict_search(dct, x):\n    return x in dct",
      "execution_count": null,
      "outputs": []
    },
    {
      "metadata": {
        "state": "normal",
        "trusted": false
      },
      "cell_type": "code",
      "source": "%matplotlib inline\nimport matplotlib.pyplot as plt\nimport numpy as np\nimport random\n\nns = np.linspace(100, 10_000, 50, dtype=int)\n\nts_linsearch = [timeit.timeit('lin_search(lst, lst[-1])',\n                              setup='lst = list(range({})); random.shuffle(lst)'.format(n),\n                              globals=globals(),\n                              number=100)\n                for n in ns]\n\nts_binsearch = [timeit.timeit('bin_search(lst, 0)',\n                              setup='lst = list(range({}))'.format(n),\n                              globals=globals(),\n                              number=100)\n                for n in ns]\n\n\nts_setsearch = [timeit.timeit(#'set_search(st, 0)',\n                              'set_search(st, {})'.format(random.randrange(n)),\n                              setup='lst = list(range({})); random.shuffle(lst);'\n                                    'st = set(lst)'.format(n),\n                              globals=globals(),\n                              number=100)\n                for n in ns]\n\nts_dctsearch = [timeit.timeit(#'dict_search(dct, 0)',\n                              'dict_search(dct, {})'.format(random.randrange(n)),\n                              setup='lst = list(range({})); random.shuffle(lst);'\n                                    'dct = {{x:x for x in lst}}'.format(n),\n                              globals=globals(),\n                              number=100)\n                for n in ns]",
      "execution_count": null,
      "outputs": []
    },
    {
      "metadata": {
        "state": "normal",
        "trusted": false
      },
      "cell_type": "code",
      "source": "plt.plot(ns, ts_linsearch, 'or')\nplt.plot(ns, ts_binsearch, 'sg')\nplt.plot(ns, ts_setsearch, 'db')\nplt.plot(ns, ts_dctsearch, 'om');",
      "execution_count": null,
      "outputs": []
    },
    {
      "metadata": {
        "state": "normal"
      },
      "cell_type": "markdown",
      "source": "It looks like sets and dictionaries support lookup in constant time! How?!"
    },
    {
      "metadata": {
        "state": "normal"
      },
      "cell_type": "markdown",
      "source": "## The `map` ADT"
    },
    {
      "metadata": {
        "state": "normal"
      },
      "cell_type": "markdown",
      "source": "We will focus next on the \"*map*\" abstract data type (aka \"associative array\" or \"dictionary\"), which is used to associate keys (which must be unique) with values. Python's `dict` type is an implementation of the map ADT. \n\nGiven an implementation of a map, it is trivial to implement a *set* on top of it (how?).\n\nHere's a simple map API:"
    },
    {
      "metadata": {
        "state": "normal",
        "trusted": false
      },
      "cell_type": "code",
      "source": "class MapDS:\n    def __init__(self):\n        self.data = []\n    \n    def __setitem__(self, key, value):\n        pass\n    \n    def __getitem__(self, key):\n        pass\n            \n    def __contains__(self, key):\n        pass",
      "execution_count": null,
      "outputs": []
    },
    {
      "metadata": {
        "state": "normal",
        "trusted": false
      },
      "cell_type": "code",
      "source": "m = MapDS()\nm['batman'] = 'bruce wayne'\nm['superman'] = 'clark kent'\nm['spiderman'] = 'peter parker'",
      "execution_count": null,
      "outputs": []
    },
    {
      "metadata": {
        "state": "normal",
        "trusted": false
      },
      "cell_type": "code",
      "source": "m['batman']",
      "execution_count": null,
      "outputs": []
    },
    {
      "metadata": {
        "state": "normal",
        "trusted": false
      },
      "cell_type": "code",
      "source": "m['batman'] = 'tony stark'",
      "execution_count": null,
      "outputs": []
    },
    {
      "metadata": {
        "state": "normal",
        "trusted": false
      },
      "cell_type": "code",
      "source": "m['batman']",
      "execution_count": null,
      "outputs": []
    },
    {
      "metadata": {
        "state": "normal"
      },
      "cell_type": "markdown",
      "source": "How do we make the leap from linear runtime complexity to constant?!"
    },
    {
      "metadata": {
        "state": "normal"
      },
      "cell_type": "markdown",
      "source": "## Direct lookups via *Hashing*"
    },
    {
      "metadata": {
        "state": "normal"
      },
      "cell_type": "markdown",
      "source": "Hashes (a.k.a. hash codes or hash values) are simply numerical values computed for objects."
    },
    {
      "metadata": {
        "state": "normal",
        "trusted": false
      },
      "cell_type": "code",
      "source": "hash('hello')",
      "execution_count": null,
      "outputs": []
    },
    {
      "metadata": {
        "state": "normal",
        "trusted": false
      },
      "cell_type": "code",
      "source": "hash('batman')",
      "execution_count": null,
      "outputs": []
    },
    {
      "metadata": {
        "state": "normal",
        "trusted": false
      },
      "cell_type": "code",
      "source": "hash('batmen') ",
      "execution_count": null,
      "outputs": []
    },
    {
      "metadata": {
        "state": "normal",
        "trusted": false
      },
      "cell_type": "code",
      "source": "[hash(s) for s in ['different', 'objects', 'have', 'very', 'different', 'hashes']]",
      "execution_count": null,
      "outputs": []
    },
    {
      "metadata": {
        "state": "normal",
        "trusted": false
      },
      "cell_type": "code",
      "source": "[hash(s)%100 for s in ['different', 'objects', 'have', 'very', 'different', 'hashes']]",
      "execution_count": null,
      "outputs": []
    },
    {
      "metadata": {
        "state": "normal"
      },
      "cell_type": "markdown",
      "source": "## Hashtables"
    },
    {
      "metadata": {
        "state": "normal",
        "trusted": false
      },
      "cell_type": "code",
      "source": "class Hashtable:\n    def __init__(self, n_buckets):\n        self.buckets = [None] * n_buckets\n        \n    def __setitem__(self, key, val):\n        pass\n    \n    def __getitem__(self, key):\n        pass\n        \n    def __contains__(self, key):\n        try:\n            _ = self[key]\n            return True\n        except:\n            return False",
      "execution_count": null,
      "outputs": []
    },
    {
      "metadata": {
        "state": "normal",
        "trusted": false
      },
      "cell_type": "code",
      "source": "ht = Hashtable(100)\nht['spiderman'] = 'peter parker'\nht['batman'] = 'bruce wayne'\nht['superman'] = 'clark kent'",
      "execution_count": null,
      "outputs": []
    },
    {
      "metadata": {
        "state": "normal",
        "trusted": false
      },
      "cell_type": "code",
      "source": "ht['spiderman']",
      "execution_count": null,
      "outputs": []
    },
    {
      "metadata": {
        "state": "normal",
        "trusted": false
      },
      "cell_type": "code",
      "source": "ht['batman']",
      "execution_count": null,
      "outputs": []
    },
    {
      "metadata": {
        "state": "normal",
        "trusted": false
      },
      "cell_type": "code",
      "source": "ht['superman']",
      "execution_count": null,
      "outputs": []
    },
    {
      "metadata": {
        "state": "normal"
      },
      "cell_type": "markdown",
      "source": "## On Collisions"
    },
    {
      "metadata": {
        "state": "normal"
      },
      "cell_type": "markdown",
      "source": "### The \"Birthday Problem\""
    },
    {
      "metadata": {
        "state": "normal"
      },
      "cell_type": "markdown",
      "source": "Problem statement: Given $N$ people at a party, how likely is it that at least two people will have the same birthday?"
    },
    {
      "metadata": {
        "state": "normal",
        "trusted": false
      },
      "cell_type": "code",
      "source": "def birthday_p(n_people):\n    p_inv = 1\n    for n in range(365, 365-n_people, -1):\n        p_inv *= n / 365\n    return 1 - p_inv",
      "execution_count": null,
      "outputs": []
    },
    {
      "metadata": {
        "state": "normal",
        "trusted": false
      },
      "cell_type": "code",
      "source": "birthday_p(3)",
      "execution_count": null,
      "outputs": []
    },
    {
      "metadata": {
        "state": "normal",
        "trusted": false
      },
      "cell_type": "code",
      "source": "1-364/365*363/365",
      "execution_count": null,
      "outputs": []
    },
    {
      "metadata": {
        "state": "normal",
        "trusted": false
      },
      "cell_type": "code",
      "source": "n_people = range(1, 80)\nplt.plot(n_people, [birthday_p(n) for n in n_people]);",
      "execution_count": null,
      "outputs": []
    },
    {
      "metadata": {
        "state": "normal"
      },
      "cell_type": "markdown",
      "source": "### General collision statistics"
    },
    {
      "metadata": {
        "state": "normal"
      },
      "cell_type": "markdown",
      "source": "Repeat the birthday problem, but with a given number of values and \"buckets\" that are allotted to hold them. How likely is it that two or more values will map to the same bucket?"
    },
    {
      "metadata": {
        "state": "normal",
        "trusted": false
      },
      "cell_type": "code",
      "source": "def collision_p(n_values, n_buckets):\n    p_inv = 1\n    for n in range(n_buckets, n_buckets-n_values, -1):\n        p_inv *= n / n_buckets\n    return 1 - p_inv",
      "execution_count": null,
      "outputs": []
    },
    {
      "metadata": {
        "state": "normal",
        "trusted": false
      },
      "cell_type": "code",
      "source": "collision_p(23, 365) # same as birthday problem, for 23 people",
      "execution_count": null,
      "outputs": []
    },
    {
      "metadata": {
        "state": "normal",
        "trusted": false
      },
      "cell_type": "code",
      "source": "collision_p(10, 100)",
      "execution_count": null,
      "outputs": []
    },
    {
      "metadata": {
        "state": "normal",
        "trusted": false
      },
      "cell_type": "code",
      "source": "collision_p(100, 1000)",
      "execution_count": null,
      "outputs": []
    },
    {
      "metadata": {
        "state": "normal",
        "trusted": false
      },
      "cell_type": "code",
      "source": "# keeping number of values fixed at 100, but vary number of buckets: visualize probability of collision\nn_buckets = range(100, 100001, 1000)\nplt.plot(n_buckets, [collision_p(100, nb) for nb in n_buckets]);",
      "execution_count": null,
      "outputs": []
    },
    {
      "metadata": {
        "state": "normal",
        "trusted": false
      },
      "cell_type": "code",
      "source": "def avg_num_collisions(n, b):\n    \"\"\"Returns the expected number of collisions for n values uniformly distributed\n    over a hashtable of b buckets. Based on (fairly) elementary probability theory.\n    (Pay attention in MATH 474!)\"\"\"\n    return n - b + b * (1 - 1/b)**n",
      "execution_count": null,
      "outputs": []
    },
    {
      "metadata": {
        "state": "normal",
        "trusted": false
      },
      "cell_type": "code",
      "source": "avg_num_collisions(28, 365)",
      "execution_count": null,
      "outputs": []
    },
    {
      "metadata": {
        "state": "normal",
        "trusted": false
      },
      "cell_type": "code",
      "source": "avg_num_collisions(1000, 1000)",
      "execution_count": null,
      "outputs": []
    },
    {
      "metadata": {
        "state": "normal",
        "trusted": false
      },
      "cell_type": "code",
      "source": "avg_num_collisions(1000, 10000)",
      "execution_count": null,
      "outputs": []
    },
    {
      "metadata": {
        "state": "normal"
      },
      "cell_type": "markdown",
      "source": "## Dealing with Collisions"
    },
    {
      "metadata": {
        "state": "normal"
      },
      "cell_type": "markdown",
      "source": "To deal with collisions in a hashtable, we simply create a \"chain\" of key/value pairs for each bucket where collisions occur. The chain needs to be a data structure that supports quick insertion — natural choice: the linked list!"
    },
    {
      "metadata": {
        "state": "normal",
        "trusted": false
      },
      "cell_type": "code",
      "source": "class Hashtable:\n    class Node:\n        def __init__(self, key, val, next=None):\n            self.key = key\n            self.val = val\n            self.next = next\n            \n    def __init__(self, n_buckets=1000):\n        self.buckets = [None] * n_buckets\n        \n    def __setitem__(self, key, val):\n        bidx = hash(key) % len(self.buckets)\n    \n    def __getitem__(self, key):\n        bidx = hash(key) % len(self.buckets)\n    \n    def __contains__(self, key):\n        try:\n            _ = self[key]\n            return True\n        except:\n            return False",
      "execution_count": null,
      "outputs": []
    },
    {
      "metadata": {
        "state": "normal",
        "trusted": false
      },
      "cell_type": "code",
      "source": "ht = Hashtable(100)\nht['batman'] = 'bruce wayne'\nht['superman'] = 'clark kent'\nht['spiderman'] = 'peter parker'",
      "execution_count": null,
      "outputs": []
    },
    {
      "metadata": {
        "state": "normal",
        "trusted": false
      },
      "cell_type": "code",
      "source": "ht['batman']",
      "execution_count": null,
      "outputs": []
    },
    {
      "metadata": {
        "state": "normal",
        "trusted": false
      },
      "cell_type": "code",
      "source": "ht['superman']",
      "execution_count": null,
      "outputs": []
    },
    {
      "metadata": {
        "state": "normal",
        "trusted": false
      },
      "cell_type": "code",
      "source": "ht['spiderman']",
      "execution_count": null,
      "outputs": []
    },
    {
      "metadata": {
        "state": "normal",
        "trusted": false
      },
      "cell_type": "code",
      "source": "def ht_search(ht, x):\n    return x in ht\n\ndef init_ht(size):\n    ht = Hashtable(size)\n    for x in range(size):\n        ht[x] = x\n    return ht\n\nns = np.linspace(100, 10_000, 50, dtype=int)\nts_htsearch = [timeit.timeit('ht_search(ht, 0)',\n                             #'ht_search(ht, {})'.format(random.randrange(n)),\n                             setup='ht = init_ht({})'.format(n),\n                             globals=globals(),\n                             number=100)\n               for n in ns]",
      "execution_count": null,
      "outputs": []
    },
    {
      "metadata": {
        "state": "normal",
        "trusted": false
      },
      "cell_type": "code",
      "source": "plt.plot(ns, ts_binsearch, 'ro')\nplt.plot(ns, ts_htsearch, 'gs')\nplt.plot(ns, ts_dctsearch, 'b^');",
      "execution_count": null,
      "outputs": []
    },
    {
      "metadata": {
        "state": "normal"
      },
      "cell_type": "markdown",
      "source": "## Loose ends"
    },
    {
      "metadata": {
        "state": "normal"
      },
      "cell_type": "markdown",
      "source": "### Iteration"
    },
    {
      "metadata": {
        "state": "normal",
        "trusted": false
      },
      "cell_type": "code",
      "source": "class Hashtable(Hashtable):\n    def __iter__(self):\n        pass",
      "execution_count": null,
      "outputs": []
    },
    {
      "metadata": {
        "state": "normal",
        "trusted": false
      },
      "cell_type": "code",
      "source": "ht = Hashtable(100)\nht['batman'] = 'bruce wayne'\nht['superman'] = 'clark kent'\nht['spiderman'] = 'peter parker'",
      "execution_count": null,
      "outputs": []
    },
    {
      "metadata": {
        "state": "normal",
        "trusted": false
      },
      "cell_type": "code",
      "source": "for k in ht:\n    print(k)",
      "execution_count": null,
      "outputs": []
    },
    {
      "metadata": {
        "state": "normal"
      },
      "cell_type": "markdown",
      "source": "### Key ordering"
    },
    {
      "metadata": {
        "state": "normal",
        "trusted": false
      },
      "cell_type": "code",
      "source": "ht = Hashtable()\nd = {}\nfor x in 'banana apple cat dog elephant'.split():\n    d[x[0]] = x\n    ht[x[0]] = x",
      "execution_count": null,
      "outputs": []
    },
    {
      "metadata": {
        "state": "normal",
        "trusted": false
      },
      "cell_type": "code",
      "source": "for k in d:\n    print(k, '=>', d[k])",
      "execution_count": null,
      "outputs": []
    },
    {
      "metadata": {
        "state": "normal",
        "trusted": false
      },
      "cell_type": "code",
      "source": "for k in ht:\n    print(k, '=>', ht[k])",
      "execution_count": null,
      "outputs": []
    },
    {
      "metadata": {
        "state": "normal"
      },
      "cell_type": "markdown",
      "source": "### Load factor & Rehashing\n\nIt is clear that the ratio of the number of keys to the number of buckets (known as the **load factor**) can have a significant effect on the performance of a hashtable.\n\nA fixed number of buckets doesn't make sense, as it might be wasteful for a small number of keys, and also scale poorly to a relatively large number of keys. And it also doesn't make sense to have the user of the hashtable manually specify the number of buckets (which is a low-level implementation detail). \n\nInstead: a practical hashtable implementation would start with a relatively small number of buckets, and if/when the load factor increases beyond some threshold (typically 1), it *dynamically increases the number of buckets* (typically to twice the previous number). This requires that all existing keys be *rehashed* to new buckets (why?)."
    },
    {
      "metadata": {
        "state": "normal"
      },
      "cell_type": "markdown",
      "source": "### Uniform hashing\n\nUltimately, the performance of a hashtable also heavily depends on hashcodes being *uniformly distributed* --- i.e., where, statistically, each bucket has roughly the same number of keys hashing to it. Designing hash functions that do this is an algorithmic problem that's outside the scope of this class!"
    },
    {
      "metadata": {
        "state": "normal"
      },
      "cell_type": "markdown",
      "source": "## Runtime analysis & Discussion"
    },
    {
      "metadata": {
        "state": "normal"
      },
      "cell_type": "markdown",
      "source": "For a hashtable with $N$ key/value entries, in the worst imaginable scenario all keys hash to the same bucket, and we end up having to navigate through a chain of $N$ collisions when inserting/searching/deleting, which gives us the  following *worst-case runtime complexities*:\n\n- Insertion: $O(N)$\n- Lookup: $O(N)$\n- Deletion: $O(N)$"
    },
    {
      "metadata": {
        "state": "normal"
      },
      "cell_type": "markdown",
      "source": "BUT, if we assume uniform hashing and the rehashing behavior described above, it is possible to prove that hashtables have $O(1)$ *amortized (i.e., average) runtime complexity*. Proving this is also beyond the scope of this class (but is borne out by empirical data)."
    },
    {
      "metadata": {
        "state": "normal"
      },
      "cell_type": "markdown",
      "source": "## Vocabulary list\n\n- hashtable\n- hashing and hashes\n- collision\n- hash buckets & chains\n- birthday problem\n- load factor\n- rehashing"
    },
    {
      "metadata": {
        "state": "normal"
      },
      "cell_type": "markdown",
      "source": "---"
    },
    {
      "metadata": {
        "state": "normal"
      },
      "cell_type": "markdown",
      "source": "## Addendum: On *Hashability*"
    },
    {
      "metadata": {
        "state": "normal"
      },
      "cell_type": "markdown",
      "source": "Remember: *a given object must always hash to the same value*. This is required so that we can always map the object to the same hash bucket.\n\nHashcodes for collections of objects are usually computed from the hashcodes of its contents, e.g., the hash of a tuple is a function of the hashes of the objects in said tuple:"
    },
    {
      "metadata": {
        "state": "normal",
        "trusted": false
      },
      "cell_type": "code",
      "source": "hash(('two', 'strings'))",
      "execution_count": null,
      "outputs": []
    },
    {
      "metadata": {
        "state": "normal"
      },
      "cell_type": "markdown",
      "source": "This is useful. It allows us to use a tuple, for instance, as a key for a hashtable.\n\nHowever, if the collection of objects is *mutable* — i.e., we can alter its contents — this means that we can potentially change its hashcode.`\n\nIf we were to use such a collection as a key in a hashtable, and alter the collection after it's been assigned to a particular bucket, this leads to a serious problem: the collection may now be in the wrong bucket (as it was assigned to a bucket based on its original hashcode)!\n\nFor this reason, only immutable types are, by default, hashable in Python. So while we can use integers, strings, and tuples as keys in dictionaries, lists (which are mutable) cannot be used. Indeed, Python marks built-in mutable types as \"unhashable\", e.g.,"
    },
    {
      "metadata": {
        "state": "normal",
        "trusted": false
      },
      "cell_type": "code",
      "source": "hash([1, 2, 3])",
      "execution_count": null,
      "outputs": []
    },
    {
      "metadata": {
        "state": "normal"
      },
      "cell_type": "markdown",
      "source": "That said, Python does support hashing on instances of custom classes (which are mutable). This is because the default hash function implementation does not rely on the contents of instances of custom classes. E.g.,"
    },
    {
      "metadata": {
        "state": "normal",
        "trusted": false
      },
      "cell_type": "code",
      "source": "class Student:\n    def __init__(self, fname, lname):\n        self.fname = fname\n        self.lname = lname",
      "execution_count": null,
      "outputs": []
    },
    {
      "metadata": {
        "state": "normal",
        "trusted": false
      },
      "cell_type": "code",
      "source": "s = Student('John', 'Doe')\nhash(s)",
      "execution_count": null,
      "outputs": []
    },
    {
      "metadata": {
        "state": "normal",
        "trusted": false
      },
      "cell_type": "code",
      "source": "s.fname = 'Jane'\nhash(s) # same as before mutation",
      "execution_count": null,
      "outputs": []
    },
    {
      "metadata": {
        "state": "normal"
      },
      "cell_type": "markdown",
      "source": "We can change the default behavior by providing our own hash function in `__hash__`, e.g.,"
    },
    {
      "metadata": {
        "state": "normal",
        "trusted": false
      },
      "cell_type": "code",
      "source": "class Student:\n    def __init__(self, fname, lname):\n        self.fname = fname\n        self.lname = lname\n        \n    def __hash__(self):\n        return hash(self.fname) + hash(self.lname)",
      "execution_count": null,
      "outputs": []
    },
    {
      "metadata": {
        "state": "normal",
        "trusted": false
      },
      "cell_type": "code",
      "source": "s = Student('John', 'Doe')\nhash(s)",
      "execution_count": null,
      "outputs": []
    },
    {
      "metadata": {
        "state": "normal",
        "trusted": false
      },
      "cell_type": "code",
      "source": "s.fname = 'Jane'\nhash(s)",
      "execution_count": null,
      "outputs": []
    },
    {
      "metadata": {
        "state": "normal"
      },
      "cell_type": "markdown",
      "source": "But be careful: instances of this class are no longer suitable for use as keys in hashtables (or dictionaries), if you intend to mutate them after using them as keys!"
    }
  ],
  "metadata": {
    "kernelspec": {
      "name": "python3",
      "display_name": "Python 3",
      "language": "python"
    },
    "language_info": {
      "name": "python",
      "version": "3.7.3",
      "mimetype": "text/x-python",
      "codemirror_mode": {
        "name": "ipython",
        "version": 3
      },
      "pygments_lexer": "ipython3",
      "nbconvert_exporter": "python",
      "file_extension": ".py"
    },
    "mimir": {
      "project_id": "aa73d4af-4b00-400e-8c6c-d83178fea3c6",
      "last_submission_id": "",
      "data": {}
    },
    "varInspector": {
      "window_display": false,
      "cols": {
        "lenName": 16,
        "lenType": 16,
        "lenVar": 40
      },
      "kernels_config": {
        "python": {
          "library": "var_list.py",
          "delete_cmd_prefix": "del ",
          "delete_cmd_postfix": "",
          "varRefreshCmd": "print(var_dic_list())"
        },
        "r": {
          "library": "var_list.r",
          "delete_cmd_prefix": "rm(",
          "delete_cmd_postfix": ") ",
          "varRefreshCmd": "cat(var_dic_list()) "
        }
      },
      "types_to_exclude": [
        "module",
        "function",
        "builtin_function_or_method",
        "instance",
        "_Feature"
      ]
    }
  },
  "nbformat": 4,
  "nbformat_minor": 2
}