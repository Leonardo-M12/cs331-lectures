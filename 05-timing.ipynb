{
  "cells": [
    {
      "metadata": {
        "state": "normal"
      },
      "cell_type": "markdown",
      "source": "# Timing and Plotting"
    },
    {
      "metadata": {
        "state": "normal"
      },
      "cell_type": "markdown",
      "source": "## Agenda\n\n1. Timing\n2. Building a timing utility\n3. The `timeit` module\n4. Drawing plots with `matplotlib`\n5. Timing plots\n6. Timing examples\n    - list indexing\n    - linear search\n    - binary search\n    - insertion sort\n    - collatz conjecture\n7. Takeaways"
    },
    {
      "metadata": {
        "state": "normal"
      },
      "cell_type": "markdown",
      "source": "## 1. Timing"
    },
    {
      "metadata": {
        "state": "normal"
      },
      "cell_type": "markdown",
      "source": "The [`time`](https://docs.python.org/3/library/time.html#module-time) module contains functions for obtaining and interpreting the current system time."
    },
    {
      "metadata": {
        "state": "normal",
        "trusted": true
      },
      "cell_type": "code",
      "source": "import time\ntime.time()",
      "execution_count": null,
      "outputs": []
    },
    {
      "metadata": {
        "state": "normal",
        "trusted": true
      },
      "cell_type": "code",
      "source": "time.localtime(time.time())",
      "execution_count": null,
      "outputs": []
    },
    {
      "metadata": {
        "state": "normal"
      },
      "cell_type": "markdown",
      "source": "By taking start and stop \"timestamps\", we can measure the runtime of code:"
    },
    {
      "metadata": {
        "state": "normal",
        "trusted": true
      },
      "cell_type": "code",
      "source": "time.sleep(0.5)",
      "execution_count": null,
      "outputs": []
    },
    {
      "metadata": {
        "state": "normal"
      },
      "cell_type": "markdown",
      "source": "## 2. Building a timing utility\n\nWe can build a utility function for timing the execution of a passed-in function:"
    },
    {
      "metadata": {
        "state": "normal",
        "trusted": true
      },
      "cell_type": "code",
      "source": "def timeit(fn):\n    pass",
      "execution_count": null,
      "outputs": []
    },
    {
      "metadata": {
        "state": "normal",
        "trusted": true
      },
      "cell_type": "code",
      "source": "sum(range(10_000))",
      "execution_count": null,
      "outputs": []
    },
    {
      "metadata": {
        "state": "normal",
        "trusted": true
      },
      "cell_type": "code",
      "source": "timeit(?)",
      "execution_count": null,
      "outputs": []
    },
    {
      "metadata": {
        "state": "normal"
      },
      "cell_type": "markdown",
      "source": "To make timings more stable, we can run the passed-in function multiple times:"
    },
    {
      "metadata": {
        "state": "normal",
        "trusted": true
      },
      "cell_type": "code",
      "source": "def timeit(fn, number=1):\n    pass",
      "execution_count": null,
      "outputs": []
    },
    {
      "metadata": {
        "state": "normal",
        "trusted": true
      },
      "cell_type": "code",
      "source": "timeit(lambda: sum(range(10_000)), number=1000)",
      "execution_count": null,
      "outputs": []
    },
    {
      "metadata": {
        "state": "normal"
      },
      "cell_type": "markdown",
      "source": "Often, we want to time just a portion of a function, or we need to run some setup code (that we don't wish to time) before running the function to time ..."
    },
    {
      "metadata": {
        "state": "normal"
      },
      "cell_type": "markdown",
      "source": "## 3. The `timeit` module\n\nThe [`timeit`](https://docs.python.org/3/library/timeit.html) module is a built-in library for measuring the execution of code passed in as a string. It also supports passing in \"setup\" code that is not timed."
    },
    {
      "metadata": {
        "state": "normal",
        "trusted": true
      },
      "cell_type": "code",
      "source": "import timeit\ntimeit.timeit('sum(r)', \n              setup='r = range(10_000)', \n              number=1000)",
      "execution_count": null,
      "outputs": []
    },
    {
      "metadata": {
        "state": "normal"
      },
      "cell_type": "markdown",
      "source": "We can easily use this to gather timings for multiple input values:"
    },
    {
      "metadata": {
        "state": "normal",
        "trusted": true
      },
      "cell_type": "code",
      "source": "[timeit.timeit('sum(r)',\n               setup='r = range({})'.format(n),\n               number=1000)\n for n in range(1000, 10_000, 1000)]",
      "execution_count": null,
      "outputs": []
    },
    {
      "metadata": {
        "state": "normal"
      },
      "cell_type": "markdown",
      "source": "Sometimes we might want to make use of functions defined in our notebook in the timed/setup code passed to `timeit`. We need to use the `globals` argument for this:"
    },
    {
      "metadata": {
        "state": "normal",
        "trusted": true
      },
      "cell_type": "code",
      "source": "def fib(n):\n    if n == 0:\n        return 0\n    elif n == 1:\n        return 1\n    else:\n        return fib(n-1) + fib(n-2)",
      "execution_count": null,
      "outputs": []
    },
    {
      "metadata": {
        "state": "normal",
        "trusted": true
      },
      "cell_type": "code",
      "source": "[fib(n) for n in range(12)]",
      "execution_count": null,
      "outputs": []
    },
    {
      "metadata": {
        "state": "normal",
        "trusted": true
      },
      "cell_type": "code",
      "source": "[timeit.timeit('fib({})'.format(n),\n               number=100,\n               globals=globals()) # recall: \"globals()\" returns a dictionary of everything\n                                  # defined in this module; timeit needs it to access `fib`\n for n in range(1, 12)]",
      "execution_count": null,
      "outputs": []
    },
    {
      "metadata": {
        "state": "normal"
      },
      "cell_type": "markdown",
      "source": "## 4. Drawing plots with `matplotlib`\n\nThe [matplotlib library](https://matplotlib.org) supports the creation of all sorts of visualizations. We will use it for drawing simple 2-dimensional plots.\n\nThe primary plotting function we will use is `matplotlib.pyplot.plot` ([full documentation here](https://matplotlib.org/api/_as_gen/matplotlib.pyplot.plot.html#matplotlib.pyplot.plot)), which, when passed two \"array-like\" objects of equal length, will interpret and plot their contents as x and y axis coordinates. We will generally use tuples, lists, and ranges as array-like objects. Note that generators are *not* considered array-like by matplotlib.\n\nSome examples (note that we use a semicolon after the call to `plot` to hide its return value):"
    },
    {
      "metadata": {
        "state": "normal",
        "trusted": true
      },
      "cell_type": "code",
      "source": "import matplotlib.pyplot as plt\nimport numpy as np\nimport math\n\n%matplotlib inline\nplt.rcParams['figure.figsize'] = [10, 6] # set size of plot",
      "execution_count": null,
      "outputs": []
    },
    {
      "metadata": {
        "state": "normal",
        "trusted": true
      },
      "cell_type": "code",
      "source": "plt.plot([1, 2, 3, 4, 5], [50, 20, 30, 10, 40]);",
      "execution_count": null,
      "outputs": []
    },
    {
      "metadata": {
        "state": "normal",
        "trusted": true
      },
      "cell_type": "code",
      "source": "xs = range(11)\nys = [x*2 for x in xs]\nplt.plot(xs, ys);",
      "execution_count": null,
      "outputs": []
    },
    {
      "metadata": {
        "state": "normal"
      },
      "cell_type": "markdown",
      "source": "We can also provide an optional format string to `plot`, which controls marker, line-style, and color for the plot.\n\nHere's a shortened list of options copied from the [full documentation of `plot`](https://matplotlib.org/api/_as_gen/matplotlib.pyplot.plot.html#matplotlib.pyplot.plot):\n\n**Markers**\n\n  - `.` : point marker\n  - `o` : circle marker\n  - `s` : square marker\n  - `d` : diamond marker\n\n**Line-styles**\n \n  - `-` : solid line style\n  - `--` : dashed line style\n  - `:` : dotted line style\n\n**Colors**\n\n  - `k` : black\n  - `r` : red\n  - `g` : blue\n  - `b` : green\n  - `y` : yellow\n  - `c` : cyan\n  \nHere are the above plots with some color and styling (if we omit a line style no connecting line is drawn between data points):"
    },
    {
      "metadata": {
        "state": "normal",
        "trusted": true
      },
      "cell_type": "code",
      "source": "plt.plot([1, 2, 3, 4, 5], [50, 20, 30, 10, 40], 'o--r');",
      "execution_count": null,
      "outputs": []
    },
    {
      "metadata": {
        "state": "normal",
        "trusted": true
      },
      "cell_type": "code",
      "source": "xs = range(11)\nys = [x*2 for x in xs]\nplt.plot(xs, ys, 'dg');",
      "execution_count": null,
      "outputs": []
    },
    {
      "metadata": {
        "state": "normal"
      },
      "cell_type": "markdown",
      "source": "Instead of regular `range` objects, which only allow for integral start/stop/step values, we typically prefer to use the [numpy library](https://numpy.org)'s `arange` and `linspace` functions with matplotlib. `arange` is like `range`, except we can use floating point values for start/stop/step. `linspace` lets us specify start and stop values (both inclusive), and the number of values to return in that interval.\n\nExamples of `arange` and `linspace` calls (note that both functions return numpy arrays, which are iterable and can be passed to `plot`):"
    },
    {
      "metadata": {
        "state": "normal",
        "trusted": true
      },
      "cell_type": "code",
      "source": "np.arange(0.5, 2.5, 0.1)",
      "execution_count": null,
      "outputs": []
    },
    {
      "metadata": {
        "state": "normal",
        "trusted": true
      },
      "cell_type": "code",
      "source": "np.linspace(10, 20, 41)",
      "execution_count": null,
      "outputs": []
    },
    {
      "metadata": {
        "state": "normal",
        "trusted": true
      },
      "cell_type": "code",
      "source": "np.linspace(1, 100_000, 50, dtype=int) # we can specify the data type to coerce values into integers",
      "execution_count": null,
      "outputs": []
    },
    {
      "metadata": {
        "state": "normal"
      },
      "cell_type": "markdown",
      "source": "`plot` can be called multiple times in the same cell to draw multiple lines in the same chart. Below we use this facility together with `linspace` and a handful of list comprehensions to plot some common runtime complexity bounding functions (more on that soon) over a small interval: "
    },
    {
      "metadata": {
        "state": "normal",
        "trusted": true
      },
      "cell_type": "code",
      "source": "count = 100\nxs = np.linspace(0.1, 4, count)\nys_const        = [1] * count\nys_log          = [math.log(x) for x in xs]\nys_linear       = [x for x in xs]\nys_linearithmic = [x * math.log(x) for x in xs]\nys_quadratic    = [x**2 for x in xs]\nys_exponential  = [2**x for x in xs]\n\nplt.plot(xs, ys_const, 'c')\nplt.plot(xs, ys_log, 'r')\nplt.plot(xs, ys_linear, 'b')\nplt.plot(xs, ys_linearithmic, 'g')\nplt.plot(xs, ys_quadratic, 'y');\nplt.plot(xs, ys_exponential, 'm');",
      "execution_count": null,
      "outputs": []
    },
    {
      "metadata": {
        "state": "normal"
      },
      "cell_type": "markdown",
      "source": "## 5. Plotting timings"
    },
    {
      "metadata": {
        "state": "normal"
      },
      "cell_type": "markdown",
      "source": "Plotting timing data collected from functions may help give us a sense of how their runtimes scale with increasing input sizes."
    },
    {
      "metadata": {
        "state": "normal",
        "trusted": true
      },
      "cell_type": "code",
      "source": "# runtimes for sum for increasing sizes of input\n\nns = np.linspace(10, 10_000, 50, dtype=int)\nts = [timeit.timeit('sum(range({}))'.format(n), number=100)\n      for n in ns]\n\nplt.plot(ns, ts, 'or');",
      "execution_count": null,
      "outputs": []
    },
    {
      "metadata": {
        "state": "normal"
      },
      "cell_type": "markdown",
      "source": "Clearly, the runtime of `sum` is directly proportional to the number of values it operates on. \n\nIf we assume a linear relationship, we can compute the average slope between adjacent data points to come up with an line of approximate fit that may help us predict the runtime of `sum`."
    },
    {
      "metadata": {
        "state": "normal",
        "trusted": true
      },
      "cell_type": "code",
      "source": "total = 0\n\nfor i in range(len(ns)-1):\n    total += ? # recall: slope = rise / run\n    \navg_slope = total / (len(ns)-1)",
      "execution_count": null,
      "outputs": []
    },
    {
      "metadata": {
        "state": "normal",
        "trusted": true
      },
      "cell_type": "code",
      "source": "plt.plot(ns, ts, 'or')\nplt.plot(ns, [avg_slope*n for n in ns], '--b');",
      "execution_count": null,
      "outputs": []
    },
    {
      "metadata": {
        "state": "normal",
        "trusted": true
      },
      "cell_type": "code",
      "source": "# i.e., for input of size N, runtime is estimated at:\nfor n in np.linspace(1, 100_000_000, 11, dtype=int):\n    print('Runtime of sum(range({:>11,})) ~ {:>5.2f} s'.format(n, avg_slope*n/100))",
      "execution_count": null,
      "outputs": []
    },
    {
      "metadata": {
        "state": "normal"
      },
      "cell_type": "markdown",
      "source": "We can also use [`polyfit`](https://numpy.org/doc/1.18/reference/generated/numpy.polyfit.html) to compute a best-fitting polynomial function of arbitrary degree for our data:"
    },
    {
      "metadata": {
        "state": "normal",
        "trusted": true
      },
      "cell_type": "code",
      "source": "degree = 10\ncoeffs = np.polyfit(ns, ts, degree)\np = np.poly1d(coeffs)\nplt.plot(ns, ts, 'or')\nplt.plot(ns, [p(n) for n in ns], '-b');",
      "execution_count": null,
      "outputs": []
    },
    {
      "metadata": {
        "state": "normal"
      },
      "cell_type": "markdown",
      "source": "Is there a downside to this approach?"
    },
    {
      "metadata": {
        "state": "normal",
        "trusted": true
      },
      "cell_type": "code",
      "source": "# i.e., for input of size N, runtime is estimated at:\nfor n in np.linspace(1, 100_000_000, 11, dtype=int):\n    print('Runtime of sum(range({:>11,})) ~ {:>5.2f} s'.format(n, p(n)/100))",
      "execution_count": null,
      "outputs": []
    },
    {
      "metadata": {
        "state": "normal"
      },
      "cell_type": "markdown",
      "source": "Choosing an ill-fitting function will likely result in inaccurate runtime predictions. Worse, inaccuracies are compounded as input sizes grow large!\n\nHow do we know what class of function to use (e.g., linear, nth-degree polynomial, exponential) for modeling the runtime behavior of algorithms? \n\nCan we reliably determine this through empirical observation?"
    },
    {
      "metadata": {
        "state": "normal"
      },
      "cell_type": "markdown",
      "source": "## 6. Timing Examples"
    },
    {
      "metadata": {
        "state": "normal"
      },
      "cell_type": "markdown",
      "source": "### Built-in list indexing\n\nWhat is the runtime behavior of list-indexing?"
    },
    {
      "metadata": {
        "state": "normal",
        "trusted": true
      },
      "cell_type": "code",
      "source": "lst = list(range(1_000_000))\nns = np.linspace(0, len(lst), 1000, endpoint=False, dtype=int)\nts = [timeit.timeit('_ = lst[{}]'.format(n),\n                    globals=globals(), \n                    number=10000) \n      for n in ns]\n\nplt.plot(ns, ts, 'or');",
      "execution_count": null,
      "outputs": []
    },
    {
      "metadata": {
        "state": "normal"
      },
      "cell_type": "markdown",
      "source": "Observation: accessing an element in a list by index -- *regardless of where in the list the element is located* -- takes a uniform/constant amount of time.\n\nHow? **A Python list uses an array as its underlying data storage mechanism.** Every \"slot\" of an array is a reference (i.e., a fixed-width address) to an object, and to access an element at a particular index, the underlying code:\n\n1. Computes an *offset* into the array by multiplying the index by the size of a reference\n2. Adds the computed offset to the *base address* of the array, giving us the address of the reference\n3. Accesses the reference and uses it to load the associated element\n\nEach of the steps above can be performed in constant time."
    },
    {
      "metadata": {
        "state": "normal"
      },
      "cell_type": "markdown",
      "source": "### Linear Search"
    },
    {
      "metadata": {
        "state": "normal"
      },
      "cell_type": "markdown",
      "source": "What is the runtime behavior of searching for an element in an unsorted list?"
    },
    {
      "metadata": {
        "state": "normal",
        "trusted": true
      },
      "cell_type": "code",
      "source": "def contains(lst, x):\n    pass",
      "execution_count": null,
      "outputs": []
    },
    {
      "metadata": {
        "state": "normal",
        "trusted": true
      },
      "cell_type": "code",
      "source": "import random\nlst = list(range(100))\nrandom.shuffle(lst)\n\ncontains(lst, 10)",
      "execution_count": null,
      "outputs": []
    },
    {
      "metadata": {
        "state": "normal",
        "trusted": true
      },
      "cell_type": "code",
      "source": "# runtimes when searching for a present element in a randomly shuffled list\n\nns = np.linspace(10, 10_000, 100, dtype=int)\nts = [timeit.timeit('contains(lst, 0)', \n                    setup='lst=list(range({})); random.shuffle(lst)'.format(n),\n                    globals=globals(),\n                    number=100)\n      for n in ns]\n\nplt.plot(ns, ts, 'or');",
      "execution_count": null,
      "outputs": []
    },
    {
      "metadata": {
        "state": "normal",
        "trusted": true
      },
      "cell_type": "code",
      "source": "# runtimes when searching for an element that is not present\n\nns = np.linspace(1_000, 10_000, 100, dtype=int)\nts = [timeit.timeit('contains(lst, -1)', \n                    setup='lst=list(range({}))'.format(n),\n                    globals=globals(),\n                    number=100)\n      for n in ns]\n\nplt.plot(ns, ts, 'or');",
      "execution_count": null,
      "outputs": []
    },
    {
      "metadata": {
        "state": "normal"
      },
      "cell_type": "markdown",
      "source": "### Binary search"
    },
    {
      "metadata": {
        "state": "normal"
      },
      "cell_type": "markdown",
      "source": "What is the runtime behavior of searching for an element in a sorted list using binary search?"
    },
    {
      "metadata": {
        "state": "normal",
        "trusted": true
      },
      "cell_type": "code",
      "source": "def contains(lst, x):\n    pass",
      "execution_count": null,
      "outputs": []
    },
    {
      "metadata": {
        "state": "normal",
        "trusted": true
      },
      "cell_type": "code",
      "source": "lst = list(range(1000))\ncontains(lst, 10)",
      "execution_count": null,
      "outputs": []
    },
    {
      "metadata": {
        "state": "normal",
        "trusted": true
      },
      "cell_type": "code",
      "source": "# runtimes when searching for different values in a fixed-size list\n\nlst = list(range(1000))\nns = range(1000)\nts = [timeit.timeit(stmt='contains(lst, {})'.format(x), \n                    globals=globals(), \n                    number=1000)\n      for x in range(1000)]\n\nplt.plot(ns, ts, 'or');",
      "execution_count": null,
      "outputs": []
    },
    {
      "metadata": {
        "state": "normal",
        "trusted": true
      },
      "cell_type": "code",
      "source": "# runtimes when searching for an edge-value in lists of increasing size\n\nns = np.linspace(10, 10_000, 100, dtype=int)\nts = [timeit.timeit('contains(lst, 0)', \n                    setup='lst=list(range({}))'.format(n),\n                    globals=globals(),\n                    number=1000)\n      for n in ns]\n\nplt.plot(ns, ts, 'or');",
      "execution_count": null,
      "outputs": []
    },
    {
      "metadata": {
        "state": "normal"
      },
      "cell_type": "markdown",
      "source": "### Insertion sort"
    },
    {
      "metadata": {
        "state": "normal"
      },
      "cell_type": "markdown",
      "source": "What is the runtime behavior of insertion sort?"
    },
    {
      "metadata": {
        "state": "normal",
        "trusted": true
      },
      "cell_type": "code",
      "source": "def insertion_sort(lst):\n    pass",
      "execution_count": null,
      "outputs": []
    },
    {
      "metadata": {
        "state": "normal",
        "trusted": true
      },
      "cell_type": "code",
      "source": "import random\nlst = list(range(1000))\nrandom.shuffle(lst)\nplt.plot(lst, 'og');",
      "execution_count": null,
      "outputs": []
    },
    {
      "metadata": {
        "state": "normal",
        "trusted": true
      },
      "cell_type": "code",
      "source": "insertion_sort(lst)\nplt.plot(lst, 'og');",
      "execution_count": null,
      "outputs": []
    },
    {
      "metadata": {
        "state": "normal",
        "trusted": true
      },
      "cell_type": "code",
      "source": "# runtimes for a randomized list\n\nns = np.linspace(100, 2000, 15, dtype=int)\nts = [timeit.timeit('insertion_sort(lst)',\n                    setup='lst=list(range({})); random.shuffle(lst)'.format(n),\n                    globals=globals(),\n                    number=1)\n         for n in ns]\n\nplt.plot(ns, ts, 'or');",
      "execution_count": null,
      "outputs": []
    },
    {
      "metadata": {
        "state": "normal",
        "trusted": true
      },
      "cell_type": "code",
      "source": "# runtimes for an already sorted list\n\nns = np.linspace(100, 2000, 15, dtype=int)\nts = [timeit.timeit('insertion_sort(lst)',\n                    setup='lst=list(range({}))'.format(n),\n                    globals=globals(),\n                    number=1)\n         for n in ns]\n\nplt.plot(ns, ts, 'or');",
      "execution_count": null,
      "outputs": []
    },
    {
      "metadata": {
        "state": "normal",
        "trusted": true
      },
      "cell_type": "code",
      "source": "# runtimes for a reversed list\n\nns = np.linspace(100, 2000, 15, dtype=int)\nts = [timeit.timeit('insertion_sort(lst)',\n                    setup='lst=list(reversed(range({})))'.format(n),\n                    globals=globals(),\n                    number=1)\n         for n in ns]\n\nplt.plot(ns, ts, 'or');",
      "execution_count": null,
      "outputs": []
    },
    {
      "metadata": {
        "state": "normal",
        "trusted": true
      },
      "cell_type": "code",
      "source": "# above runtimes superimposed\n\nns = np.linspace(100, 2000, 15, dtype=int)\nts1 = [timeit.timeit('insertion_sort(lst)',\n                     setup='lst=list((range({})))'.format(n),\n                     globals=globals(),\n                     number=1)\n       for n in ns]\nts2 = [timeit.timeit('insertion_sort(lst)',\n                     setup='lst=list(range({})); random.shuffle(lst)'.format(n),\n                     globals=globals(),\n                     number=1)\n       for n in ns]\n\nts3 = [timeit.timeit('insertion_sort(lst)',\n                     setup='lst=list(reversed(range({})))'.format(n),\n                     globals=globals(),\n                     number=1)\n       for n in ns]\n\nplt.plot(ns, ts1, 'og');\nplt.plot(ns, ts2, 'ob');\nplt.plot(ns, ts3, 'or');",
      "execution_count": null,
      "outputs": []
    },
    {
      "metadata": {
        "state": "normal"
      },
      "cell_type": "markdown",
      "source": "### Collatz conjecture"
    },
    {
      "metadata": {
        "state": "normal"
      },
      "cell_type": "markdown",
      "source": "The Collatz conjecture defines a series of numbers starting with any positive integer $n$, where subsequent terms in the series are computed with the following function:\n\n$f(n) = \\begin{cases} n/2 &\\mbox{if $n$ is even} \\\\ 3n+1 & \\mbox{if $n$ is odd} \\end{cases}$\n\nThe conjecture is that regardless of the starting integer, the series ends in 1.\n\nWhat is the runtime behavior of the Collatz series generating function, for increasing values of $n$?"
    },
    {
      "metadata": {
        "state": "normal",
        "trusted": true
      },
      "cell_type": "code",
      "source": "def collatz(n):\n    pass",
      "execution_count": null,
      "outputs": []
    },
    {
      "metadata": {
        "state": "normal",
        "trusted": true
      },
      "cell_type": "code",
      "source": "collatz(9)",
      "execution_count": null,
      "outputs": []
    },
    {
      "metadata": {
        "state": "normal",
        "trusted": true
      },
      "cell_type": "code",
      "source": "# runtimes for different values of n\n\nns = np.linspace(1, 100_000, 200, dtype=int)\nts = [timeit.timeit('collatz({})'.format(n),\n                     globals=globals(),\n                     number=100)\n      for n in ns]\n\nplt.plot(ns, ts, 'or');",
      "execution_count": null,
      "outputs": []
    },
    {
      "metadata": {
        "state": "normal"
      },
      "cell_type": "markdown",
      "source": "Proving the conjecture is an open research problem! (I.e., it's possible that the series doesn't terminate for some value of $n$, though such $n$ is not known to exist.)"
    },
    {
      "metadata": {
        "state": "normal"
      },
      "cell_type": "markdown",
      "source": "## 7. Takeaways\n\n- timing and plotting libraries allow us to systematically measure and visualize the runtime behavior of algorithms over different inputs\n- different characteristics of input (e.g., shuffled, ordered, reversed) can have a profound impact on the runtime of algorithms\n- empirical runtime measurements do not always paint a clear, accurate, or consistent picture of the long-term runtime behavior of a function\n- choosing the wrong class of function to describe the runtime behavior of an algorithm can result in disastrously wrong predictions\n- timing results are useful, but we need a more systematic and rigorous way of describing and comparing the runtime behavior of algorithms!"
    }
  ],
  "metadata": {
    "kernelspec": {
      "name": "python3",
      "display_name": "Python 3",
      "language": "python"
    },
    "language_info": {
      "name": "python",
      "version": "3.7.3",
      "mimetype": "text/x-python",
      "codemirror_mode": {
        "name": "ipython",
        "version": 3
      },
      "pygments_lexer": "ipython3",
      "nbconvert_exporter": "python",
      "file_extension": ".py"
    },
    "mimir": {
      "project_id": "bd374d38-d0b1-4e36-829b-16d3963ac926",
      "last_submission_id": "",
      "data": {}
    },
    "varInspector": {
      "window_display": false,
      "cols": {
        "lenName": 16,
        "lenType": 16,
        "lenVar": 40
      },
      "kernels_config": {
        "python": {
          "library": "var_list.py",
          "delete_cmd_prefix": "del ",
          "delete_cmd_postfix": "",
          "varRefreshCmd": "print(var_dic_list())"
        },
        "r": {
          "library": "var_list.r",
          "delete_cmd_prefix": "rm(",
          "delete_cmd_postfix": ") ",
          "varRefreshCmd": "cat(var_dic_list()) "
        }
      },
      "types_to_exclude": [
        "module",
        "function",
        "builtin_function_or_method",
        "instance",
        "_Feature"
      ]
    }
  },
  "nbformat": 4,
  "nbformat_minor": 2
}