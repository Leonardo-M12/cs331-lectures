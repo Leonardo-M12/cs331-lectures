{
  "cells": [
    {
      "metadata": {
        "state": "normal"
      },
      "cell_type": "markdown",
      "source": "# Priority Queues\n\n## Agenda\n\n1. Motives\n2. Naive implementation\n2. Heaps\n    - Mechanics\n    - Implementation\n    - Run-time Analysis\n3. Heapsort"
    },
    {
      "metadata": {
        "state": "normal"
      },
      "cell_type": "markdown",
      "source": "## 1. Motives"
    },
    {
      "metadata": {
        "state": "normal"
      },
      "cell_type": "markdown",
      "source": "## 2. Naive implementation"
    },
    {
      "metadata": {
        "collapsed": true,
        "state": "normal",
        "trusted": false
      },
      "cell_type": "code",
      "source": "class PriorityQueue:\n    def __init__(self):\n        self.data = []\n        \n    def add(self, x):\n        pass\n    \n    def max(self):\n        pass\n\n    def pop_max(self):\n        pass\n    \n    def __bool__(self):\n        return len(self.data) > 0\n\n    def __len__(self):\n        return len(self.data)\n\n    def __repr__(self):\n        return repr(self.data)",
      "execution_count": null,
      "outputs": []
    },
    {
      "metadata": {
        "collapsed": true,
        "state": "normal",
        "trusted": false
      },
      "cell_type": "code",
      "source": "pq = PriorityQueue()",
      "execution_count": null,
      "outputs": []
    },
    {
      "metadata": {
        "collapsed": true,
        "state": "normal",
        "trusted": false
      },
      "cell_type": "code",
      "source": "import random\nfor _ in range(10):\n    pq.add(random.randrange(100))",
      "execution_count": null,
      "outputs": []
    },
    {
      "metadata": {
        "state": "normal",
        "trusted": false
      },
      "cell_type": "code",
      "source": "pq",
      "execution_count": null,
      "outputs": []
    },
    {
      "metadata": {
        "state": "normal",
        "trusted": false
      },
      "cell_type": "code",
      "source": "while pq:\n    print(pq.pop_max())",
      "execution_count": null,
      "outputs": []
    },
    {
      "metadata": {
        "state": "normal"
      },
      "cell_type": "markdown",
      "source": "## 3. Heaps"
    },
    {
      "metadata": {
        "state": "normal"
      },
      "cell_type": "markdown",
      "source": "### Mechanics"
    },
    {
      "metadata": {
        "state": "normal"
      },
      "cell_type": "markdown",
      "source": "### Implementation"
    },
    {
      "metadata": {
        "collapsed": true,
        "state": "normal",
        "trusted": false
      },
      "cell_type": "code",
      "source": "class Heap:\n    def __init__(self):\n        self.data = []\n\n    def add(self, x):\n        pass\n    \n    def max(self):\n        pass\n\n    def pop_max(self):\n        pass\n    \n    def __bool__(self):\n        return len(self.data) > 0\n\n    def __len__(self):\n        return len(self.data)\n\n    def __repr__(self):\n        return repr(self.data)",
      "execution_count": null,
      "outputs": []
    },
    {
      "metadata": {
        "collapsed": true,
        "state": "normal",
        "trusted": false
      },
      "cell_type": "code",
      "source": "h = Heap()",
      "execution_count": null,
      "outputs": []
    },
    {
      "metadata": {
        "collapsed": true,
        "state": "normal",
        "trusted": false
      },
      "cell_type": "code",
      "source": "import random\nfor _ in range(10):\n    h.add(random.randrange(100))",
      "execution_count": null,
      "outputs": []
    },
    {
      "metadata": {
        "state": "normal",
        "trusted": false
      },
      "cell_type": "code",
      "source": "h",
      "execution_count": null,
      "outputs": []
    },
    {
      "metadata": {
        "state": "normal",
        "trusted": false
      },
      "cell_type": "code",
      "source": "while h:\n    print(h.pop_max())",
      "execution_count": null,
      "outputs": []
    },
    {
      "metadata": {
        "state": "normal"
      },
      "cell_type": "markdown",
      "source": "### Run-time Analysis"
    },
    {
      "metadata": {
        "state": "normal"
      },
      "cell_type": "markdown",
      "source": "## 4. Heapsort"
    },
    {
      "metadata": {
        "collapsed": true,
        "state": "normal",
        "trusted": false
      },
      "cell_type": "code",
      "source": "def heapsort(iterable):\n    heap = Heap()\n    pass",
      "execution_count": null,
      "outputs": []
    },
    {
      "metadata": {
        "collapsed": true,
        "state": "normal",
        "trusted": false
      },
      "cell_type": "code",
      "source": "from random import shuffle\nlst = list(range(100))\nshuffle(lst)\nprint(lst)\nprint(heapsort(lst))",
      "execution_count": null,
      "outputs": []
    },
    {
      "metadata": {
        "state": "normal",
        "trusted": false
      },
      "cell_type": "code",
      "source": "%matplotlib inline\nimport matplotlib.pyplot as plt\nimport numpy as np\n\nns = np.linspace(100, 10000, 50, dtype=np.int_)\nplt.plot(ns, [time_heapsort(n) for n in ns], 'r+')\nplt.show()",
      "execution_count": null,
      "outputs": []
    },
    {
      "metadata": {
        "state": "normal",
        "trusted": false
      },
      "cell_type": "code",
      "source": "%matplotlib inline\nimport matplotlib.pyplot as plt\nimport numpy as np\n\nns = np.linspace(100, 10000, 50, dtype=np.int_)\nplt.plot(ns, [time_heapsort(n) for n in ns], 'r+')\nplt.plot(ns, ns*np.log2(ns)*0.01/10000, 'b') # O(n log n) plot\nplt.show()",
      "execution_count": null,
      "outputs": []
    }
  ],
  "metadata": {
    "kernelspec": {
      "name": "python3",
      "display_name": "Python 3",
      "language": "python"
    },
    "language_info": {
      "name": "python",
      "version": "3.7.3",
      "mimetype": "text/x-python",
      "codemirror_mode": {
        "name": "ipython",
        "version": 3
      },
      "pygments_lexer": "ipython3",
      "nbconvert_exporter": "python",
      "file_extension": ".py"
    },
    "mimir": {
      "project_id": "cd081cc2-3118-4acf-abe4-cfe5215cf9e7",
      "last_submission_id": "",
      "data": {}
    },
    "varInspector": {
      "window_display": false,
      "cols": {
        "lenName": 16,
        "lenType": 16,
        "lenVar": 40
      },
      "kernels_config": {
        "python": {
          "library": "var_list.py",
          "delete_cmd_prefix": "del ",
          "delete_cmd_postfix": "",
          "varRefreshCmd": "print(var_dic_list())"
        },
        "r": {
          "library": "var_list.r",
          "delete_cmd_prefix": "rm(",
          "delete_cmd_postfix": ") ",
          "varRefreshCmd": "cat(var_dic_list()) "
        }
      },
      "types_to_exclude": [
        "module",
        "function",
        "builtin_function_or_method",
        "instance",
        "_Feature"
      ]
    }
  },
  "nbformat": 4,
  "nbformat_minor": 2
}