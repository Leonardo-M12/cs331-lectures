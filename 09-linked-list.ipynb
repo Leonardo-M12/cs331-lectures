{
  "cells": [
    {
      "metadata": {
        "state": "normal"
      },
      "cell_type": "markdown",
      "source": "# Linked Lists\n\n## Agenda\n\n1. The `LinkedList` and `Node` classes  \n2. Implementing `append`\n3. Implementing deletion\n4. Bidirectional links (Doubly-linked list) & Sentinel head\n5. Incorporating a \"cursor\"\n6. Run-time analysis"
    },
    {
      "metadata": {
        "state": "normal"
      },
      "cell_type": "markdown",
      "source": "## 1. The `LinkedList` and `Node` classes"
    },
    {
      "metadata": {
        "state": "normal",
        "trusted": false
      },
      "cell_type": "code",
      "source": "class LinkedList:\n    class Node:\n        def __init__(self, val, next=None):\n            self.val = val\n            self.next = next\n    \n    def __init__(self):\n        self.head = None\n        self.count = 0\n    \n    def prepend(self, value):\n        pass\n    \n    def __len__(self):\n        return self.count\n        \n    def __iter__(self):\n        n = self.head\n        while n:\n            yield n.val\n            n = n.next\n    \n    def __repr__(self):\n        return '[' + ', '.join(x for x in self) + ']'",
      "execution_count": null,
      "outputs": []
    },
    {
      "metadata": {
        "state": "normal",
        "trusted": false
      },
      "cell_type": "code",
      "source": "lst = LinkedList()\nfor i in range(10):\n    lst.prepend(i)\nlst",
      "execution_count": null,
      "outputs": []
    },
    {
      "metadata": {
        "state": "normal"
      },
      "cell_type": "markdown",
      "source": "## 2. Implementing `append`"
    },
    {
      "metadata": {
        "state": "normal"
      },
      "cell_type": "markdown",
      "source": "### Option 1"
    },
    {
      "metadata": {
        "state": "normal",
        "trusted": false
      },
      "cell_type": "code",
      "source": "class LinkedList (LinkedList): # note: using inheritance to extend prior definition\n    def append(self, value):\n        pass",
      "execution_count": null,
      "outputs": []
    },
    {
      "metadata": {
        "state": "normal",
        "trusted": false
      },
      "cell_type": "code",
      "source": "lst = LinkedList()\nfor i in range(10):\n    lst.append(i)\nlst",
      "execution_count": null,
      "outputs": []
    },
    {
      "metadata": {
        "state": "normal"
      },
      "cell_type": "markdown",
      "source": "### Option 2"
    },
    {
      "metadata": {
        "state": "normal",
        "trusted": false
      },
      "cell_type": "code",
      "source": "class LinkedList (LinkedList):\n    def __init__(self):\n        self.head = self.tail = None\n        self.count = 0\n        \n    def prepend(self, value):\n        pass\n        \n    def append(self, value):\n        pass",
      "execution_count": null,
      "outputs": []
    },
    {
      "metadata": {
        "state": "normal",
        "trusted": false
      },
      "cell_type": "code",
      "source": "lst = LinkedList()\nfor i in range(10):\n    lst.append(i)\nlst",
      "execution_count": null,
      "outputs": []
    },
    {
      "metadata": {
        "state": "normal"
      },
      "cell_type": "markdown",
      "source": "## 3. Implementing deletion"
    },
    {
      "metadata": {
        "state": "normal"
      },
      "cell_type": "markdown",
      "source": "### Deleting the head"
    },
    {
      "metadata": {
        "state": "normal",
        "trusted": false
      },
      "cell_type": "code",
      "source": "class LinkedList (LinkedList):\n    def del_head(self):\n        assert(len(self) > 0)\n        pass",
      "execution_count": null,
      "outputs": []
    },
    {
      "metadata": {
        "state": "normal",
        "trusted": false
      },
      "cell_type": "code",
      "source": "lst = LinkedList()\nfor i in range(10):\n    lst.append(i)\nlst.del_head()\nlst.del_head()\nlst",
      "execution_count": null,
      "outputs": []
    },
    {
      "metadata": {
        "state": "normal"
      },
      "cell_type": "markdown",
      "source": "### Deleting the tail"
    },
    {
      "metadata": {
        "state": "normal",
        "trusted": false
      },
      "cell_type": "code",
      "source": "class LinkedList (LinkedList):\n    def del_tail(self):\n        assert(len(self) > 0)\n        pass",
      "execution_count": null,
      "outputs": []
    },
    {
      "metadata": {
        "state": "normal",
        "trusted": false
      },
      "cell_type": "code",
      "source": "lst = LinkedList()\nfor i in range(10):\n    lst.append(i)\nlst.del_tail()\nlst.del_tail()\nlst",
      "execution_count": null,
      "outputs": []
    },
    {
      "metadata": {
        "state": "normal"
      },
      "cell_type": "markdown",
      "source": "## 4. Bidirectional links (Doubly-linked list) & Sentinel head"
    },
    {
      "metadata": {
        "state": "normal",
        "trusted": false
      },
      "cell_type": "code",
      "source": "class LinkedList:\n    class Node:\n        def __init__(self, val, prior=None, next=None):\n            self.val = val\n            self.prior = prior\n            self.next  = next\n    \n    def __init__(self):\n        self.count = 0\n        \n    def prepend(self, value):\n        self.count += 1\n        \n    def append(self, value):\n        self.count += 1\n        \n    def __getitem__(self, idx):\n        pass\n        \n    def __len__(self):\n        return self.count\n        \n    def __iter__(self):\n        n = self.head.next\n        while n is not self.head:\n            yield n.val\n            n = n.next\n    \n    def __repr__(self):\n        return '[' + ', '.join(str(x) for x in self) + ']'",
      "execution_count": null,
      "outputs": []
    },
    {
      "metadata": {
        "state": "normal",
        "trusted": false
      },
      "cell_type": "code",
      "source": "lst = LinkedList()\nfor i in range(10):\n    lst.prepend(i)\nfor i in range(10):\n    lst.append(i)\nlst",
      "execution_count": null,
      "outputs": []
    },
    {
      "metadata": {
        "state": "normal"
      },
      "cell_type": "markdown",
      "source": "## 5. Incorporating a \"cursor\""
    },
    {
      "metadata": {
        "state": "normal",
        "trusted": false
      },
      "cell_type": "code",
      "source": "class LinkedList:\n    class Node:\n        def __init__(self, val, prior=None, next=None):\n            self.val = val\n            self.prior = prior\n            self.next  = next\n    \n    def __init__(self):\n        self.head = self.cursor = LinkedList.Node(None)\n        self.head.prior = self.head.next = self.head\n        self.count = 0\n                \n    def append(self, value):\n        n = LinkedList.Node(value, prior=self.head.prior, next=self.head)\n        n.prior.next = n.next.prior = n\n        self.count += 1\n        \n    def cursor_set(self, idx):\n        pass\n    \n    def cursor_insert(self, x):\n        pass\n    \n    def cursor_delete(self):\n        pass\n        \n    def __len__(self):\n        return self.count\n        \n    def __iter__(self):\n        n = self.head.next\n        while n is not self.head:\n            yield n.val\n            n = n.next\n    \n    def __repr__(self):\n        return '[' + ', '.join(str(x) for x in self) + ']'",
      "execution_count": null,
      "outputs": []
    },
    {
      "metadata": {
        "state": "normal",
        "trusted": false
      },
      "cell_type": "code",
      "source": "lst = LinkedList()\nfor i in range(10):\n    lst.append(i)\nlst",
      "execution_count": null,
      "outputs": []
    },
    {
      "metadata": {
        "state": "normal",
        "trusted": false
      },
      "cell_type": "code",
      "source": "lst.cursor_set(4)\nfor x in 'abcd':\n    lst.cursor_insert(x)\nlst",
      "execution_count": null,
      "outputs": []
    },
    {
      "metadata": {
        "state": "normal",
        "trusted": false
      },
      "cell_type": "code",
      "source": "lst.cursor_set(8)\nfor _ in range(4):\n    lst.cursor_delete()",
      "execution_count": null,
      "outputs": []
    },
    {
      "metadata": {
        "state": "normal"
      },
      "cell_type": "markdown",
      "source": "## 6. Run-time analysis"
    },
    {
      "metadata": {
        "state": "normal"
      },
      "cell_type": "markdown",
      "source": "Run-time complexities for circular, doubly-linked list of $N$ elements:\n\n- indexing (position-based access) = $O(?)$\n- search (unsorted) = $O(?)$\n- search (sorted) = $O(?)$ --- binary search isn't possible!\n- prepend = $O(?)$\n- append = $O(?)$\n- indexing = $O(?)$\n- insertion at arbitrary position: indexing = $O(?)$ + insertion = $O(?)$\n- deletion of arbitrary element: indexing = $O(?)$ + deletion = $O(?)$"
    }
  ],
  "metadata": {
    "kernelspec": {
      "name": "python3",
      "display_name": "Python 3",
      "language": "python"
    },
    "language_info": {
      "name": "python",
      "version": "3.7.3",
      "mimetype": "text/x-python",
      "codemirror_mode": {
        "name": "ipython",
        "version": 3
      },
      "pygments_lexer": "ipython3",
      "nbconvert_exporter": "python",
      "file_extension": ".py"
    },
    "mimir": {
      "project_id": "41bee725-65ca-4c92-94b2-996780a0138c",
      "last_submission_id": "",
      "data": {}
    },
    "varInspector": {
      "window_display": false,
      "cols": {
        "lenName": 16,
        "lenType": 16,
        "lenVar": 40
      },
      "kernels_config": {
        "python": {
          "library": "var_list.py",
          "delete_cmd_prefix": "del ",
          "delete_cmd_postfix": "",
          "varRefreshCmd": "print(var_dic_list())"
        },
        "r": {
          "library": "var_list.r",
          "delete_cmd_prefix": "rm(",
          "delete_cmd_postfix": ") ",
          "varRefreshCmd": "cat(var_dic_list()) "
        }
      },
      "types_to_exclude": [
        "module",
        "function",
        "builtin_function_or_method",
        "instance",
        "_Feature"
      ]
    }
  },
  "nbformat": 4,
  "nbformat_minor": 2
}