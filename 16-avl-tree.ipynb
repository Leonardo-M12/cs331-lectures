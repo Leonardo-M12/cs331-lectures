{
  "cells": [
    {
      "metadata": {
        "state": "normal"
      },
      "cell_type": "markdown",
      "source": "# Balanced BS Tree: AVL Tree\n\n## Agenda\n\n1. Motives\n2. \"Balanced\" binary trees\n3. Essential mechanic: rotation\n4. Out-of-balance scenarios & rotation recipes\n5. Generalized AVL rebalancing (insertion)\n6. Rebalancing on removal"
    },
    {
      "metadata": {
        "state": "normal"
      },
      "cell_type": "markdown",
      "source": "## 1. Motives"
    },
    {
      "metadata": {
        "state": "normal",
        "trusted": true
      },
      "cell_type": "code",
      "source": "class BSTree:\n    class Node:\n        def __init__(self, val, left=None, right=None):\n            self.val = val\n            self.left = left\n            self.right = right\n            \n    def __init__(self):\n        self.size = 0\n        self.root = None\n    \n    def add(self, val):\n        assert(val not in self)\n        def add_rec(node):\n            if not node:\n                return BSTree.Node(val)\n            elif val < node.val:\n                node.left = add_rec(node.left)\n                return node\n            else:\n                node.right = add_rec(node.right)\n                return node\n        self.root = add_rec(self.root)\n        self.size += 1\n        \n    def __contains__(self, val):\n        def contains_rec(node):\n            if not node:\n                return False\n            elif val < node.val:\n                return contains_rec(node.left)\n            elif val > node.val:\n                return contains_rec(node.right)\n            else:\n                return True\n        return contains_rec(self.root)\n    \n    def __len__(self):\n        return self.size\n    \n    def __delitem__(self, val):\n        assert(val in self)\n        def delitem_rec(node):\n            if val < node.val:\n                node.left = delitem_rec(node.left)\n                return node\n            elif val > node.val:\n                node.right = delitem_rec(node.right)\n                return node\n            else:\n                if not node.left and not node.right:\n                    return None\n                elif node.left and not node.right:\n                    return node.left\n                elif node.right and not node.left:\n                    return node.right\n                else:\n                    to_del = node.left\n                    if not to_del.right:\n                        node.left = to_del.left\n                    else:\n                        par = to_del\n                        to_del = par.right\n                        while to_del.right:\n                            par = par.right\n                            to_del = to_del.right\n                        par.right = to_del.left\n                    node.val = to_del.val\n                    return node\n                        \n        self.root = delitem_rec(self.root)\n        self.size -= 1\n        \n    def pprint(self, width=64):\n        \"\"\"Attempts to pretty-print this tree's contents.\"\"\"\n        height = self.height()\n        nodes  = [(self.root, 0)]\n        prev_level = 0\n        repr_str = ''\n        while nodes:\n            n,level = nodes.pop(0)\n            if prev_level != level:\n                prev_level = level\n                repr_str += '\\n'\n            if not n:\n                if level < height-1:\n                    nodes.extend([(None, level+1), (None, level+1)])\n                repr_str += '{val:^{width}}'.format(val='-', width=width//2**level)\n            elif n:\n                if n.left or level < height-1:\n                    nodes.append((n.left, level+1))\n                if n.right or level < height-1:\n                    nodes.append((n.right, level+1))\n                repr_str += '{val:^{width}}'.format(val=n.val, width=width//2**level)\n        print(repr_str)\n    \n    def height(self):\n        \"\"\"Returns the height of the longest branch of the tree.\"\"\"\n        def height_rec(t):\n            if not t:\n                return 0\n            else:\n                return max(1+height_rec(t.left), 1+height_rec(t.right))\n        return height_rec(self.root)",
      "execution_count": null,
      "outputs": []
    },
    {
      "metadata": {
        "state": "normal",
        "trusted": true
      },
      "cell_type": "code",
      "source": "t = BSTree()\nfor x in range(6):\n    t.add(x)\nt.pprint()",
      "execution_count": null,
      "outputs": []
    },
    {
      "metadata": {
        "state": "normal",
        "trusted": true
      },
      "cell_type": "code",
      "source": "import sys\nsys.setrecursionlimit(100)\n\nt = BSTree()\nfor x in range(100):\n    t.add(x)",
      "execution_count": null,
      "outputs": []
    },
    {
      "metadata": {
        "state": "normal"
      },
      "cell_type": "markdown",
      "source": "## 2. \"Balanced\" binary trees"
    },
    {
      "metadata": {
        "state": "normal"
      },
      "cell_type": "markdown",
      "source": "There are different metrics we can use to determine whether a binary tree is balanced --- for example, we could consider the *number* of nodes on either side of a given node, the *height* of the subtrees on either side of a given node, or even the specific *configuration* of nodes in subtrees on either side of a given node (perhaps we only want to permit full or complete trees).\n\nFor our purposes, we are going to define a balanced binary tree based on height. Specifically, an AVL tree (a particular type of balanced binary tree), is one where the *AVL property* holds for every node in the tree. The AVL property states that the heights of the left and right subtrees of a given node can differ by *no more than one*.\n\nAn AVL tree is also *self-balancing*. I.e., whenever the AVL property may be violated by an insertion/deletion, it must be immediately fixed --- the AVL property must always hold for all nodes in the tree after completing an insertion/deletion operation. \n\nHow do we do this?"
    },
    {
      "metadata": {
        "state": "normal"
      },
      "cell_type": "markdown",
      "source": "## 3. Essential mechanic: rotation"
    },
    {
      "metadata": {
        "state": "normal",
        "trusted": true
      },
      "cell_type": "code",
      "source": "class AVLTree(BSTree):\n    class Node:\n        def __init__(self, val, left=None, right=None):\n            self.val = val\n            self.left = left\n            self.right = right\n\n        def rotate_right(self):\n            pass\n            \n    def add(self, val):\n        assert(val not in self)\n        def add_rec(node):\n            if not node:\n                return AVLTree.Node(val)\n            elif val < node.val:\n                node.left = add_rec(node.left)\n                return node\n            else:\n                node.right = add_rec(node.right)\n                return node\n        self.root = add_rec(self.root)\n        self.size += 1",
      "execution_count": null,
      "outputs": []
    },
    {
      "metadata": {
        "state": "normal",
        "trusted": true
      },
      "cell_type": "code",
      "source": "t = AVLTree()\nfor x in range(6, 0, -1):\n    t.add(x)\nt.pprint()",
      "execution_count": null,
      "outputs": []
    },
    {
      "metadata": {
        "state": "normal",
        "trusted": true
      },
      "cell_type": "code",
      "source": "t.root.rotate_right()\nt.pprint()",
      "execution_count": null,
      "outputs": []
    },
    {
      "metadata": {
        "state": "normal",
        "trusted": true
      },
      "cell_type": "code",
      "source": "t.root.rotate_right()\nt.pprint()",
      "execution_count": null,
      "outputs": []
    },
    {
      "metadata": {
        "state": "normal",
        "trusted": true
      },
      "cell_type": "code",
      "source": "t.root.left.rotate_right()\nt.pprint()",
      "execution_count": null,
      "outputs": []
    },
    {
      "metadata": {
        "state": "normal",
        "trusted": true
      },
      "cell_type": "code",
      "source": "class AVLTree(BSTree):\n    class Node:\n        def __init__(self, val, left=None, right=None):\n            self.val = val\n            self.left = left\n            self.right = right\n            \n        def rotate_right(self):\n            p = self\n            c = self.left\n            p.val, c.val = c.val, p.val\n            p.left, p.right, c.left, c.right = c.left, c, c.right, p.right\n        \n        @staticmethod\n        def height(n):\n            if not n:\n                return 0\n            else:\n                return max(1+AVLTree.Node.height(n.left), 1+AVLTree.Node.height(n.right))\n                                    \n    def add(self, val):\n        assert(val not in self)\n        def add_rec(node):\n            if not node:\n                return AVLTree.Node(val)\n            elif val < node.val:\n                node.left = add_rec(node.left)\n            else:\n                node.right = add_rec(node.right)\n            # detect and fix imbalance in `node` before returning\n            return node\n        self.root = add_rec(self.root)\n        self.size += 1",
      "execution_count": null,
      "outputs": []
    },
    {
      "metadata": {
        "state": "normal",
        "trusted": true
      },
      "cell_type": "code",
      "source": "val = 50\nt = AVLTree()",
      "execution_count": null,
      "outputs": []
    },
    {
      "metadata": {
        "state": "normal",
        "trusted": true
      },
      "cell_type": "code",
      "source": "# (evaluate multiple times with ctrl-enter)\nt.add(val)\nval -= 1\nt.pprint()",
      "execution_count": null,
      "outputs": []
    },
    {
      "metadata": {
        "state": "normal",
        "trusted": true
      },
      "cell_type": "code",
      "source": "val = 0\nt = AVLTree()",
      "execution_count": null,
      "outputs": []
    },
    {
      "metadata": {
        "state": "normal",
        "trusted": true
      },
      "cell_type": "code",
      "source": "# (evaluate multiple times with ctrl-enter)\nt.add(val)\nval += 1\nt.pprint()",
      "execution_count": null,
      "outputs": []
    },
    {
      "metadata": {
        "state": "normal"
      },
      "cell_type": "markdown",
      "source": "## 4. \"Out-of-balance\" scenarios & rotation recipes"
    },
    {
      "metadata": {
        "state": "normal",
        "trusted": true
      },
      "cell_type": "code",
      "source": "# \"left-left\" scenario\nt = BSTree()\nfor x in [3, 2, 1]:\n    t.add(x)\nt.pprint()",
      "execution_count": null,
      "outputs": []
    },
    {
      "metadata": {
        "state": "normal",
        "trusted": true
      },
      "cell_type": "code",
      "source": "# \"left-right\" scenario\nt = BSTree()\nfor x in [3, 1, 2]:\n    t.add(x)\nt.pprint()",
      "execution_count": null,
      "outputs": []
    },
    {
      "metadata": {
        "state": "normal",
        "trusted": true
      },
      "cell_type": "code",
      "source": "# \"right-right\" scenario\nt = BSTree()\nfor x in [1, 2, 3]:\n    t.add(x)\nt.pprint()",
      "execution_count": null,
      "outputs": []
    },
    {
      "metadata": {
        "state": "normal",
        "trusted": true
      },
      "cell_type": "code",
      "source": "# \"right-left\" scenario\nt = BSTree()\nfor x in [1, 3, 2]:\n    t.add(x)\nt.pprint()",
      "execution_count": null,
      "outputs": []
    },
    {
      "metadata": {
        "state": "normal"
      },
      "cell_type": "markdown",
      "source": "## 5. Generalized AVL rebalancing (insertion)"
    },
    {
      "metadata": {
        "state": "normal",
        "trusted": true
      },
      "cell_type": "code",
      "source": "class AVLTree(BSTree):\n    class Node:\n        def __init__(self, val, left=None, right=None):\n            self.val = val\n            self.left = left\n            self.right = right\n\n        def rotate_right(self):\n            p = self\n            c = self.left\n            p.val, c.val = c.val, p.val\n            p.left, p.right, c.left, c.right = c.left, c, c.right, p.right\n            \n        def rotate_left(self):\n            pass\n        \n        @staticmethod\n        def height(n):\n            if not n:\n                return 0\n            else:\n                return max(1+AVLTree.Node.height(n.left), 1+AVLTree.Node.height(n.right))\n    \n    @staticmethod\n    def rebalance(t):\n        if AVLTree.Node.height(t.left) > AVLTree.Node.height(t.right):\n            if AVLTree.Node.height(t.left.left) >= AVLTree.Node.height(t.left.right):\n                # left-left\n                print('left-left imbalance detected')\n                # fix?\n            else:\n                # left-right\n                print('left-right imbalance detected')\n                # fix?\n        else:\n            # right branch imbalance tests needed\n            pass\n            \n    def add(self, val):\n        assert(val not in self)\n        def add_rec(node):\n            if not node:\n                return AVLTree.Node(val)\n            elif val < node.val:\n                node.left = add_rec(node.left)\n            else:\n                node.right = add_rec(node.right)\n            if False: # detect imbalance\n                AVLTree.rebalance(node)\n            return node\n        self.root = add_rec(self.root)\n        self.size += 1",
      "execution_count": null,
      "outputs": []
    },
    {
      "metadata": {
        "state": "normal",
        "trusted": true
      },
      "cell_type": "code",
      "source": "t = AVLTree()\nfor x in [10, 5, 1]:\n    t.add(x)\nt.pprint()",
      "execution_count": null,
      "outputs": []
    },
    {
      "metadata": {
        "state": "normal",
        "trusted": true
      },
      "cell_type": "code",
      "source": "# broken!\nt = AVLTree()\nfor x in [10, 5, 1, 2, 3]:\n    t.add(x)\nt.pprint()",
      "execution_count": null,
      "outputs": []
    },
    {
      "metadata": {
        "state": "normal"
      },
      "cell_type": "markdown",
      "source": "## 5. Rebalancing on removal"
    },
    {
      "metadata": {
        "state": "normal",
        "trusted": true
      },
      "cell_type": "code",
      "source": "class AVLTree(BSTree):\n    class Node:\n        def __init__(self, val, left=None, right=None):\n            self.val = val\n            self.left = left\n            self.right = right\n\n        def rotate_right(self):\n            p = self\n            c = self.left\n            p.val, c.val = c.val, p.val\n            p.left, p.right, c.left, c.right = c.left, c, c.right, p.right\n        \n        def rotate_left(self):\n            pass\n            \n        @staticmethod\n        def height(n):\n            if not n:\n                return 0\n            else:\n                return max(1+AVLTree.Node.height(n.left), 1+AVLTree.Node.height(n.right))\n    \n    @staticmethod\n    def rebalance(t):\n        if AVLTree.Node.height(t.left) > AVLTree.Node.height(t.right):\n            if AVLTree.Node.height(t.left.left) >= AVLTree.Node.height(t.left.right):\n                # left-left\n                print('left-left imbalance detected')\n                t.rotate_right()\n            else:\n                # left-right\n                print('left-right imbalance detected')\n                t.left.rotate_left()\n                t.rotate_right()\n        else:\n            pass\n            \n    def add(self, val):\n        assert(val not in self)\n        def add_rec(node):\n            if not node:\n                return AVLTree.Node(val)\n            elif val < node.val:\n                node.left = add_rec(node.left)\n            else:\n                node.right = add_rec(node.right)\n            if abs(AVLTree.Node.height(node.left) - AVLTree.Node.height(node.right)) >= 2:\n                AVLTree.rebalance(node)\n            return node\n        self.root = add_rec(self.root)\n        self.size += 1\n        \n    def __delitem__(self, val):\n        assert(val in self)\n        def delitem_rec(node):\n            if val < node.val:\n                node.left = delitem_rec(node.left)\n            elif val > node.val:\n                node.right = delitem_rec(node.right)\n            else:\n                if not node.left and not node.right:\n                    return None\n                elif node.left and not node.right:\n                    return node.left\n                elif node.right and not node.left:\n                    return node.right\n                else:\n                    to_del = node.left\n                    if not to_del.right:\n                        node.left = to_del.left\n                    else:\n                        par = to_del\n                        to_del = par.right\n                        while to_del.right:\n                            par = par.right\n                            to_del = to_del.right\n                        par.right = to_del.left\n                    node.val = to_del.val\n\n            # detect and fix imbalance\n            return node\n                        \n        self.root = delitem_rec(self.root)\n        self.size -= 1",
      "execution_count": null,
      "outputs": []
    },
    {
      "metadata": {
        "state": "normal",
        "trusted": true
      },
      "cell_type": "code",
      "source": "t = AVLTree()\nfor x in [10, 5, 15, 2]:\n    t.add(x)\nt.pprint()",
      "execution_count": null,
      "outputs": []
    },
    {
      "metadata": {
        "state": "normal",
        "trusted": true
      },
      "cell_type": "code",
      "source": "del t[15]\nt.pprint()",
      "execution_count": null,
      "outputs": []
    },
    {
      "metadata": {
        "state": "normal",
        "trusted": true
      },
      "cell_type": "code",
      "source": "t = AVLTree()\nfor x in range(31, 0, -1):\n    t.add(x)\nt.pprint()",
      "execution_count": null,
      "outputs": []
    },
    {
      "metadata": {
        "state": "normal",
        "trusted": true
      },
      "cell_type": "code",
      "source": "del t[15]\ndel t[14]\nt.pprint()",
      "execution_count": null,
      "outputs": []
    },
    {
      "metadata": {
        "state": "normal",
        "trusted": true
      },
      "cell_type": "code",
      "source": "del t[16]\nt.pprint()",
      "execution_count": null,
      "outputs": []
    }
  ],
  "metadata": {
    "kernelspec": {
      "name": "python3",
      "display_name": "Python 3",
      "language": "python"
    },
    "language_info": {
      "name": "python",
      "version": "3.7.3",
      "mimetype": "text/x-python",
      "codemirror_mode": {
        "name": "ipython",
        "version": 3
      },
      "pygments_lexer": "ipython3",
      "nbconvert_exporter": "python",
      "file_extension": ".py"
    },
    "mimir": {
      "project_id": "d81a2e7d-ae5f-47f8-9e72-00d988a83b2e",
      "last_submission_id": "",
      "data": {}
    },
    "varInspector": {
      "window_display": false,
      "cols": {
        "lenName": 16,
        "lenType": 16,
        "lenVar": 40
      },
      "kernels_config": {
        "python": {
          "library": "var_list.py",
          "delete_cmd_prefix": "del ",
          "delete_cmd_postfix": "",
          "varRefreshCmd": "print(var_dic_list())"
        },
        "r": {
          "library": "var_list.r",
          "delete_cmd_prefix": "rm(",
          "delete_cmd_postfix": ") ",
          "varRefreshCmd": "cat(var_dic_list()) "
        }
      },
      "types_to_exclude": [
        "module",
        "function",
        "builtin_function_or_method",
        "instance",
        "_Feature"
      ]
    }
  },
  "nbformat": 4,
  "nbformat_minor": 2
}